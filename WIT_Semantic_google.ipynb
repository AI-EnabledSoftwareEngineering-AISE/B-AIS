{
 "cells": [
  {
   "cell_type": "code",
   "execution_count": 56,
   "id": "indie-ghost",
   "metadata": {},
   "outputs": [
    {
     "name": "stdout",
     "output_type": "stream",
     "text": [
      "Requirement already satisfied: tensorflow-gpu in /home/barzamini/.pyenv/versions/3.7.6/lib/python3.7/site-packages (2.8.0)\n",
      "Requirement already satisfied: google-pasta>=0.1.1 in /home/barzamini/.pyenv/versions/3.7.6/lib/python3.7/site-packages (from tensorflow-gpu) (0.2.0)\n",
      "Requirement already satisfied: setuptools in /home/barzamini/.pyenv/versions/3.7.6/lib/python3.7/site-packages (from tensorflow-gpu) (41.2.0)\n",
      "Requirement already satisfied: tensorflow-io-gcs-filesystem>=0.23.1 in /home/barzamini/.pyenv/versions/3.7.6/lib/python3.7/site-packages (from tensorflow-gpu) (0.24.0)\n",
      "Requirement already satisfied: libclang>=9.0.1 in /home/barzamini/.pyenv/versions/3.7.6/lib/python3.7/site-packages (from tensorflow-gpu) (12.0.0)\n",
      "Requirement already satisfied: six>=1.12.0 in /home/barzamini/.pyenv/versions/3.7.6/lib/python3.7/site-packages (from tensorflow-gpu) (1.15.0)\n",
      "Requirement already satisfied: wrapt>=1.11.0 in /home/barzamini/.pyenv/versions/3.7.6/lib/python3.7/site-packages (from tensorflow-gpu) (1.13.3)\n",
      "Requirement already satisfied: astunparse>=1.6.0 in /home/barzamini/.pyenv/versions/3.7.6/lib/python3.7/site-packages (from tensorflow-gpu) (1.6.3)\n",
      "Requirement already satisfied: numpy>=1.20 in /home/barzamini/.pyenv/versions/3.7.6/lib/python3.7/site-packages (from tensorflow-gpu) (1.20.3)\n",
      "Requirement already satisfied: protobuf>=3.9.2 in /home/barzamini/.pyenv/versions/3.7.6/lib/python3.7/site-packages (from tensorflow-gpu) (3.19.0)\n",
      "Requirement already satisfied: keras-preprocessing>=1.1.1 in /home/barzamini/.pyenv/versions/3.7.6/lib/python3.7/site-packages (from tensorflow-gpu) (1.1.2)\n",
      "Requirement already satisfied: tf-estimator-nightly==2.8.0.dev2021122109 in /home/barzamini/.pyenv/versions/3.7.6/lib/python3.7/site-packages (from tensorflow-gpu) (2.8.0.dev2021122109)\n",
      "Requirement already satisfied: termcolor>=1.1.0 in /home/barzamini/.pyenv/versions/3.7.6/lib/python3.7/site-packages (from tensorflow-gpu) (1.1.0)\n",
      "Requirement already satisfied: gast>=0.2.1 in /home/barzamini/.pyenv/versions/3.7.6/lib/python3.7/site-packages (from tensorflow-gpu) (0.4.0)\n",
      "Requirement already satisfied: typing-extensions>=3.6.6 in /home/barzamini/.pyenv/versions/3.7.6/lib/python3.7/site-packages (from tensorflow-gpu) (3.7.4.3)\n",
      "Requirement already satisfied: tensorboard<2.9,>=2.8 in /home/barzamini/.pyenv/versions/3.7.6/lib/python3.7/site-packages (from tensorflow-gpu) (2.8.0)\n",
      "Requirement already satisfied: h5py>=2.9.0 in /home/barzamini/.pyenv/versions/3.7.6/lib/python3.7/site-packages (from tensorflow-gpu) (3.6.0)\n",
      "Requirement already satisfied: grpcio<2.0,>=1.24.3 in /home/barzamini/.pyenv/versions/3.7.6/lib/python3.7/site-packages (from tensorflow-gpu) (1.42.0)\n",
      "Requirement already satisfied: flatbuffers>=1.12 in /home/barzamini/.pyenv/versions/3.7.6/lib/python3.7/site-packages (from tensorflow-gpu) (2.0)\n",
      "Requirement already satisfied: opt-einsum>=2.3.2 in /home/barzamini/.pyenv/versions/3.7.6/lib/python3.7/site-packages (from tensorflow-gpu) (3.3.0)\n",
      "Requirement already satisfied: keras<2.9,>=2.8.0rc0 in /home/barzamini/.pyenv/versions/3.7.6/lib/python3.7/site-packages (from tensorflow-gpu) (2.8.0)\n",
      "Requirement already satisfied: absl-py>=0.4.0 in /home/barzamini/.pyenv/versions/3.7.6/lib/python3.7/site-packages (from tensorflow-gpu) (1.0.0)\n",
      "Requirement already satisfied: wheel<1.0,>=0.23.0 in /home/barzamini/.pyenv/versions/3.7.6/lib/python3.7/site-packages (from astunparse>=1.6.0->tensorflow-gpu) (0.37.0)\n",
      "Requirement already satisfied: cached-property in /home/barzamini/.pyenv/versions/3.7.6/lib/python3.7/site-packages (from h5py>=2.9.0->tensorflow-gpu) (1.5.2)\n",
      "Requirement already satisfied: google-auth<3,>=1.6.3 in /home/barzamini/.pyenv/versions/3.7.6/lib/python3.7/site-packages (from tensorboard<2.9,>=2.8->tensorflow-gpu) (2.3.1)\n",
      "Requirement already satisfied: google-auth-oauthlib<0.5,>=0.4.1 in /home/barzamini/.pyenv/versions/3.7.6/lib/python3.7/site-packages (from tensorboard<2.9,>=2.8->tensorflow-gpu) (0.4.6)\n",
      "Requirement already satisfied: tensorboard-data-server<0.7.0,>=0.6.0 in /home/barzamini/.pyenv/versions/3.7.6/lib/python3.7/site-packages (from tensorboard<2.9,>=2.8->tensorflow-gpu) (0.6.1)\n",
      "Requirement already satisfied: markdown>=2.6.8 in /home/barzamini/.pyenv/versions/3.7.6/lib/python3.7/site-packages (from tensorboard<2.9,>=2.8->tensorflow-gpu) (3.3.6)\n",
      "Requirement already satisfied: requests<3,>=2.21.0 in /home/barzamini/.pyenv/versions/3.7.6/lib/python3.7/site-packages (from tensorboard<2.9,>=2.8->tensorflow-gpu) (2.26.0)\n",
      "Requirement already satisfied: tensorboard-plugin-wit>=1.6.0 in /home/barzamini/.pyenv/versions/3.7.6/lib/python3.7/site-packages (from tensorboard<2.9,>=2.8->tensorflow-gpu) (1.8.0)\n",
      "Requirement already satisfied: werkzeug>=0.11.15 in /home/barzamini/.pyenv/versions/3.7.6/lib/python3.7/site-packages (from tensorboard<2.9,>=2.8->tensorflow-gpu) (2.0.2)\n",
      "Requirement already satisfied: rsa<5,>=3.1.4 in /home/barzamini/.pyenv/versions/3.7.6/lib/python3.7/site-packages (from google-auth<3,>=1.6.3->tensorboard<2.9,>=2.8->tensorflow-gpu) (4.7.2)\n",
      "Requirement already satisfied: cachetools<5.0,>=2.0.0 in /home/barzamini/.pyenv/versions/3.7.6/lib/python3.7/site-packages (from google-auth<3,>=1.6.3->tensorboard<2.9,>=2.8->tensorflow-gpu) (4.2.4)\n",
      "Requirement already satisfied: pyasn1-modules>=0.2.1 in /home/barzamini/.pyenv/versions/3.7.6/lib/python3.7/site-packages (from google-auth<3,>=1.6.3->tensorboard<2.9,>=2.8->tensorflow-gpu) (0.2.8)\n",
      "Requirement already satisfied: requests-oauthlib>=0.7.0 in /home/barzamini/.pyenv/versions/3.7.6/lib/python3.7/site-packages (from google-auth-oauthlib<0.5,>=0.4.1->tensorboard<2.9,>=2.8->tensorflow-gpu) (1.3.0)\n",
      "Requirement already satisfied: importlib-metadata>=4.4 in /home/barzamini/.pyenv/versions/3.7.6/lib/python3.7/site-packages (from markdown>=2.6.8->tensorboard<2.9,>=2.8->tensorflow-gpu) (4.8.2)\n",
      "Requirement already satisfied: zipp>=0.5 in /home/barzamini/.pyenv/versions/3.7.6/lib/python3.7/site-packages (from importlib-metadata>=4.4->markdown>=2.6.8->tensorboard<2.9,>=2.8->tensorflow-gpu) (3.4.0)\n",
      "Requirement already satisfied: pyasn1<0.5.0,>=0.4.6 in /home/barzamini/.pyenv/versions/3.7.6/lib/python3.7/site-packages (from pyasn1-modules>=0.2.1->google-auth<3,>=1.6.3->tensorboard<2.9,>=2.8->tensorflow-gpu) (0.4.8)\n",
      "Requirement already satisfied: idna<4,>=2.5 in /home/barzamini/.pyenv/versions/3.7.6/lib/python3.7/site-packages (from requests<3,>=2.21.0->tensorboard<2.9,>=2.8->tensorflow-gpu) (2.10)\n",
      "Requirement already satisfied: charset-normalizer~=2.0.0 in /home/barzamini/.pyenv/versions/3.7.6/lib/python3.7/site-packages (from requests<3,>=2.21.0->tensorboard<2.9,>=2.8->tensorflow-gpu) (2.0.7)\n",
      "Requirement already satisfied: certifi>=2017.4.17 in /home/barzamini/.pyenv/versions/3.7.6/lib/python3.7/site-packages (from requests<3,>=2.21.0->tensorboard<2.9,>=2.8->tensorflow-gpu) (2021.10.8)\n",
      "Requirement already satisfied: urllib3<1.27,>=1.21.1 in /home/barzamini/.pyenv/versions/3.7.6/lib/python3.7/site-packages (from requests<3,>=2.21.0->tensorboard<2.9,>=2.8->tensorflow-gpu) (1.26.7)\n",
      "Requirement already satisfied: oauthlib>=3.0.0 in /home/barzamini/.pyenv/versions/3.7.6/lib/python3.7/site-packages (from requests-oauthlib>=0.7.0->google-auth-oauthlib<0.5,>=0.4.1->tensorboard<2.9,>=2.8->tensorflow-gpu) (3.1.1)\n",
      "\u001b[33mWARNING: You are using pip version 20.3.3; however, version 22.0.4 is available.\n",
      "You should consider upgrading via the '/home/barzamini/.pyenv/versions/3.7.6/bin/python3.7 -m pip install --upgrade pip' command.\u001b[0m\n",
      "Requirement already satisfied: tensorflow-hub in /home/barzamini/.pyenv/versions/3.7.6/lib/python3.7/site-packages (0.12.0)\n",
      "Requirement already satisfied: protobuf>=3.8.0 in /home/barzamini/.pyenv/versions/3.7.6/lib/python3.7/site-packages (from tensorflow-hub) (3.19.0)\n",
      "Requirement already satisfied: numpy>=1.12.0 in /home/barzamini/.pyenv/versions/3.7.6/lib/python3.7/site-packages (from tensorflow-hub) (1.20.3)\n",
      "\u001b[33mWARNING: You are using pip version 20.3.3; however, version 22.0.4 is available.\n",
      "You should consider upgrading via the '/home/barzamini/.pyenv/versions/3.7.6/bin/python3.7 -m pip install --upgrade pip' command.\u001b[0m\n",
      "Requirement already satisfied: seaborn in /home/barzamini/.pyenv/versions/3.7.6/lib/python3.7/site-packages (0.11.2)\n",
      "Requirement already satisfied: numpy>=1.15 in /home/barzamini/.pyenv/versions/3.7.6/lib/python3.7/site-packages (from seaborn) (1.20.3)\n",
      "Requirement already satisfied: pandas>=0.23 in /home/barzamini/.pyenv/versions/3.7.6/lib/python3.7/site-packages (from seaborn) (1.3.3)\n",
      "Requirement already satisfied: matplotlib>=2.2 in /home/barzamini/.pyenv/versions/3.7.6/lib/python3.7/site-packages (from seaborn) (3.4.3)\n",
      "Requirement already satisfied: scipy>=1.0 in /home/barzamini/.pyenv/versions/3.7.6/lib/python3.7/site-packages (from seaborn) (1.7.1)\n",
      "Requirement already satisfied: pyparsing>=2.2.1 in /home/barzamini/.pyenv/versions/3.7.6/lib/python3.7/site-packages (from matplotlib>=2.2->seaborn) (2.4.7)\n",
      "Requirement already satisfied: pillow>=6.2.0 in /home/barzamini/.pyenv/versions/3.7.6/lib/python3.7/site-packages (from matplotlib>=2.2->seaborn) (8.3.2)\n",
      "Requirement already satisfied: python-dateutil>=2.7 in /home/barzamini/.pyenv/versions/3.7.6/lib/python3.7/site-packages (from matplotlib>=2.2->seaborn) (2.8.1)\n",
      "Requirement already satisfied: kiwisolver>=1.0.1 in /home/barzamini/.pyenv/versions/3.7.6/lib/python3.7/site-packages (from matplotlib>=2.2->seaborn) (1.3.2)\n",
      "Requirement already satisfied: cycler>=0.10 in /home/barzamini/.pyenv/versions/3.7.6/lib/python3.7/site-packages (from matplotlib>=2.2->seaborn) (0.10.0)\n",
      "Requirement already satisfied: six in /home/barzamini/.pyenv/versions/3.7.6/lib/python3.7/site-packages (from cycler>=0.10->matplotlib>=2.2->seaborn) (1.15.0)\n",
      "Requirement already satisfied: pytz>=2017.3 in /home/barzamini/.pyenv/versions/3.7.6/lib/python3.7/site-packages (from pandas>=0.23->seaborn) (2021.1)\n"
     ]
    },
    {
     "name": "stdout",
     "output_type": "stream",
     "text": [
      "\u001b[33mWARNING: You are using pip version 20.3.3; however, version 22.0.4 is available.\r\n",
      "You should consider upgrading via the '/home/barzamini/.pyenv/versions/3.7.6/bin/python3.7 -m pip install --upgrade pip' command.\u001b[0m\r\n"
     ]
    }
   ],
   "source": [
    "# %%capture\n",
    "# Install the latest Tensorflow version.\n",
    "!pip install --upgrade tensorflow-gpu\n",
    "# Install TF-Hub.\n",
    "!pip install tensorflow-hub\n",
    "!pip install seaborn"
   ]
  },
  {
   "cell_type": "code",
   "execution_count": 1,
   "id": "desperate-printer",
   "metadata": {},
   "outputs": [],
   "source": [
    "from tqdm.notebook import tqdm, trange"
   ]
  },
  {
   "cell_type": "code",
   "execution_count": 2,
   "id": "boring-hanging",
   "metadata": {},
   "outputs": [],
   "source": [
    "tqdm.pandas()"
   ]
  },
  {
   "cell_type": "code",
   "execution_count": 3,
   "id": "successful-antique",
   "metadata": {},
   "outputs": [],
   "source": [
    "import sys"
   ]
  },
  {
   "cell_type": "code",
   "execution_count": 4,
   "id": "40201db0",
   "metadata": {},
   "outputs": [],
   "source": [
    "import glob\n",
    "import nltk\n",
    "from nltk.stem import WordNetLemmatizer\n",
    "from nltk.corpus import wordnet"
   ]
  },
  {
   "cell_type": "code",
   "execution_count": 5,
   "id": "31b85b97",
   "metadata": {},
   "outputs": [],
   "source": [
    "import os\n",
    "import requests\n",
    "\n",
    "# General packages\n",
    "import pandas as pd\n",
    "import numpy as np\n",
    "import matplotlib\n",
    "import matplotlib.pyplot as plt\n",
    "import plotly.graph_objs as go\n",
    "import plotly.express as px\n",
    "import PIL.Image\n",
    "\n",
    "from IPython.display import Image, display\n",
    "import warnings\n",
    "warnings.filterwarnings(\"ignore\")"
   ]
  },
  {
   "cell_type": "code",
   "execution_count": 6,
   "id": "ba4b0b20",
   "metadata": {},
   "outputs": [
    {
     "name": "stderr",
     "output_type": "stream",
     "text": [
      "[nltk_data] Downloading package stopwords to\n",
      "[nltk_data]     /home/barzamini/nltk_data...\n",
      "[nltk_data]   Package stopwords is already up-to-date!\n",
      "[nltk_data] Downloading package punkt to /home/barzamini/nltk_data...\n",
      "[nltk_data]   Package punkt is already up-to-date!\n"
     ]
    },
    {
     "data": {
      "text/plain": [
       "True"
      ]
     },
     "execution_count": 6,
     "metadata": {},
     "output_type": "execute_result"
    }
   ],
   "source": [
    "nltk.download('stopwords')\n",
    "nltk.download('punkt')"
   ]
  },
  {
   "cell_type": "code",
   "execution_count": 7,
   "id": "limiting-karen",
   "metadata": {},
   "outputs": [],
   "source": [
    "def find_gpus(nums=6):\n",
    "    os.system('nvidia-smi -q -d Memory |grep -A4 GPU|grep Free >tmp_free_gpus')\n",
    "    with open('tmp_free_gpus', 'r') as lines_txt:\n",
    "        frees = lines_txt.readlines()\n",
    "        idx_freeMemory_pair = [ (idx,int(x.split()[2]))\n",
    "                              for idx,x in enumerate(frees) ]\n",
    "    idx_freeMemory_pair.sort(key=lambda my_tuple:my_tuple[1],reverse=True)\n",
    "    usingGPUs = [str(idx_memory_pair[0])\n",
    "                    for idx_memory_pair in idx_freeMemory_pair[:nums] ]\n",
    "    usingGPUs =  ','.join(usingGPUs)\n",
    "    print('using GPU idx: #', usingGPUs)\n",
    "    return usingGPUs"
   ]
  },
  {
   "cell_type": "code",
   "execution_count": 8,
   "id": "sophisticated-motion",
   "metadata": {},
   "outputs": [
    {
     "name": "stdout",
     "output_type": "stream",
     "text": [
      "using GPU idx: # 0,1\n"
     ]
    }
   ],
   "source": [
    "os.environ['CUDA_VISIBLE_DEVICES'] = find_gpus(nums=2)"
   ]
  },
  {
   "cell_type": "code",
   "execution_count": 9,
   "id": "clear-optimization",
   "metadata": {},
   "outputs": [],
   "source": [
    "from random import randint\n",
    "\n",
    "import numpy as np\n",
    "# import torch"
   ]
  },
  {
   "cell_type": "code",
   "execution_count": 10,
   "id": "endangered-canvas",
   "metadata": {},
   "outputs": [],
   "source": [
    "#@title Load the Universal Sentence Encoder's TF Hub module\n",
    "from absl import logging\n",
    "\n",
    "import tensorflow as tf\n",
    "import tensorflow_hub as hub\n",
    "import matplotlib.pyplot as plt\n",
    "import numpy as np\n",
    "import os\n",
    "import pandas as pd\n",
    "import re\n",
    "import seaborn as sns"
   ]
  },
  {
   "cell_type": "code",
   "execution_count": 11,
   "id": "atlantic-debut",
   "metadata": {},
   "outputs": [
    {
     "name": "stdout",
     "output_type": "stream",
     "text": [
      "module https://tfhub.dev/google/universal-sentence-encoder/4 loaded\n"
     ]
    }
   ],
   "source": [
    "module_url = \"https://tfhub.dev/google/universal-sentence-encoder/4\" #@param [\"https://tfhub.dev/google/universal-sentence-encoder/4\", \"https://tfhub.dev/google/universal-sentence-encoder-large/5\"]\n",
    "model = hub.load(module_url)\n",
    "print (\"module %s loaded\" % module_url)\n",
    "def embed(input):\n",
    "    return model(input)"
   ]
  },
  {
   "cell_type": "code",
   "execution_count": 12,
   "id": "633eea69",
   "metadata": {},
   "outputs": [
    {
     "name": "stdout",
     "output_type": "stream",
     "text": [
      "['i', 'me', 'my', 'myself', 'we', 'our', 'ours', 'ourselves', 'you', \"you're\", \"you've\", \"you'll\", \"you'd\", 'your', 'yours', 'yourself', 'yourselves', 'he', 'him', 'his', 'himself', 'she', \"she's\", 'her', 'hers', 'herself', 'it', \"it's\", 'its', 'itself', 'they', 'them', 'their', 'theirs', 'themselves', 'what', 'which', 'who', 'whom', 'this', 'that', \"that'll\", 'these', 'those', 'am', 'is', 'are', 'was', 'were', 'be', 'been', 'being', 'have', 'has', 'had', 'having', 'do', 'does', 'did', 'doing', 'a', 'an', 'the', 'and', 'but', 'if', 'or', 'because', 'as', 'until', 'while', 'of', 'at', 'by', 'for', 'with', 'about', 'against', 'between', 'into', 'through', 'during', 'before', 'after', 'above', 'below', 'to', 'from', 'up', 'down', 'in', 'out', 'on', 'off', 'over', 'under', 'again', 'further', 'then', 'once', 'here', 'there', 'when', 'where', 'why', 'how', 'all', 'any', 'both', 'each', 'few', 'more', 'most', 'other', 'some', 'such', 'no', 'nor', 'not', 'only', 'own', 'same', 'so', 'than', 'too', 'very', 's', 't', 'can', 'will', 'just', 'don', \"don't\", 'should', \"should've\", 'now', 'd', 'll', 'm', 'o', 're', 've', 'y', 'ain', 'aren', \"aren't\", 'couldn', \"couldn't\", 'didn', \"didn't\", 'doesn', \"doesn't\", 'hadn', \"hadn't\", 'hasn', \"hasn't\", 'haven', \"haven't\", 'isn', \"isn't\", 'ma', 'mightn', \"mightn't\", 'mustn', \"mustn't\", 'needn', \"needn't\", 'shan', \"shan't\", 'shouldn', \"shouldn't\", 'wasn', \"wasn't\", 'weren', \"weren't\", 'won', \"won't\", 'wouldn', \"wouldn't\"]\n"
     ]
    }
   ],
   "source": [
    "from nltk.corpus import stopwords\n",
    "print(stopwords.words('english'))"
   ]
  },
  {
   "cell_type": "code",
   "execution_count": 13,
   "id": "461f8df0",
   "metadata": {},
   "outputs": [],
   "source": [
    "lemmatizer = WordNetLemmatizer()"
   ]
  },
  {
   "cell_type": "code",
   "execution_count": 14,
   "id": "92ad18f3",
   "metadata": {},
   "outputs": [
    {
     "data": {
      "text/plain": [
       "['wit_v1.train.all-00002-of-00010.tsv.gz',\n",
       " 'wit_v1.train.all-00003-of-00010.tsv.gz',\n",
       " 'wit_v1.train.all-00004-of-00010.tsv.gz',\n",
       " 'wit_v1.train.all-00005-of-00010.tsv.gz',\n",
       " 'wit_v1.train.all-00006-of-00010.tsv.gz',\n",
       " 'wit_v1.train.all-00007-of-00010.tsv.gz',\n",
       " 'wit_v1.train.all-00008-of-00010.tsv.gz',\n",
       " 'wit_v1.train.all-00009-of-00010.tsv.gz',\n",
       " 'wit_v1.train.all-1percent_sample.tsv',\n",
       " 'wit_v1.train.all-00000-of-00010.tsv',\n",
       " 'wit_v1.train.all-00000-of-00010_en_csim.tsv',\n",
       " 'wit_v1.train.all-00001-of-00010.tsv']"
      ]
     },
     "execution_count": 14,
     "metadata": {},
     "output_type": "execute_result"
    }
   ],
   "source": [
    "os.listdir('/raid/AISSEL/Hamed/datasets/wit/')"
   ]
  },
  {
   "cell_type": "code",
   "execution_count": 15,
   "id": "2e5b8e60",
   "metadata": {},
   "outputs": [],
   "source": [
    "root_path = '/raid/AISSEL/Hamed/datasets/wit'"
   ]
  },
  {
   "cell_type": "code",
   "execution_count": null,
   "id": "482d8694",
   "metadata": {},
   "outputs": [],
   "source": [
    "! gzip -d '/raid/AISSEL/Hamed/datasets/wit/wit_v1.train.all-1percent_sample.tsv.gz'"
   ]
  },
  {
   "cell_type": "code",
   "execution_count": 16,
   "id": "double-feature",
   "metadata": {},
   "outputs": [],
   "source": [
    "! gzip -d '/raid/AISSEL/Hamed/datasets/wit/wit_v1.train.all-00000-of-00010.tsv.gz'"
   ]
  },
  {
   "cell_type": "code",
   "execution_count": 18,
   "id": "83790db2",
   "metadata": {},
   "outputs": [
    {
     "data": {
      "text/html": [
       "<div>\n",
       "<style scoped>\n",
       "    .dataframe tbody tr th:only-of-type {\n",
       "        vertical-align: middle;\n",
       "    }\n",
       "\n",
       "    .dataframe tbody tr th {\n",
       "        vertical-align: top;\n",
       "    }\n",
       "\n",
       "    .dataframe thead th {\n",
       "        text-align: right;\n",
       "    }\n",
       "</style>\n",
       "<table border=\"1\" class=\"dataframe\">\n",
       "  <thead>\n",
       "    <tr style=\"text-align: right;\">\n",
       "      <th></th>\n",
       "      <th>language</th>\n",
       "      <th>page_url</th>\n",
       "      <th>image_url</th>\n",
       "      <th>page_title</th>\n",
       "      <th>section_title</th>\n",
       "      <th>hierarchical_section_title</th>\n",
       "      <th>caption_reference_description</th>\n",
       "      <th>caption_attribution_description</th>\n",
       "      <th>caption_alt_text_description</th>\n",
       "      <th>mime_type</th>\n",
       "      <th>original_height</th>\n",
       "      <th>original_width</th>\n",
       "      <th>is_main_image</th>\n",
       "      <th>attribution_passes_lang_id</th>\n",
       "      <th>page_changed_recently</th>\n",
       "      <th>context_page_description</th>\n",
       "      <th>context_section_description</th>\n",
       "    </tr>\n",
       "  </thead>\n",
       "  <tbody>\n",
       "    <tr>\n",
       "      <th>0</th>\n",
       "      <td>en</td>\n",
       "      <td>https://en.wikipedia.org/wiki/Oxydactylus</td>\n",
       "      <td>https://upload.wikimedia.org/wikipedia/commons...</td>\n",
       "      <td>Oxydactylus</td>\n",
       "      <td>NaN</td>\n",
       "      <td>Oxydactylus</td>\n",
       "      <td>NaN</td>\n",
       "      <td>English: Mounted skeleton of Oxydactylus longi...</td>\n",
       "      <td>NaN</td>\n",
       "      <td>image/jpeg</td>\n",
       "      <td>3564</td>\n",
       "      <td>2748</td>\n",
       "      <td>True</td>\n",
       "      <td>True</td>\n",
       "      <td>False</td>\n",
       "      <td>Oxydactylus is an extinct genus of camelid end...</td>\n",
       "      <td>Oxydactylus is an extinct genus of camelid end...</td>\n",
       "    </tr>\n",
       "    <tr>\n",
       "      <th>1</th>\n",
       "      <td>cs</td>\n",
       "      <td>https://cs.wikipedia.org/wiki/Mechanick%C3%A1_...</td>\n",
       "      <td>http://upload.wikimedia.org/wikipedia/commons/...</td>\n",
       "      <td>Mechanická mířidla</td>\n",
       "      <td>NaN</td>\n",
       "      <td>Mechanická mířidla</td>\n",
       "      <td>Mechanická mířidla na útočné pušce M16</td>\n",
       "      <td>M16 rifle correct sight picture</td>\n",
       "      <td>NaN</td>\n",
       "      <td>image/png</td>\n",
       "      <td>606</td>\n",
       "      <td>1182</td>\n",
       "      <td>False</td>\n",
       "      <td>False</td>\n",
       "      <td>False</td>\n",
       "      <td>Mechanická mířidla je zařízení určené pro zamí...</td>\n",
       "      <td>Mechanická mířidla je zařízení určené pro zamí...</td>\n",
       "    </tr>\n",
       "    <tr>\n",
       "      <th>2</th>\n",
       "      <td>sq</td>\n",
       "      <td>https://sq.wikipedia.org/wiki/Mjedisi_natyror</td>\n",
       "      <td>https://upload.wikimedia.org/wikipedia/commons...</td>\n",
       "      <td>Mjedisi natyror</td>\n",
       "      <td>NaN</td>\n",
       "      <td>Mjedisi natyror</td>\n",
       "      <td>Menaxhimi i ujërave dhe tokës ka ruajtur karak...</td>\n",
       "      <td>English: Hopetoun Falls, Beech Forest, near Ot...</td>\n",
       "      <td>NaN</td>\n",
       "      <td>image/jpeg</td>\n",
       "      <td>2048</td>\n",
       "      <td>3072</td>\n",
       "      <td>False</td>\n",
       "      <td>False</td>\n",
       "      <td>True</td>\n",
       "      <td>Mjedis natyror quhet vendi, njerëzit, gjërat, ...</td>\n",
       "      <td>Mjedis natyror quhet vendi, njerëzit, gjërat, ...</td>\n",
       "    </tr>\n",
       "    <tr>\n",
       "      <th>3</th>\n",
       "      <td>nl</td>\n",
       "      <td>https://nl.wikipedia.org/wiki/Zeesterren</td>\n",
       "      <td>http://upload.wikimedia.org/wikipedia/commons/...</td>\n",
       "      <td>Zeesterren</td>\n",
       "      <td>Armen</td>\n",
       "      <td>Zeesterren / Uiterlijke kenmerken / Armen</td>\n",
       "      <td>Voorzijde van een arm met buisvoetjes aan de o...</td>\n",
       "      <td>Français&amp;#160;: Marthasteria glacialis (Linnae...</td>\n",
       "      <td>NaN</td>\n",
       "      <td>image/jpeg</td>\n",
       "      <td>2112</td>\n",
       "      <td>3200</td>\n",
       "      <td>False</td>\n",
       "      <td>True</td>\n",
       "      <td>False</td>\n",
       "      <td>Zeesterren zijn een groep van ongewervelde die...</td>\n",
       "      <td>De armen van de zeester moeten niet gezien wor...</td>\n",
       "    </tr>\n",
       "    <tr>\n",
       "      <th>4</th>\n",
       "      <td>de</td>\n",
       "      <td>https://de.wikipedia.org/wiki/Friedrich_von_%C...</td>\n",
       "      <td>https://upload.wikimedia.org/wikipedia/commons...</td>\n",
       "      <td>Friedrich von Österreich-Teschen</td>\n",
       "      <td>Erster Weltkrieg</td>\n",
       "      <td>Friedrich von Österreich-Teschen / Erster Welt...</td>\n",
       "      <td>Denkmal Erzherzog Friedrichs in Mosonmagyaróva...</td>\n",
       "      <td>English: Monument to Frederic Habsburg, Mosonm...</td>\n",
       "      <td>NaN</td>\n",
       "      <td>image/jpeg</td>\n",
       "      <td>2043</td>\n",
       "      <td>1570</td>\n",
       "      <td>False</td>\n",
       "      <td>False</td>\n",
       "      <td>False</td>\n",
       "      <td>Erzherzog Friedrich Maria Albrecht Wilhelm Kar...</td>\n",
       "      <td>Friedrich sollte 1914 wegen seiner Disharmonie...</td>\n",
       "    </tr>\n",
       "    <tr>\n",
       "      <th>...</th>\n",
       "      <td>...</td>\n",
       "      <td>...</td>\n",
       "      <td>...</td>\n",
       "      <td>...</td>\n",
       "      <td>...</td>\n",
       "      <td>...</td>\n",
       "      <td>...</td>\n",
       "      <td>...</td>\n",
       "      <td>...</td>\n",
       "      <td>...</td>\n",
       "      <td>...</td>\n",
       "      <td>...</td>\n",
       "      <td>...</td>\n",
       "      <td>...</td>\n",
       "      <td>...</td>\n",
       "      <td>...</td>\n",
       "      <td>...</td>\n",
       "    </tr>\n",
       "    <tr>\n",
       "      <th>3708021</th>\n",
       "      <td>it</td>\n",
       "      <td>https://it.wikipedia.org/wiki/Tahiridi</td>\n",
       "      <td>https://upload.wikimedia.org/wikipedia/commons...</td>\n",
       "      <td>Tahiridi</td>\n",
       "      <td>NaN</td>\n",
       "      <td>Tahiridi</td>\n",
       "      <td>Mappa del Khorasan e delle altre province gove...</td>\n",
       "      <td>NaN</td>\n",
       "      <td>NaN</td>\n",
       "      <td>image/svg+xml</td>\n",
       "      <td>1200</td>\n",
       "      <td>1500</td>\n",
       "      <td>False</td>\n",
       "      <td>False</td>\n",
       "      <td>False</td>\n",
       "      <td>La dinastia Tahiride è stata la prima dinastia...</td>\n",
       "      <td>La dinastia Tahiride è stata la prima dinastia...</td>\n",
       "    </tr>\n",
       "    <tr>\n",
       "      <th>3708022</th>\n",
       "      <td>pl</td>\n",
       "      <td>https://pl.wikipedia.org/wiki/Menachem_Jedid</td>\n",
       "      <td>https://upload.wikimedia.org/wikipedia/commons...</td>\n",
       "      <td>Menachem Jedid</td>\n",
       "      <td>NaN</td>\n",
       "      <td>Menachem Jedid</td>\n",
       "      <td>NaN</td>\n",
       "      <td>English: Portrait of Knesset member Menachem Y...</td>\n",
       "      <td>Ilustracja</td>\n",
       "      <td>image/jpeg</td>\n",
       "      <td>3072</td>\n",
       "      <td>2048</td>\n",
       "      <td>True</td>\n",
       "      <td>False</td>\n",
       "      <td>False</td>\n",
       "      <td>Menachem Jedid – izraelski działacz społeczny ...</td>\n",
       "      <td>Menachem Jedid (hebr.: מנחם ידיד, ang.: Menahe...</td>\n",
       "    </tr>\n",
       "    <tr>\n",
       "      <th>3708023</th>\n",
       "      <td>sv</td>\n",
       "      <td>https://sv.wikipedia.org/wiki/Maignelay-Montigny</td>\n",
       "      <td>https://upload.wikimedia.org/wikipedia/commons...</td>\n",
       "      <td>Maignelay-Montigny</td>\n",
       "      <td>NaN</td>\n",
       "      <td>Maignelay-Montigny</td>\n",
       "      <td>NaN</td>\n",
       "      <td>Maignelay-Montigny (Oise, France) - L'entrée d...</td>\n",
       "      <td>NaN</td>\n",
       "      <td>image/jpeg</td>\n",
       "      <td>2010</td>\n",
       "      <td>2739</td>\n",
       "      <td>True</td>\n",
       "      <td>False</td>\n",
       "      <td>False</td>\n",
       "      <td>Maignelay-Montigny är en kommun i departemente...</td>\n",
       "      <td>Maignelay-Montigny är en kommun i departemente...</td>\n",
       "    </tr>\n",
       "    <tr>\n",
       "      <th>3708024</th>\n",
       "      <td>de</td>\n",
       "      <td>https://de.wikipedia.org/wiki/Taubenhaus_Dobra...</td>\n",
       "      <td>https://upload.wikimedia.org/wikipedia/commons...</td>\n",
       "      <td>Taubenhaus Dobra (Bad Liebenwerda)</td>\n",
       "      <td>NaN</td>\n",
       "      <td>Taubenhaus Dobra (Bad Liebenwerda)</td>\n",
       "      <td>Taubenhaus Dobra</td>\n",
       "      <td>Deutsch: Taubenhaus Dobra (Bad Liebenwerda)</td>\n",
       "      <td>NaN</td>\n",
       "      <td>image/jpeg</td>\n",
       "      <td>4608</td>\n",
       "      <td>3456</td>\n",
       "      <td>False</td>\n",
       "      <td>True</td>\n",
       "      <td>False</td>\n",
       "      <td>Das Taubenhaus befindet sich unweit der Dorfki...</td>\n",
       "      <td>Das Taubenhaus befindet sich unweit der Dorfki...</td>\n",
       "    </tr>\n",
       "    <tr>\n",
       "      <th>3708025</th>\n",
       "      <td>it</td>\n",
       "      <td>https://it.wikipedia.org/wiki/Paris_Barclay</td>\n",
       "      <td>http://upload.wikimedia.org/wikipedia/commons/...</td>\n",
       "      <td>Paris Barclay</td>\n",
       "      <td>NaN</td>\n",
       "      <td>Paris Barclay</td>\n",
       "      <td>Paris K. C. Barclay</td>\n",
       "      <td>English: Paris Barclay at Warner Bros. backlot.</td>\n",
       "      <td>NaN</td>\n",
       "      <td>image/png</td>\n",
       "      <td>2620</td>\n",
       "      <td>3931</td>\n",
       "      <td>False</td>\n",
       "      <td>False</td>\n",
       "      <td>False</td>\n",
       "      <td>Paris K. C. Barclay è un produttore televisivo...</td>\n",
       "      <td>Paris K. C. Barclay (Chicago, 30 giugno 1956) ...</td>\n",
       "    </tr>\n",
       "  </tbody>\n",
       "</table>\n",
       "<p>3708026 rows × 17 columns</p>\n",
       "</div>"
      ],
      "text/plain": [
       "        language                                           page_url  \\\n",
       "0             en          https://en.wikipedia.org/wiki/Oxydactylus   \n",
       "1             cs  https://cs.wikipedia.org/wiki/Mechanick%C3%A1_...   \n",
       "2             sq      https://sq.wikipedia.org/wiki/Mjedisi_natyror   \n",
       "3             nl           https://nl.wikipedia.org/wiki/Zeesterren   \n",
       "4             de  https://de.wikipedia.org/wiki/Friedrich_von_%C...   \n",
       "...          ...                                                ...   \n",
       "3708021       it             https://it.wikipedia.org/wiki/Tahiridi   \n",
       "3708022       pl       https://pl.wikipedia.org/wiki/Menachem_Jedid   \n",
       "3708023       sv   https://sv.wikipedia.org/wiki/Maignelay-Montigny   \n",
       "3708024       de  https://de.wikipedia.org/wiki/Taubenhaus_Dobra...   \n",
       "3708025       it        https://it.wikipedia.org/wiki/Paris_Barclay   \n",
       "\n",
       "                                                 image_url  \\\n",
       "0        https://upload.wikimedia.org/wikipedia/commons...   \n",
       "1        http://upload.wikimedia.org/wikipedia/commons/...   \n",
       "2        https://upload.wikimedia.org/wikipedia/commons...   \n",
       "3        http://upload.wikimedia.org/wikipedia/commons/...   \n",
       "4        https://upload.wikimedia.org/wikipedia/commons...   \n",
       "...                                                    ...   \n",
       "3708021  https://upload.wikimedia.org/wikipedia/commons...   \n",
       "3708022  https://upload.wikimedia.org/wikipedia/commons...   \n",
       "3708023  https://upload.wikimedia.org/wikipedia/commons...   \n",
       "3708024  https://upload.wikimedia.org/wikipedia/commons...   \n",
       "3708025  http://upload.wikimedia.org/wikipedia/commons/...   \n",
       "\n",
       "                                 page_title     section_title  \\\n",
       "0                               Oxydactylus               NaN   \n",
       "1                        Mechanická mířidla               NaN   \n",
       "2                           Mjedisi natyror               NaN   \n",
       "3                                Zeesterren             Armen   \n",
       "4          Friedrich von Österreich-Teschen  Erster Weltkrieg   \n",
       "...                                     ...               ...   \n",
       "3708021                            Tahiridi               NaN   \n",
       "3708022                      Menachem Jedid               NaN   \n",
       "3708023                  Maignelay-Montigny               NaN   \n",
       "3708024  Taubenhaus Dobra (Bad Liebenwerda)               NaN   \n",
       "3708025                       Paris Barclay               NaN   \n",
       "\n",
       "                                hierarchical_section_title  \\\n",
       "0                                              Oxydactylus   \n",
       "1                                       Mechanická mířidla   \n",
       "2                                          Mjedisi natyror   \n",
       "3                Zeesterren / Uiterlijke kenmerken / Armen   \n",
       "4        Friedrich von Österreich-Teschen / Erster Welt...   \n",
       "...                                                    ...   \n",
       "3708021                                           Tahiridi   \n",
       "3708022                                     Menachem Jedid   \n",
       "3708023                                 Maignelay-Montigny   \n",
       "3708024                 Taubenhaus Dobra (Bad Liebenwerda)   \n",
       "3708025                                      Paris Barclay   \n",
       "\n",
       "                             caption_reference_description  \\\n",
       "0                                                      NaN   \n",
       "1                   Mechanická mířidla na útočné pušce M16   \n",
       "2        Menaxhimi i ujërave dhe tokës ka ruajtur karak...   \n",
       "3        Voorzijde van een arm met buisvoetjes aan de o...   \n",
       "4        Denkmal Erzherzog Friedrichs in Mosonmagyaróva...   \n",
       "...                                                    ...   \n",
       "3708021  Mappa del Khorasan e delle altre province gove...   \n",
       "3708022                                                NaN   \n",
       "3708023                                                NaN   \n",
       "3708024                                   Taubenhaus Dobra   \n",
       "3708025                                Paris K. C. Barclay   \n",
       "\n",
       "                           caption_attribution_description  \\\n",
       "0        English: Mounted skeleton of Oxydactylus longi...   \n",
       "1                          M16 rifle correct sight picture   \n",
       "2        English: Hopetoun Falls, Beech Forest, near Ot...   \n",
       "3        Français&#160;: Marthasteria glacialis (Linnae...   \n",
       "4        English: Monument to Frederic Habsburg, Mosonm...   \n",
       "...                                                    ...   \n",
       "3708021                                                NaN   \n",
       "3708022  English: Portrait of Knesset member Menachem Y...   \n",
       "3708023  Maignelay-Montigny (Oise, France) - L'entrée d...   \n",
       "3708024        Deutsch: Taubenhaus Dobra (Bad Liebenwerda)   \n",
       "3708025    English: Paris Barclay at Warner Bros. backlot.   \n",
       "\n",
       "        caption_alt_text_description      mime_type  original_height  \\\n",
       "0                                NaN     image/jpeg             3564   \n",
       "1                                NaN      image/png              606   \n",
       "2                                NaN     image/jpeg             2048   \n",
       "3                                NaN     image/jpeg             2112   \n",
       "4                                NaN     image/jpeg             2043   \n",
       "...                              ...            ...              ...   \n",
       "3708021                          NaN  image/svg+xml             1200   \n",
       "3708022                   Ilustracja     image/jpeg             3072   \n",
       "3708023                          NaN     image/jpeg             2010   \n",
       "3708024                          NaN     image/jpeg             4608   \n",
       "3708025                          NaN      image/png             2620   \n",
       "\n",
       "         original_width  is_main_image  attribution_passes_lang_id  \\\n",
       "0                  2748           True                        True   \n",
       "1                  1182          False                       False   \n",
       "2                  3072          False                       False   \n",
       "3                  3200          False                        True   \n",
       "4                  1570          False                       False   \n",
       "...                 ...            ...                         ...   \n",
       "3708021            1500          False                       False   \n",
       "3708022            2048           True                       False   \n",
       "3708023            2739           True                       False   \n",
       "3708024            3456          False                        True   \n",
       "3708025            3931          False                       False   \n",
       "\n",
       "         page_changed_recently  \\\n",
       "0                        False   \n",
       "1                        False   \n",
       "2                         True   \n",
       "3                        False   \n",
       "4                        False   \n",
       "...                        ...   \n",
       "3708021                  False   \n",
       "3708022                  False   \n",
       "3708023                  False   \n",
       "3708024                  False   \n",
       "3708025                  False   \n",
       "\n",
       "                                  context_page_description  \\\n",
       "0        Oxydactylus is an extinct genus of camelid end...   \n",
       "1        Mechanická mířidla je zařízení určené pro zamí...   \n",
       "2        Mjedis natyror quhet vendi, njerëzit, gjërat, ...   \n",
       "3        Zeesterren zijn een groep van ongewervelde die...   \n",
       "4        Erzherzog Friedrich Maria Albrecht Wilhelm Kar...   \n",
       "...                                                    ...   \n",
       "3708021  La dinastia Tahiride è stata la prima dinastia...   \n",
       "3708022  Menachem Jedid – izraelski działacz społeczny ...   \n",
       "3708023  Maignelay-Montigny är en kommun i departemente...   \n",
       "3708024  Das Taubenhaus befindet sich unweit der Dorfki...   \n",
       "3708025  Paris K. C. Barclay è un produttore televisivo...   \n",
       "\n",
       "                               context_section_description  \n",
       "0        Oxydactylus is an extinct genus of camelid end...  \n",
       "1        Mechanická mířidla je zařízení určené pro zamí...  \n",
       "2        Mjedis natyror quhet vendi, njerëzit, gjërat, ...  \n",
       "3        De armen van de zeester moeten niet gezien wor...  \n",
       "4        Friedrich sollte 1914 wegen seiner Disharmonie...  \n",
       "...                                                    ...  \n",
       "3708021  La dinastia Tahiride è stata la prima dinastia...  \n",
       "3708022  Menachem Jedid (hebr.: מנחם ידיד, ang.: Menahe...  \n",
       "3708023  Maignelay-Montigny är en kommun i departemente...  \n",
       "3708024  Das Taubenhaus befindet sich unweit der Dorfki...  \n",
       "3708025  Paris K. C. Barclay (Chicago, 30 giugno 1956) ...  \n",
       "\n",
       "[3708026 rows x 17 columns]"
      ]
     },
     "execution_count": 18,
     "metadata": {},
     "output_type": "execute_result"
    }
   ],
   "source": [
    "df = pd.read_csv(f'{root_path}/wit_v1.train.all-00000-of-00010.tsv', sep='\\t')\n",
    "df"
   ]
  },
  {
   "cell_type": "code",
   "execution_count": 16,
   "id": "familiar-magnet",
   "metadata": {},
   "outputs": [
    {
     "data": {
      "text/html": [
       "<div>\n",
       "<style scoped>\n",
       "    .dataframe tbody tr th:only-of-type {\n",
       "        vertical-align: middle;\n",
       "    }\n",
       "\n",
       "    .dataframe tbody tr th {\n",
       "        vertical-align: top;\n",
       "    }\n",
       "\n",
       "    .dataframe thead th {\n",
       "        text-align: right;\n",
       "    }\n",
       "</style>\n",
       "<table border=\"1\" class=\"dataframe\">\n",
       "  <thead>\n",
       "    <tr style=\"text-align: right;\">\n",
       "      <th></th>\n",
       "      <th>language</th>\n",
       "      <th>page_url</th>\n",
       "      <th>image_url</th>\n",
       "      <th>page_title</th>\n",
       "      <th>section_title</th>\n",
       "      <th>hierarchical_section_title</th>\n",
       "      <th>caption_reference_description</th>\n",
       "      <th>caption_attribution_description</th>\n",
       "      <th>caption_alt_text_description</th>\n",
       "      <th>mime_type</th>\n",
       "      <th>original_height</th>\n",
       "      <th>original_width</th>\n",
       "      <th>is_main_image</th>\n",
       "      <th>attribution_passes_lang_id</th>\n",
       "      <th>page_changed_recently</th>\n",
       "      <th>context_page_description</th>\n",
       "      <th>context_section_description</th>\n",
       "    </tr>\n",
       "  </thead>\n",
       "  <tbody>\n",
       "    <tr>\n",
       "      <th>0</th>\n",
       "      <td>es</td>\n",
       "      <td>https://es.wikipedia.org/wiki/Hoz_y_martillo</td>\n",
       "      <td>https://upload.wikimedia.org/wikipedia/commons...</td>\n",
       "      <td>Hoz y martillo</td>\n",
       "      <td>Emblemas</td>\n",
       "      <td>Hoz y martillo / Galería / Emblemas</td>\n",
       "      <td>NaN</td>\n",
       "      <td>Galego: Logo do Movemento Galego ao Socialismo</td>\n",
       "      <td>NaN</td>\n",
       "      <td>image/jpeg</td>\n",
       "      <td>107</td>\n",
       "      <td>272</td>\n",
       "      <td>False</td>\n",
       "      <td>False</td>\n",
       "      <td>True</td>\n",
       "      <td>La hoz y el martillo es un símbolo que represe...</td>\n",
       "      <td>NaN</td>\n",
       "    </tr>\n",
       "    <tr>\n",
       "      <th>1</th>\n",
       "      <td>de</td>\n",
       "      <td>https://de.wikipedia.org/wiki/Kleines_Hasenmaul</td>\n",
       "      <td>https://upload.wikimedia.org/wikipedia/commons...</td>\n",
       "      <td>Kleines Hasenmaul</td>\n",
       "      <td>NaN</td>\n",
       "      <td>Kleines Hasenmaul</td>\n",
       "      <td>NaN</td>\n",
       "      <td>English: Lesser bulldog bat (Noctilio albivent...</td>\n",
       "      <td>NaN</td>\n",
       "      <td>image/jpeg</td>\n",
       "      <td>1636</td>\n",
       "      <td>2000</td>\n",
       "      <td>True</td>\n",
       "      <td>False</td>\n",
       "      <td>False</td>\n",
       "      <td>Das Kleine Hasenmaul ist eine Fledermausart au...</td>\n",
       "      <td>Das Kleine Hasenmaul (Noctilio albiventris) is...</td>\n",
       "    </tr>\n",
       "    <tr>\n",
       "      <th>2</th>\n",
       "      <td>ru</td>\n",
       "      <td>https://ru.wikipedia.org/wiki/%D0%A3%D0%BA%D1%...</td>\n",
       "      <td>https://upload.wikimedia.org/wikipedia/commons...</td>\n",
       "      <td>Украинская гривна</td>\n",
       "      <td>Изъятые из обращения монеты</td>\n",
       "      <td>Украинская гривна / Монеты / Изъятые из обраще...</td>\n",
       "      <td>NaN</td>\n",
       "      <td>English: Coin of Ukraine Русский: Юбилейная мо...</td>\n",
       "      <td>NaN</td>\n",
       "      <td>image/jpeg</td>\n",
       "      <td>193</td>\n",
       "      <td>200</td>\n",
       "      <td>False</td>\n",
       "      <td>True</td>\n",
       "      <td>True</td>\n",
       "      <td>Гри́вна — национальная валюта Украины, названн...</td>\n",
       "      <td>С 1 июля 2018 года прекращён дополнительный вы...</td>\n",
       "    </tr>\n",
       "    <tr>\n",
       "      <th>3</th>\n",
       "      <td>ru</td>\n",
       "      <td>https://ru.wikipedia.org/wiki/%D0%9C%D0%B5%D0%...</td>\n",
       "      <td>http://upload.wikimedia.org/wikipedia/commons/...</td>\n",
       "      <td>Менделеево (Московская область)</td>\n",
       "      <td>NaN</td>\n",
       "      <td>Менделеево (Московская область)</td>\n",
       "      <td>NaN</td>\n",
       "      <td>English: mendeleevo</td>\n",
       "      <td>NaN</td>\n",
       "      <td>image/jpeg</td>\n",
       "      <td>1877</td>\n",
       "      <td>2756</td>\n",
       "      <td>True</td>\n",
       "      <td>True</td>\n",
       "      <td>False</td>\n",
       "      <td>Менделе́ево — посёлок городского типа Московск...</td>\n",
       "      <td>Менделе́ево — посёлок городского типа Московск...</td>\n",
       "    </tr>\n",
       "    <tr>\n",
       "      <th>4</th>\n",
       "      <td>sw</td>\n",
       "      <td>https://sw.wikipedia.org/wiki/Brookline,_Massa...</td>\n",
       "      <td>https://upload.wikimedia.org/wikipedia/commons...</td>\n",
       "      <td>Brookline, Massachusetts</td>\n",
       "      <td>NaN</td>\n",
       "      <td>Brookline, Massachusetts</td>\n",
       "      <td>Sehemu za Mji wa Brookline, Massachusetts</td>\n",
       "      <td>English: Brookline MA August 2015 Photo Collage 2</td>\n",
       "      <td>NaN</td>\n",
       "      <td>image/jpeg</td>\n",
       "      <td>1936</td>\n",
       "      <td>1936</td>\n",
       "      <td>False</td>\n",
       "      <td>False</td>\n",
       "      <td>True</td>\n",
       "      <td>Brookline ni mji wa Marekani katika jimbo la M...</td>\n",
       "      <td>Brookline ni mji wa Marekani katika jimbo la M...</td>\n",
       "    </tr>\n",
       "    <tr>\n",
       "      <th>...</th>\n",
       "      <td>...</td>\n",
       "      <td>...</td>\n",
       "      <td>...</td>\n",
       "      <td>...</td>\n",
       "      <td>...</td>\n",
       "      <td>...</td>\n",
       "      <td>...</td>\n",
       "      <td>...</td>\n",
       "      <td>...</td>\n",
       "      <td>...</td>\n",
       "      <td>...</td>\n",
       "      <td>...</td>\n",
       "      <td>...</td>\n",
       "      <td>...</td>\n",
       "      <td>...</td>\n",
       "      <td>...</td>\n",
       "      <td>...</td>\n",
       "    </tr>\n",
       "    <tr>\n",
       "      <th>370368</th>\n",
       "      <td>en</td>\n",
       "      <td>https://en.wikipedia.org/wiki/Suillus_quiescens</td>\n",
       "      <td>https://upload.wikimedia.org/wikipedia/commons...</td>\n",
       "      <td>Suillus quiescens</td>\n",
       "      <td>Habitat and distribution</td>\n",
       "      <td>Suillus quiescens / Habitat and distribution</td>\n",
       "      <td>S. quiescens forms mycorrhizal associations wi...</td>\n",
       "      <td>English: Pinus muricata at the Dundee Botanic ...</td>\n",
       "      <td>NaN</td>\n",
       "      <td>image/jpeg</td>\n",
       "      <td>2048</td>\n",
       "      <td>1536</td>\n",
       "      <td>False</td>\n",
       "      <td>True</td>\n",
       "      <td>False</td>\n",
       "      <td>Suillus quiescens is a pored mushroom of the g...</td>\n",
       "      <td>Fruit bodies grow together in small groups on ...</td>\n",
       "    </tr>\n",
       "    <tr>\n",
       "      <th>370369</th>\n",
       "      <td>fa</td>\n",
       "      <td>https://fa.wikipedia.org/wiki/%D8%A7%DA%A9%DB%...</td>\n",
       "      <td>https://upload.wikimedia.org/wikipedia/commons...</td>\n",
       "      <td>اکیر ترکی</td>\n",
       "      <td>NaN</td>\n",
       "      <td>اکیر ترکی</td>\n",
       "      <td>NaN</td>\n",
       "      <td>Species&amp;#160; Acorus calamus Family&amp;#160; Acor...</td>\n",
       "      <td>NaN</td>\n",
       "      <td>image/jpeg</td>\n",
       "      <td>1119</td>\n",
       "      <td>1650</td>\n",
       "      <td>True</td>\n",
       "      <td>False</td>\n",
       "      <td>False</td>\n",
       "      <td>اکیر ترکی نام یک سرده از گیاهان است.\\nاین سرده...</td>\n",
       "      <td>اکیر ترکی (نام علمی: Acorus) نام یک سرده از گی...</td>\n",
       "    </tr>\n",
       "    <tr>\n",
       "      <th>370370</th>\n",
       "      <td>de</td>\n",
       "      <td>https://de.wikipedia.org/wiki/Fauler_See_(Schw...</td>\n",
       "      <td>http://upload.wikimedia.org/wikipedia/commons/...</td>\n",
       "      <td>Fauler See (Schwerin)</td>\n",
       "      <td>NaN</td>\n",
       "      <td>Fauler See (Schwerin)</td>\n",
       "      <td>NaN</td>\n",
       "      <td>Lage der Seen in Schwerin, Position of the lak...</td>\n",
       "      <td>NaN</td>\n",
       "      <td>image/png</td>\n",
       "      <td>564</td>\n",
       "      <td>988</td>\n",
       "      <td>True</td>\n",
       "      <td>True</td>\n",
       "      <td>True</td>\n",
       "      <td>Der Faule See befindet sich in der mecklenburg...</td>\n",
       "      <td>Der Faule See befindet sich in der mecklenburg...</td>\n",
       "    </tr>\n",
       "    <tr>\n",
       "      <th>370371</th>\n",
       "      <td>ko</td>\n",
       "      <td>https://ko.wikipedia.org/wiki/%EB%8C%80%ED%95%...</td>\n",
       "      <td>https://upload.wikimedia.org/wikipedia/commons...</td>\n",
       "      <td>대한출판문화협회</td>\n",
       "      <td>NaN</td>\n",
       "      <td>대한출판문화협회</td>\n",
       "      <td>고영수 회장 (2015 서울국제도서전 개최 기념 기자간담회)</td>\n",
       "      <td>한국어: 2015 서울국제도서전 개최 기념 기자간담회 (고영수 회장)</td>\n",
       "      <td>NaN</td>\n",
       "      <td>image/jpeg</td>\n",
       "      <td>323</td>\n",
       "      <td>365</td>\n",
       "      <td>False</td>\n",
       "      <td>True</td>\n",
       "      <td>False</td>\n",
       "      <td>대한출판문화협회는 출판산업의 건전한 발전도모, 출판문화의 사명달성으로 문화 향상에 ...</td>\n",
       "      <td>대한출판문화협회는 출판산업의 건전한 발전도모, 출판문화의 사명달성으로 문화 향상에 ...</td>\n",
       "    </tr>\n",
       "    <tr>\n",
       "      <th>370372</th>\n",
       "      <td>eo</td>\n",
       "      <td>https://eo.wikipedia.org/wiki/M%C3%B6nkloh</td>\n",
       "      <td>https://upload.wikimedia.org/wikipedia/commons...</td>\n",
       "      <td>Mönkloh</td>\n",
       "      <td>Bildoj</td>\n",
       "      <td>Mönkloh / Bildoj</td>\n",
       "      <td>NaN</td>\n",
       "      <td>Kunst im öffentlichen Raum in Mönkloh mit eine...</td>\n",
       "      <td>NaN</td>\n",
       "      <td>image/jpeg</td>\n",
       "      <td>4000</td>\n",
       "      <td>6000</td>\n",
       "      <td>False</td>\n",
       "      <td>False</td>\n",
       "      <td>False</td>\n",
       "      <td>Mönkloh estas komunumo en Germanio. Ĝi troviĝa...</td>\n",
       "      <td>NaN</td>\n",
       "    </tr>\n",
       "  </tbody>\n",
       "</table>\n",
       "<p>370373 rows × 17 columns</p>\n",
       "</div>"
      ],
      "text/plain": [
       "       language                                           page_url  \\\n",
       "0            es       https://es.wikipedia.org/wiki/Hoz_y_martillo   \n",
       "1            de    https://de.wikipedia.org/wiki/Kleines_Hasenmaul   \n",
       "2            ru  https://ru.wikipedia.org/wiki/%D0%A3%D0%BA%D1%...   \n",
       "3            ru  https://ru.wikipedia.org/wiki/%D0%9C%D0%B5%D0%...   \n",
       "4            sw  https://sw.wikipedia.org/wiki/Brookline,_Massa...   \n",
       "...         ...                                                ...   \n",
       "370368       en    https://en.wikipedia.org/wiki/Suillus_quiescens   \n",
       "370369       fa  https://fa.wikipedia.org/wiki/%D8%A7%DA%A9%DB%...   \n",
       "370370       de  https://de.wikipedia.org/wiki/Fauler_See_(Schw...   \n",
       "370371       ko  https://ko.wikipedia.org/wiki/%EB%8C%80%ED%95%...   \n",
       "370372       eo         https://eo.wikipedia.org/wiki/M%C3%B6nkloh   \n",
       "\n",
       "                                                image_url  \\\n",
       "0       https://upload.wikimedia.org/wikipedia/commons...   \n",
       "1       https://upload.wikimedia.org/wikipedia/commons...   \n",
       "2       https://upload.wikimedia.org/wikipedia/commons...   \n",
       "3       http://upload.wikimedia.org/wikipedia/commons/...   \n",
       "4       https://upload.wikimedia.org/wikipedia/commons...   \n",
       "...                                                   ...   \n",
       "370368  https://upload.wikimedia.org/wikipedia/commons...   \n",
       "370369  https://upload.wikimedia.org/wikipedia/commons...   \n",
       "370370  http://upload.wikimedia.org/wikipedia/commons/...   \n",
       "370371  https://upload.wikimedia.org/wikipedia/commons...   \n",
       "370372  https://upload.wikimedia.org/wikipedia/commons...   \n",
       "\n",
       "                             page_title                section_title  \\\n",
       "0                        Hoz y martillo                     Emblemas   \n",
       "1                     Kleines Hasenmaul                          NaN   \n",
       "2                     Украинская гривна  Изъятые из обращения монеты   \n",
       "3       Менделеево (Московская область)                          NaN   \n",
       "4              Brookline, Massachusetts                          NaN   \n",
       "...                                 ...                          ...   \n",
       "370368                Suillus quiescens     Habitat and distribution   \n",
       "370369                        اکیر ترکی                          NaN   \n",
       "370370            Fauler See (Schwerin)                          NaN   \n",
       "370371                         대한출판문화협회                          NaN   \n",
       "370372                          Mönkloh                       Bildoj   \n",
       "\n",
       "                               hierarchical_section_title  \\\n",
       "0                     Hoz y martillo / Galería / Emblemas   \n",
       "1                                       Kleines Hasenmaul   \n",
       "2       Украинская гривна / Монеты / Изъятые из обраще...   \n",
       "3                         Менделеево (Московская область)   \n",
       "4                                Brookline, Massachusetts   \n",
       "...                                                   ...   \n",
       "370368       Suillus quiescens / Habitat and distribution   \n",
       "370369                                          اکیر ترکی   \n",
       "370370                              Fauler See (Schwerin)   \n",
       "370371                                           대한출판문화협회   \n",
       "370372                                   Mönkloh / Bildoj   \n",
       "\n",
       "                            caption_reference_description  \\\n",
       "0                                                     NaN   \n",
       "1                                                     NaN   \n",
       "2                                                     NaN   \n",
       "3                                                     NaN   \n",
       "4               Sehemu za Mji wa Brookline, Massachusetts   \n",
       "...                                                   ...   \n",
       "370368  S. quiescens forms mycorrhizal associations wi...   \n",
       "370369                                                NaN   \n",
       "370370                                                NaN   \n",
       "370371                  고영수 회장 (2015 서울국제도서전 개최 기념 기자간담회)   \n",
       "370372                                                NaN   \n",
       "\n",
       "                          caption_attribution_description  \\\n",
       "0          Galego: Logo do Movemento Galego ao Socialismo   \n",
       "1       English: Lesser bulldog bat (Noctilio albivent...   \n",
       "2       English: Coin of Ukraine Русский: Юбилейная мо...   \n",
       "3                                     English: mendeleevo   \n",
       "4       English: Brookline MA August 2015 Photo Collage 2   \n",
       "...                                                   ...   \n",
       "370368  English: Pinus muricata at the Dundee Botanic ...   \n",
       "370369  Species&#160; Acorus calamus Family&#160; Acor...   \n",
       "370370  Lage der Seen in Schwerin, Position of the lak...   \n",
       "370371             한국어: 2015 서울국제도서전 개최 기념 기자간담회 (고영수 회장)   \n",
       "370372  Kunst im öffentlichen Raum in Mönkloh mit eine...   \n",
       "\n",
       "       caption_alt_text_description   mime_type  original_height  \\\n",
       "0                               NaN  image/jpeg              107   \n",
       "1                               NaN  image/jpeg             1636   \n",
       "2                               NaN  image/jpeg              193   \n",
       "3                               NaN  image/jpeg             1877   \n",
       "4                               NaN  image/jpeg             1936   \n",
       "...                             ...         ...              ...   \n",
       "370368                          NaN  image/jpeg             2048   \n",
       "370369                          NaN  image/jpeg             1119   \n",
       "370370                          NaN   image/png              564   \n",
       "370371                          NaN  image/jpeg              323   \n",
       "370372                          NaN  image/jpeg             4000   \n",
       "\n",
       "        original_width  is_main_image  attribution_passes_lang_id  \\\n",
       "0                  272          False                       False   \n",
       "1                 2000           True                       False   \n",
       "2                  200          False                        True   \n",
       "3                 2756           True                        True   \n",
       "4                 1936          False                       False   \n",
       "...                ...            ...                         ...   \n",
       "370368            1536          False                        True   \n",
       "370369            1650           True                       False   \n",
       "370370             988           True                        True   \n",
       "370371             365          False                        True   \n",
       "370372            6000          False                       False   \n",
       "\n",
       "        page_changed_recently  \\\n",
       "0                        True   \n",
       "1                       False   \n",
       "2                        True   \n",
       "3                       False   \n",
       "4                        True   \n",
       "...                       ...   \n",
       "370368                  False   \n",
       "370369                  False   \n",
       "370370                   True   \n",
       "370371                  False   \n",
       "370372                  False   \n",
       "\n",
       "                                 context_page_description  \\\n",
       "0       La hoz y el martillo es un símbolo que represe...   \n",
       "1       Das Kleine Hasenmaul ist eine Fledermausart au...   \n",
       "2       Гри́вна — национальная валюта Украины, названн...   \n",
       "3       Менделе́ево — посёлок городского типа Московск...   \n",
       "4       Brookline ni mji wa Marekani katika jimbo la M...   \n",
       "...                                                   ...   \n",
       "370368  Suillus quiescens is a pored mushroom of the g...   \n",
       "370369  اکیر ترکی نام یک سرده از گیاهان است.\\nاین سرده...   \n",
       "370370  Der Faule See befindet sich in der mecklenburg...   \n",
       "370371  대한출판문화협회는 출판산업의 건전한 발전도모, 출판문화의 사명달성으로 문화 향상에 ...   \n",
       "370372  Mönkloh estas komunumo en Germanio. Ĝi troviĝa...   \n",
       "\n",
       "                              context_section_description  \n",
       "0                                                     NaN  \n",
       "1       Das Kleine Hasenmaul (Noctilio albiventris) is...  \n",
       "2       С 1 июля 2018 года прекращён дополнительный вы...  \n",
       "3       Менделе́ево — посёлок городского типа Московск...  \n",
       "4       Brookline ni mji wa Marekani katika jimbo la M...  \n",
       "...                                                   ...  \n",
       "370368  Fruit bodies grow together in small groups on ...  \n",
       "370369  اکیر ترکی (نام علمی: Acorus) نام یک سرده از گی...  \n",
       "370370  Der Faule See befindet sich in der mecklenburg...  \n",
       "370371  대한출판문화협회는 출판산업의 건전한 발전도모, 출판문화의 사명달성으로 문화 향상에 ...  \n",
       "370372                                                NaN  \n",
       "\n",
       "[370373 rows x 17 columns]"
      ]
     },
     "execution_count": 16,
     "metadata": {},
     "output_type": "execute_result"
    }
   ],
   "source": [
    "df = pd.read_csv(f'{root_path}/wit_v1.train.all-1percent_sample.tsv', sep='\\t')\n",
    "df"
   ]
  },
  {
   "cell_type": "code",
   "execution_count": 17,
   "id": "3debfcf8",
   "metadata": {},
   "outputs": [],
   "source": [
    "df = df[df[\"language\"]=='en']"
   ]
  },
  {
   "cell_type": "code",
   "execution_count": 18,
   "id": "0c1b596d",
   "metadata": {},
   "outputs": [
    {
     "data": {
      "text/html": [
       "<div>\n",
       "<style scoped>\n",
       "    .dataframe tbody tr th:only-of-type {\n",
       "        vertical-align: middle;\n",
       "    }\n",
       "\n",
       "    .dataframe tbody tr th {\n",
       "        vertical-align: top;\n",
       "    }\n",
       "\n",
       "    .dataframe thead th {\n",
       "        text-align: right;\n",
       "    }\n",
       "</style>\n",
       "<table border=\"1\" class=\"dataframe\">\n",
       "  <thead>\n",
       "    <tr style=\"text-align: right;\">\n",
       "      <th></th>\n",
       "      <th>language</th>\n",
       "      <th>page_url</th>\n",
       "      <th>image_url</th>\n",
       "      <th>page_title</th>\n",
       "      <th>section_title</th>\n",
       "      <th>hierarchical_section_title</th>\n",
       "      <th>caption_reference_description</th>\n",
       "      <th>caption_attribution_description</th>\n",
       "      <th>caption_alt_text_description</th>\n",
       "      <th>mime_type</th>\n",
       "      <th>original_height</th>\n",
       "      <th>original_width</th>\n",
       "      <th>is_main_image</th>\n",
       "      <th>attribution_passes_lang_id</th>\n",
       "      <th>page_changed_recently</th>\n",
       "      <th>context_page_description</th>\n",
       "      <th>context_section_description</th>\n",
       "    </tr>\n",
       "  </thead>\n",
       "  <tbody>\n",
       "    <tr>\n",
       "      <th>5</th>\n",
       "      <td>en</td>\n",
       "      <td>https://en.wikipedia.org/wiki/Chinatown,_Sydney</td>\n",
       "      <td>http://upload.wikimedia.org/wikipedia/commons/...</td>\n",
       "      <td>Chinatown, Sydney</td>\n",
       "      <td>Bilingual street signs</td>\n",
       "      <td>Chinatown, Sydney / Bilingual street signs</td>\n",
       "      <td>NaN</td>\n",
       "      <td>English: Hay Street 中文（繁體）‎: 禧街</td>\n",
       "      <td>NaN</td>\n",
       "      <td>image/jpeg</td>\n",
       "      <td>960</td>\n",
       "      <td>1280</td>\n",
       "      <td>False</td>\n",
       "      <td>False</td>\n",
       "      <td>True</td>\n",
       "      <td>Chinatown is an urban enclave situated in the ...</td>\n",
       "      <td>There are many bilingual street signs across C...</td>\n",
       "    </tr>\n",
       "    <tr>\n",
       "      <th>6</th>\n",
       "      <td>en</td>\n",
       "      <td>https://en.wikipedia.org/wiki/Jayson_Musson</td>\n",
       "      <td>https://upload.wikimedia.org/wikipedia/commons...</td>\n",
       "      <td>Jayson Musson</td>\n",
       "      <td>NaN</td>\n",
       "      <td>Jayson Musson</td>\n",
       "      <td>Jayson Musson on October 29, 2007</td>\n",
       "      <td>English: Jayson Scott Musson on October 29, 2007</td>\n",
       "      <td>NaN</td>\n",
       "      <td>image/jpeg</td>\n",
       "      <td>400</td>\n",
       "      <td>300</td>\n",
       "      <td>False</td>\n",
       "      <td>True</td>\n",
       "      <td>False</td>\n",
       "      <td>Jayson Scott Musson is an artist who lives and...</td>\n",
       "      <td>Jayson Scott Musson is an artist who lives and...</td>\n",
       "    </tr>\n",
       "    <tr>\n",
       "      <th>8</th>\n",
       "      <td>en</td>\n",
       "      <td>https://en.wikipedia.org/wiki/Euodynerus_megaera</td>\n",
       "      <td>https://upload.wikimedia.org/wikipedia/commons...</td>\n",
       "      <td>Euodynerus megaera</td>\n",
       "      <td>NaN</td>\n",
       "      <td>Euodynerus megaera</td>\n",
       "      <td>NaN</td>\n",
       "      <td>English: Euodynerus megaera</td>\n",
       "      <td>NaN</td>\n",
       "      <td>image/jpeg</td>\n",
       "      <td>433</td>\n",
       "      <td>531</td>\n",
       "      <td>True</td>\n",
       "      <td>True</td>\n",
       "      <td>False</td>\n",
       "      <td>Euodynerus megaera is a species of stinging wa...</td>\n",
       "      <td>Euodynerus megaera is a species of stinging wa...</td>\n",
       "    </tr>\n",
       "    <tr>\n",
       "      <th>9</th>\n",
       "      <td>en</td>\n",
       "      <td>https://en.wikipedia.org/wiki/Simon_W._Rosendale</td>\n",
       "      <td>https://upload.wikimedia.org/wikipedia/commons...</td>\n",
       "      <td>Simon W. Rosendale</td>\n",
       "      <td>NaN</td>\n",
       "      <td>Simon W. Rosendale</td>\n",
       "      <td>NaN</td>\n",
       "      <td>English: Simon Wolfe Rosendale (June 23, 1842 ...</td>\n",
       "      <td>NaN</td>\n",
       "      <td>image/jpeg</td>\n",
       "      <td>727</td>\n",
       "      <td>404</td>\n",
       "      <td>True</td>\n",
       "      <td>True</td>\n",
       "      <td>False</td>\n",
       "      <td>Simon Wolfe Rosendale was an American lawyer a...</td>\n",
       "      <td>Simon Wolfe Rosendale (June 23, 1842 – April 2...</td>\n",
       "    </tr>\n",
       "    <tr>\n",
       "      <th>11</th>\n",
       "      <td>en</td>\n",
       "      <td>https://en.wikipedia.org/wiki/List_of_National...</td>\n",
       "      <td>https://upload.wikimedia.org/wikipedia/commons...</td>\n",
       "      <td>List of National Natural Landmarks in Florida</td>\n",
       "      <td>National Natural Landmarks</td>\n",
       "      <td>List of National Natural Landmarks in Florida ...</td>\n",
       "      <td>NaN</td>\n",
       "      <td>English: Photograph of Rainbow Springs in Mari...</td>\n",
       "      <td>NaN</td>\n",
       "      <td>image/jpeg</td>\n",
       "      <td>1536</td>\n",
       "      <td>2048</td>\n",
       "      <td>False</td>\n",
       "      <td>True</td>\n",
       "      <td>False</td>\n",
       "      <td>The National Natural Landmarks in Florida incl...</td>\n",
       "      <td>NaN</td>\n",
       "    </tr>\n",
       "    <tr>\n",
       "      <th>...</th>\n",
       "      <td>...</td>\n",
       "      <td>...</td>\n",
       "      <td>...</td>\n",
       "      <td>...</td>\n",
       "      <td>...</td>\n",
       "      <td>...</td>\n",
       "      <td>...</td>\n",
       "      <td>...</td>\n",
       "      <td>...</td>\n",
       "      <td>...</td>\n",
       "      <td>...</td>\n",
       "      <td>...</td>\n",
       "      <td>...</td>\n",
       "      <td>...</td>\n",
       "      <td>...</td>\n",
       "      <td>...</td>\n",
       "      <td>...</td>\n",
       "    </tr>\n",
       "    <tr>\n",
       "      <th>370348</th>\n",
       "      <td>en</td>\n",
       "      <td>https://en.wikipedia.org/wiki/National_Registe...</td>\n",
       "      <td>https://upload.wikimedia.org/wikipedia/commons...</td>\n",
       "      <td>National Register of Historic Places listings ...</td>\n",
       "      <td>NaN</td>\n",
       "      <td>National Register of Historic Places listings ...</td>\n",
       "      <td>NaN</td>\n",
       "      <td>English: This modern hardware store is located...</td>\n",
       "      <td>Patterson Brothers Commercial Building and House</td>\n",
       "      <td>image/jpeg</td>\n",
       "      <td>1467</td>\n",
       "      <td>2200</td>\n",
       "      <td>False</td>\n",
       "      <td>True</td>\n",
       "      <td>False</td>\n",
       "      <td>This is a list of Registered Historic Places i...</td>\n",
       "      <td>This is a list of Registered Historic Places i...</td>\n",
       "    </tr>\n",
       "    <tr>\n",
       "      <th>370356</th>\n",
       "      <td>en</td>\n",
       "      <td>https://en.wikipedia.org/wiki/Varahi</td>\n",
       "      <td>http://upload.wikimedia.org/wikipedia/commons/...</td>\n",
       "      <td>Varahi</td>\n",
       "      <td>Temples</td>\n",
       "      <td>Varahi / Worship / Temples</td>\n",
       "      <td>Central icon of Varahi Chaurasi temple</td>\n",
       "      <td>English: ~ VARAHI above her Buffalo Vahana ~ c...</td>\n",
       "      <td>NaN</td>\n",
       "      <td>image/jpeg</td>\n",
       "      <td>800</td>\n",
       "      <td>443</td>\n",
       "      <td>False</td>\n",
       "      <td>True</td>\n",
       "      <td>True</td>\n",
       "      <td>Varahi is one of the Matrikas, a group of seve...</td>\n",
       "      <td>Apart from the temples in which Varahi is wors...</td>\n",
       "    </tr>\n",
       "    <tr>\n",
       "      <th>370357</th>\n",
       "      <td>en</td>\n",
       "      <td>https://en.wikipedia.org/wiki/Six-stroke_engine</td>\n",
       "      <td>http://upload.wikimedia.org/wikipedia/commons/...</td>\n",
       "      <td>Six-stroke engine</td>\n",
       "      <td>Griffin six-stroke engine</td>\n",
       "      <td>Six-stroke engine / Engine types / Single-pist...</td>\n",
       "      <td>The Kerr engine at the Anson Engine Museum</td>\n",
       "      <td>The Anson Engine Museum in Poynton, Cheshire c...</td>\n",
       "      <td>NaN</td>\n",
       "      <td>image/jpeg</td>\n",
       "      <td>3264</td>\n",
       "      <td>2448</td>\n",
       "      <td>False</td>\n",
       "      <td>True</td>\n",
       "      <td>True</td>\n",
       "      <td>The term six-stroke engine has been applied to...</td>\n",
       "      <td>In 1883, the Bath-based engineer Samuel Griffi...</td>\n",
       "    </tr>\n",
       "    <tr>\n",
       "      <th>370358</th>\n",
       "      <td>en</td>\n",
       "      <td>https://en.wikipedia.org/wiki/Yi_Sun-sin</td>\n",
       "      <td>https://upload.wikimedia.org/wikipedia/commons...</td>\n",
       "      <td>Yi Sun-sin</td>\n",
       "      <td>Turtle Ships</td>\n",
       "      <td>Yi Sun-sin / Military career / Japanese invasi...</td>\n",
       "      <td>Drawing of a 16th-century turtle ship</td>\n",
       "      <td>16th century Korean turtle ship in a depiction...</td>\n",
       "      <td>NaN</td>\n",
       "      <td>image/jpeg</td>\n",
       "      <td>1046</td>\n",
       "      <td>1521</td>\n",
       "      <td>False</td>\n",
       "      <td>True</td>\n",
       "      <td>True</td>\n",
       "      <td>Admiral Yi Sunsin was a Korean admiral and mil...</td>\n",
       "      <td>One of Yi's greatest accomplishments was resur...</td>\n",
       "    </tr>\n",
       "    <tr>\n",
       "      <th>370368</th>\n",
       "      <td>en</td>\n",
       "      <td>https://en.wikipedia.org/wiki/Suillus_quiescens</td>\n",
       "      <td>https://upload.wikimedia.org/wikipedia/commons...</td>\n",
       "      <td>Suillus quiescens</td>\n",
       "      <td>Habitat and distribution</td>\n",
       "      <td>Suillus quiescens / Habitat and distribution</td>\n",
       "      <td>S. quiescens forms mycorrhizal associations wi...</td>\n",
       "      <td>English: Pinus muricata at the Dundee Botanic ...</td>\n",
       "      <td>NaN</td>\n",
       "      <td>image/jpeg</td>\n",
       "      <td>2048</td>\n",
       "      <td>1536</td>\n",
       "      <td>False</td>\n",
       "      <td>True</td>\n",
       "      <td>False</td>\n",
       "      <td>Suillus quiescens is a pored mushroom of the g...</td>\n",
       "      <td>Fruit bodies grow together in small groups on ...</td>\n",
       "    </tr>\n",
       "  </tbody>\n",
       "</table>\n",
       "<p>54071 rows × 17 columns</p>\n",
       "</div>"
      ],
      "text/plain": [
       "       language                                           page_url  \\\n",
       "5            en    https://en.wikipedia.org/wiki/Chinatown,_Sydney   \n",
       "6            en        https://en.wikipedia.org/wiki/Jayson_Musson   \n",
       "8            en   https://en.wikipedia.org/wiki/Euodynerus_megaera   \n",
       "9            en   https://en.wikipedia.org/wiki/Simon_W._Rosendale   \n",
       "11           en  https://en.wikipedia.org/wiki/List_of_National...   \n",
       "...         ...                                                ...   \n",
       "370348       en  https://en.wikipedia.org/wiki/National_Registe...   \n",
       "370356       en               https://en.wikipedia.org/wiki/Varahi   \n",
       "370357       en    https://en.wikipedia.org/wiki/Six-stroke_engine   \n",
       "370358       en           https://en.wikipedia.org/wiki/Yi_Sun-sin   \n",
       "370368       en    https://en.wikipedia.org/wiki/Suillus_quiescens   \n",
       "\n",
       "                                                image_url  \\\n",
       "5       http://upload.wikimedia.org/wikipedia/commons/...   \n",
       "6       https://upload.wikimedia.org/wikipedia/commons...   \n",
       "8       https://upload.wikimedia.org/wikipedia/commons...   \n",
       "9       https://upload.wikimedia.org/wikipedia/commons...   \n",
       "11      https://upload.wikimedia.org/wikipedia/commons...   \n",
       "...                                                   ...   \n",
       "370348  https://upload.wikimedia.org/wikipedia/commons...   \n",
       "370356  http://upload.wikimedia.org/wikipedia/commons/...   \n",
       "370357  http://upload.wikimedia.org/wikipedia/commons/...   \n",
       "370358  https://upload.wikimedia.org/wikipedia/commons...   \n",
       "370368  https://upload.wikimedia.org/wikipedia/commons...   \n",
       "\n",
       "                                               page_title  \\\n",
       "5                                       Chinatown, Sydney   \n",
       "6                                           Jayson Musson   \n",
       "8                                      Euodynerus megaera   \n",
       "9                                      Simon W. Rosendale   \n",
       "11          List of National Natural Landmarks in Florida   \n",
       "...                                                   ...   \n",
       "370348  National Register of Historic Places listings ...   \n",
       "370356                                             Varahi   \n",
       "370357                                  Six-stroke engine   \n",
       "370358                                         Yi Sun-sin   \n",
       "370368                                  Suillus quiescens   \n",
       "\n",
       "                     section_title  \\\n",
       "5           Bilingual street signs   \n",
       "6                              NaN   \n",
       "8                              NaN   \n",
       "9                              NaN   \n",
       "11      National Natural Landmarks   \n",
       "...                            ...   \n",
       "370348                         NaN   \n",
       "370356                     Temples   \n",
       "370357   Griffin six-stroke engine   \n",
       "370358                Turtle Ships   \n",
       "370368    Habitat and distribution   \n",
       "\n",
       "                               hierarchical_section_title  \\\n",
       "5              Chinatown, Sydney / Bilingual street signs   \n",
       "6                                           Jayson Musson   \n",
       "8                                      Euodynerus megaera   \n",
       "9                                      Simon W. Rosendale   \n",
       "11      List of National Natural Landmarks in Florida ...   \n",
       "...                                                   ...   \n",
       "370348  National Register of Historic Places listings ...   \n",
       "370356                         Varahi / Worship / Temples   \n",
       "370357  Six-stroke engine / Engine types / Single-pist...   \n",
       "370358  Yi Sun-sin / Military career / Japanese invasi...   \n",
       "370368       Suillus quiescens / Habitat and distribution   \n",
       "\n",
       "                            caption_reference_description  \\\n",
       "5                                                     NaN   \n",
       "6                       Jayson Musson on October 29, 2007   \n",
       "8                                                     NaN   \n",
       "9                                                     NaN   \n",
       "11                                                    NaN   \n",
       "...                                                   ...   \n",
       "370348                                                NaN   \n",
       "370356             Central icon of Varahi Chaurasi temple   \n",
       "370357         The Kerr engine at the Anson Engine Museum   \n",
       "370358              Drawing of a 16th-century turtle ship   \n",
       "370368  S. quiescens forms mycorrhizal associations wi...   \n",
       "\n",
       "                          caption_attribution_description  \\\n",
       "5                         English: Hay Street 中文（繁體）‎: 禧街   \n",
       "6        English: Jayson Scott Musson on October 29, 2007   \n",
       "8                             English: Euodynerus megaera   \n",
       "9       English: Simon Wolfe Rosendale (June 23, 1842 ...   \n",
       "11      English: Photograph of Rainbow Springs in Mari...   \n",
       "...                                                   ...   \n",
       "370348  English: This modern hardware store is located...   \n",
       "370356  English: ~ VARAHI above her Buffalo Vahana ~ c...   \n",
       "370357  The Anson Engine Museum in Poynton, Cheshire c...   \n",
       "370358  16th century Korean turtle ship in a depiction...   \n",
       "370368  English: Pinus muricata at the Dundee Botanic ...   \n",
       "\n",
       "                            caption_alt_text_description   mime_type  \\\n",
       "5                                                    NaN  image/jpeg   \n",
       "6                                                    NaN  image/jpeg   \n",
       "8                                                    NaN  image/jpeg   \n",
       "9                                                    NaN  image/jpeg   \n",
       "11                                                   NaN  image/jpeg   \n",
       "...                                                  ...         ...   \n",
       "370348  Patterson Brothers Commercial Building and House  image/jpeg   \n",
       "370356                                               NaN  image/jpeg   \n",
       "370357                                               NaN  image/jpeg   \n",
       "370358                                               NaN  image/jpeg   \n",
       "370368                                               NaN  image/jpeg   \n",
       "\n",
       "        original_height  original_width  is_main_image  \\\n",
       "5                   960            1280          False   \n",
       "6                   400             300          False   \n",
       "8                   433             531           True   \n",
       "9                   727             404           True   \n",
       "11                 1536            2048          False   \n",
       "...                 ...             ...            ...   \n",
       "370348             1467            2200          False   \n",
       "370356              800             443          False   \n",
       "370357             3264            2448          False   \n",
       "370358             1046            1521          False   \n",
       "370368             2048            1536          False   \n",
       "\n",
       "        attribution_passes_lang_id  page_changed_recently  \\\n",
       "5                            False                   True   \n",
       "6                             True                  False   \n",
       "8                             True                  False   \n",
       "9                             True                  False   \n",
       "11                            True                  False   \n",
       "...                            ...                    ...   \n",
       "370348                        True                  False   \n",
       "370356                        True                   True   \n",
       "370357                        True                   True   \n",
       "370358                        True                   True   \n",
       "370368                        True                  False   \n",
       "\n",
       "                                 context_page_description  \\\n",
       "5       Chinatown is an urban enclave situated in the ...   \n",
       "6       Jayson Scott Musson is an artist who lives and...   \n",
       "8       Euodynerus megaera is a species of stinging wa...   \n",
       "9       Simon Wolfe Rosendale was an American lawyer a...   \n",
       "11      The National Natural Landmarks in Florida incl...   \n",
       "...                                                   ...   \n",
       "370348  This is a list of Registered Historic Places i...   \n",
       "370356  Varahi is one of the Matrikas, a group of seve...   \n",
       "370357  The term six-stroke engine has been applied to...   \n",
       "370358  Admiral Yi Sunsin was a Korean admiral and mil...   \n",
       "370368  Suillus quiescens is a pored mushroom of the g...   \n",
       "\n",
       "                              context_section_description  \n",
       "5       There are many bilingual street signs across C...  \n",
       "6       Jayson Scott Musson is an artist who lives and...  \n",
       "8       Euodynerus megaera is a species of stinging wa...  \n",
       "9       Simon Wolfe Rosendale (June 23, 1842 – April 2...  \n",
       "11                                                    NaN  \n",
       "...                                                   ...  \n",
       "370348  This is a list of Registered Historic Places i...  \n",
       "370356  Apart from the temples in which Varahi is wors...  \n",
       "370357  In 1883, the Bath-based engineer Samuel Griffi...  \n",
       "370358  One of Yi's greatest accomplishments was resur...  \n",
       "370368  Fruit bodies grow together in small groups on ...  \n",
       "\n",
       "[54071 rows x 17 columns]"
      ]
     },
     "execution_count": 18,
     "metadata": {},
     "output_type": "execute_result"
    }
   ],
   "source": [
    "df"
   ]
  },
  {
   "cell_type": "code",
   "execution_count": 19,
   "id": "c408db61",
   "metadata": {},
   "outputs": [
    {
     "data": {
      "text/html": [
       "<div>\n",
       "<style scoped>\n",
       "    .dataframe tbody tr th:only-of-type {\n",
       "        vertical-align: middle;\n",
       "    }\n",
       "\n",
       "    .dataframe tbody tr th {\n",
       "        vertical-align: top;\n",
       "    }\n",
       "\n",
       "    .dataframe thead th {\n",
       "        text-align: right;\n",
       "    }\n",
       "</style>\n",
       "<table border=\"1\" class=\"dataframe\">\n",
       "  <thead>\n",
       "    <tr style=\"text-align: right;\">\n",
       "      <th></th>\n",
       "      <th>original_height</th>\n",
       "      <th>original_width</th>\n",
       "    </tr>\n",
       "  </thead>\n",
       "  <tbody>\n",
       "    <tr>\n",
       "      <th>count</th>\n",
       "      <td>54071.000000</td>\n",
       "      <td>54071.000000</td>\n",
       "    </tr>\n",
       "    <tr>\n",
       "      <th>mean</th>\n",
       "      <td>1535.394814</td>\n",
       "      <td>1836.366481</td>\n",
       "    </tr>\n",
       "    <tr>\n",
       "      <th>std</th>\n",
       "      <td>1199.416882</td>\n",
       "      <td>1520.742352</td>\n",
       "    </tr>\n",
       "    <tr>\n",
       "      <th>min</th>\n",
       "      <td>100.000000</td>\n",
       "      <td>100.000000</td>\n",
       "    </tr>\n",
       "    <tr>\n",
       "      <th>25%</th>\n",
       "      <td>578.000000</td>\n",
       "      <td>640.000000</td>\n",
       "    </tr>\n",
       "    <tr>\n",
       "      <th>50%</th>\n",
       "      <td>1181.000000</td>\n",
       "      <td>1312.000000</td>\n",
       "    </tr>\n",
       "    <tr>\n",
       "      <th>75%</th>\n",
       "      <td>2304.000000</td>\n",
       "      <td>2667.000000</td>\n",
       "    </tr>\n",
       "    <tr>\n",
       "      <th>max</th>\n",
       "      <td>13922.000000</td>\n",
       "      <td>25088.000000</td>\n",
       "    </tr>\n",
       "  </tbody>\n",
       "</table>\n",
       "</div>"
      ],
      "text/plain": [
       "       original_height  original_width\n",
       "count     54071.000000    54071.000000\n",
       "mean       1535.394814     1836.366481\n",
       "std        1199.416882     1520.742352\n",
       "min         100.000000      100.000000\n",
       "25%         578.000000      640.000000\n",
       "50%        1181.000000     1312.000000\n",
       "75%        2304.000000     2667.000000\n",
       "max       13922.000000    25088.000000"
      ]
     },
     "execution_count": 19,
     "metadata": {},
     "output_type": "execute_result"
    }
   ],
   "source": [
    "df.describe()"
   ]
  },
  {
   "cell_type": "code",
   "execution_count": 20,
   "id": "b444e0b3",
   "metadata": {},
   "outputs": [
    {
     "name": "stdout",
     "output_type": "stream",
     "text": [
      "<class 'pandas.core.frame.DataFrame'>\n",
      "Int64Index: 54071 entries, 5 to 370368\n",
      "Data columns (total 17 columns):\n",
      " #   Column                           Non-Null Count  Dtype \n",
      "---  ------                           --------------  ----- \n",
      " 0   language                         54071 non-null  object\n",
      " 1   page_url                         54071 non-null  object\n",
      " 2   image_url                        54071 non-null  object\n",
      " 3   page_title                       54071 non-null  object\n",
      " 4   section_title                    30871 non-null  object\n",
      " 5   hierarchical_section_title       54071 non-null  object\n",
      " 6   caption_reference_description    32550 non-null  object\n",
      " 7   caption_attribution_description  50802 non-null  object\n",
      " 8   caption_alt_text_description     5626 non-null   object\n",
      " 9   mime_type                        54071 non-null  object\n",
      " 10  original_height                  54071 non-null  int64 \n",
      " 11  original_width                   54071 non-null  int64 \n",
      " 12  is_main_image                    54071 non-null  bool  \n",
      " 13  attribution_passes_lang_id       54071 non-null  bool  \n",
      " 14  page_changed_recently            54071 non-null  bool  \n",
      " 15  context_page_description         53974 non-null  object\n",
      " 16  context_section_description      44786 non-null  object\n",
      "dtypes: bool(3), int64(2), object(12)\n",
      "memory usage: 6.3+ MB\n"
     ]
    }
   ],
   "source": [
    "df.info()"
   ]
  },
  {
   "cell_type": "markdown",
   "id": "42c28689",
   "metadata": {},
   "source": [
    "### Semantic Analysis on caption_reference_description + caption_attribution_description\n",
    "\n",
    "Also you can consider context_page_description and context_section_description columns for analysis "
   ]
  },
  {
   "cell_type": "code",
   "execution_count": 21,
   "id": "544c9a43",
   "metadata": {},
   "outputs": [
    {
     "data": {
      "text/html": [
       "<div>\n",
       "<style scoped>\n",
       "    .dataframe tbody tr th:only-of-type {\n",
       "        vertical-align: middle;\n",
       "    }\n",
       "\n",
       "    .dataframe tbody tr th {\n",
       "        vertical-align: top;\n",
       "    }\n",
       "\n",
       "    .dataframe thead th {\n",
       "        text-align: right;\n",
       "    }\n",
       "</style>\n",
       "<table border=\"1\" class=\"dataframe\">\n",
       "  <thead>\n",
       "    <tr style=\"text-align: right;\">\n",
       "      <th></th>\n",
       "      <th>language</th>\n",
       "      <th>page_url</th>\n",
       "      <th>image_url</th>\n",
       "      <th>page_title</th>\n",
       "      <th>section_title</th>\n",
       "      <th>hierarchical_section_title</th>\n",
       "      <th>caption_reference_description</th>\n",
       "      <th>caption_attribution_description</th>\n",
       "      <th>caption_alt_text_description</th>\n",
       "      <th>mime_type</th>\n",
       "      <th>original_height</th>\n",
       "      <th>original_width</th>\n",
       "      <th>is_main_image</th>\n",
       "      <th>attribution_passes_lang_id</th>\n",
       "      <th>page_changed_recently</th>\n",
       "      <th>context_page_description</th>\n",
       "      <th>context_section_description</th>\n",
       "      <th>caption</th>\n",
       "      <th>context</th>\n",
       "    </tr>\n",
       "  </thead>\n",
       "  <tbody>\n",
       "    <tr>\n",
       "      <th>5</th>\n",
       "      <td>en</td>\n",
       "      <td>https://en.wikipedia.org/wiki/Chinatown,_Sydney</td>\n",
       "      <td>http://upload.wikimedia.org/wikipedia/commons/...</td>\n",
       "      <td>Chinatown, Sydney</td>\n",
       "      <td>Bilingual street signs</td>\n",
       "      <td>Chinatown, Sydney / Bilingual street signs</td>\n",
       "      <td>NaN</td>\n",
       "      <td>English: Hay Street 中文（繁體）‎: 禧街</td>\n",
       "      <td>NaN</td>\n",
       "      <td>image/jpeg</td>\n",
       "      <td>960</td>\n",
       "      <td>1280</td>\n",
       "      <td>False</td>\n",
       "      <td>False</td>\n",
       "      <td>True</td>\n",
       "      <td>Chinatown is an urban enclave situated in the ...</td>\n",
       "      <td>There are many bilingual street signs across C...</td>\n",
       "      <td>English: Hay Street 中文（繁體）‎: 禧街</td>\n",
       "      <td>Chinatown is an urban enclave situated in the ...</td>\n",
       "    </tr>\n",
       "    <tr>\n",
       "      <th>6</th>\n",
       "      <td>en</td>\n",
       "      <td>https://en.wikipedia.org/wiki/Jayson_Musson</td>\n",
       "      <td>https://upload.wikimedia.org/wikipedia/commons...</td>\n",
       "      <td>Jayson Musson</td>\n",
       "      <td>NaN</td>\n",
       "      <td>Jayson Musson</td>\n",
       "      <td>Jayson Musson on October 29, 2007</td>\n",
       "      <td>English: Jayson Scott Musson on October 29, 2007</td>\n",
       "      <td>NaN</td>\n",
       "      <td>image/jpeg</td>\n",
       "      <td>400</td>\n",
       "      <td>300</td>\n",
       "      <td>False</td>\n",
       "      <td>True</td>\n",
       "      <td>False</td>\n",
       "      <td>Jayson Scott Musson is an artist who lives and...</td>\n",
       "      <td>Jayson Scott Musson is an artist who lives and...</td>\n",
       "      <td>Jayson Musson on October 29, 2007 English: Jay...</td>\n",
       "      <td>Jayson Scott Musson is an artist who lives and...</td>\n",
       "    </tr>\n",
       "    <tr>\n",
       "      <th>8</th>\n",
       "      <td>en</td>\n",
       "      <td>https://en.wikipedia.org/wiki/Euodynerus_megaera</td>\n",
       "      <td>https://upload.wikimedia.org/wikipedia/commons...</td>\n",
       "      <td>Euodynerus megaera</td>\n",
       "      <td>NaN</td>\n",
       "      <td>Euodynerus megaera</td>\n",
       "      <td>NaN</td>\n",
       "      <td>English: Euodynerus megaera</td>\n",
       "      <td>NaN</td>\n",
       "      <td>image/jpeg</td>\n",
       "      <td>433</td>\n",
       "      <td>531</td>\n",
       "      <td>True</td>\n",
       "      <td>True</td>\n",
       "      <td>False</td>\n",
       "      <td>Euodynerus megaera is a species of stinging wa...</td>\n",
       "      <td>Euodynerus megaera is a species of stinging wa...</td>\n",
       "      <td>English: Euodynerus megaera</td>\n",
       "      <td>Euodynerus megaera is a species of stinging wa...</td>\n",
       "    </tr>\n",
       "    <tr>\n",
       "      <th>9</th>\n",
       "      <td>en</td>\n",
       "      <td>https://en.wikipedia.org/wiki/Simon_W._Rosendale</td>\n",
       "      <td>https://upload.wikimedia.org/wikipedia/commons...</td>\n",
       "      <td>Simon W. Rosendale</td>\n",
       "      <td>NaN</td>\n",
       "      <td>Simon W. Rosendale</td>\n",
       "      <td>NaN</td>\n",
       "      <td>English: Simon Wolfe Rosendale (June 23, 1842 ...</td>\n",
       "      <td>NaN</td>\n",
       "      <td>image/jpeg</td>\n",
       "      <td>727</td>\n",
       "      <td>404</td>\n",
       "      <td>True</td>\n",
       "      <td>True</td>\n",
       "      <td>False</td>\n",
       "      <td>Simon Wolfe Rosendale was an American lawyer a...</td>\n",
       "      <td>Simon Wolfe Rosendale (June 23, 1842 – April 2...</td>\n",
       "      <td>English: Simon Wolfe Rosendale (June 23, 1842...</td>\n",
       "      <td>Simon Wolfe Rosendale was an American lawyer a...</td>\n",
       "    </tr>\n",
       "    <tr>\n",
       "      <th>11</th>\n",
       "      <td>en</td>\n",
       "      <td>https://en.wikipedia.org/wiki/List_of_National...</td>\n",
       "      <td>https://upload.wikimedia.org/wikipedia/commons...</td>\n",
       "      <td>List of National Natural Landmarks in Florida</td>\n",
       "      <td>National Natural Landmarks</td>\n",
       "      <td>List of National Natural Landmarks in Florida ...</td>\n",
       "      <td>NaN</td>\n",
       "      <td>English: Photograph of Rainbow Springs in Mari...</td>\n",
       "      <td>NaN</td>\n",
       "      <td>image/jpeg</td>\n",
       "      <td>1536</td>\n",
       "      <td>2048</td>\n",
       "      <td>False</td>\n",
       "      <td>True</td>\n",
       "      <td>False</td>\n",
       "      <td>The National Natural Landmarks in Florida incl...</td>\n",
       "      <td>NaN</td>\n",
       "      <td>English: Photograph of Rainbow Springs in Mar...</td>\n",
       "      <td>The National Natural Landmarks in Florida incl...</td>\n",
       "    </tr>\n",
       "    <tr>\n",
       "      <th>...</th>\n",
       "      <td>...</td>\n",
       "      <td>...</td>\n",
       "      <td>...</td>\n",
       "      <td>...</td>\n",
       "      <td>...</td>\n",
       "      <td>...</td>\n",
       "      <td>...</td>\n",
       "      <td>...</td>\n",
       "      <td>...</td>\n",
       "      <td>...</td>\n",
       "      <td>...</td>\n",
       "      <td>...</td>\n",
       "      <td>...</td>\n",
       "      <td>...</td>\n",
       "      <td>...</td>\n",
       "      <td>...</td>\n",
       "      <td>...</td>\n",
       "      <td>...</td>\n",
       "      <td>...</td>\n",
       "    </tr>\n",
       "    <tr>\n",
       "      <th>370348</th>\n",
       "      <td>en</td>\n",
       "      <td>https://en.wikipedia.org/wiki/National_Registe...</td>\n",
       "      <td>https://upload.wikimedia.org/wikipedia/commons...</td>\n",
       "      <td>National Register of Historic Places listings ...</td>\n",
       "      <td>NaN</td>\n",
       "      <td>National Register of Historic Places listings ...</td>\n",
       "      <td>NaN</td>\n",
       "      <td>English: This modern hardware store is located...</td>\n",
       "      <td>Patterson Brothers Commercial Building and House</td>\n",
       "      <td>image/jpeg</td>\n",
       "      <td>1467</td>\n",
       "      <td>2200</td>\n",
       "      <td>False</td>\n",
       "      <td>True</td>\n",
       "      <td>False</td>\n",
       "      <td>This is a list of Registered Historic Places i...</td>\n",
       "      <td>This is a list of Registered Historic Places i...</td>\n",
       "      <td>English: This modern hardware store is locate...</td>\n",
       "      <td>This is a list of Registered Historic Places i...</td>\n",
       "    </tr>\n",
       "    <tr>\n",
       "      <th>370356</th>\n",
       "      <td>en</td>\n",
       "      <td>https://en.wikipedia.org/wiki/Varahi</td>\n",
       "      <td>http://upload.wikimedia.org/wikipedia/commons/...</td>\n",
       "      <td>Varahi</td>\n",
       "      <td>Temples</td>\n",
       "      <td>Varahi / Worship / Temples</td>\n",
       "      <td>Central icon of Varahi Chaurasi temple</td>\n",
       "      <td>English: ~ VARAHI above her Buffalo Vahana ~ c...</td>\n",
       "      <td>NaN</td>\n",
       "      <td>image/jpeg</td>\n",
       "      <td>800</td>\n",
       "      <td>443</td>\n",
       "      <td>False</td>\n",
       "      <td>True</td>\n",
       "      <td>True</td>\n",
       "      <td>Varahi is one of the Matrikas, a group of seve...</td>\n",
       "      <td>Apart from the temples in which Varahi is wors...</td>\n",
       "      <td>Central icon of Varahi Chaurasi temple English...</td>\n",
       "      <td>Varahi is one of the Matrikas, a group of seve...</td>\n",
       "    </tr>\n",
       "    <tr>\n",
       "      <th>370357</th>\n",
       "      <td>en</td>\n",
       "      <td>https://en.wikipedia.org/wiki/Six-stroke_engine</td>\n",
       "      <td>http://upload.wikimedia.org/wikipedia/commons/...</td>\n",
       "      <td>Six-stroke engine</td>\n",
       "      <td>Griffin six-stroke engine</td>\n",
       "      <td>Six-stroke engine / Engine types / Single-pist...</td>\n",
       "      <td>The Kerr engine at the Anson Engine Museum</td>\n",
       "      <td>The Anson Engine Museum in Poynton, Cheshire c...</td>\n",
       "      <td>NaN</td>\n",
       "      <td>image/jpeg</td>\n",
       "      <td>3264</td>\n",
       "      <td>2448</td>\n",
       "      <td>False</td>\n",
       "      <td>True</td>\n",
       "      <td>True</td>\n",
       "      <td>The term six-stroke engine has been applied to...</td>\n",
       "      <td>In 1883, the Bath-based engineer Samuel Griffi...</td>\n",
       "      <td>The Kerr engine at the Anson Engine Museum The...</td>\n",
       "      <td>The term six-stroke engine has been applied to...</td>\n",
       "    </tr>\n",
       "    <tr>\n",
       "      <th>370358</th>\n",
       "      <td>en</td>\n",
       "      <td>https://en.wikipedia.org/wiki/Yi_Sun-sin</td>\n",
       "      <td>https://upload.wikimedia.org/wikipedia/commons...</td>\n",
       "      <td>Yi Sun-sin</td>\n",
       "      <td>Turtle Ships</td>\n",
       "      <td>Yi Sun-sin / Military career / Japanese invasi...</td>\n",
       "      <td>Drawing of a 16th-century turtle ship</td>\n",
       "      <td>16th century Korean turtle ship in a depiction...</td>\n",
       "      <td>NaN</td>\n",
       "      <td>image/jpeg</td>\n",
       "      <td>1046</td>\n",
       "      <td>1521</td>\n",
       "      <td>False</td>\n",
       "      <td>True</td>\n",
       "      <td>True</td>\n",
       "      <td>Admiral Yi Sunsin was a Korean admiral and mil...</td>\n",
       "      <td>One of Yi's greatest accomplishments was resur...</td>\n",
       "      <td>Drawing of a 16th-century turtle ship 16th cen...</td>\n",
       "      <td>Admiral Yi Sunsin was a Korean admiral and mil...</td>\n",
       "    </tr>\n",
       "    <tr>\n",
       "      <th>370368</th>\n",
       "      <td>en</td>\n",
       "      <td>https://en.wikipedia.org/wiki/Suillus_quiescens</td>\n",
       "      <td>https://upload.wikimedia.org/wikipedia/commons...</td>\n",
       "      <td>Suillus quiescens</td>\n",
       "      <td>Habitat and distribution</td>\n",
       "      <td>Suillus quiescens / Habitat and distribution</td>\n",
       "      <td>S. quiescens forms mycorrhizal associations wi...</td>\n",
       "      <td>English: Pinus muricata at the Dundee Botanic ...</td>\n",
       "      <td>NaN</td>\n",
       "      <td>image/jpeg</td>\n",
       "      <td>2048</td>\n",
       "      <td>1536</td>\n",
       "      <td>False</td>\n",
       "      <td>True</td>\n",
       "      <td>False</td>\n",
       "      <td>Suillus quiescens is a pored mushroom of the g...</td>\n",
       "      <td>Fruit bodies grow together in small groups on ...</td>\n",
       "      <td>S. quiescens forms mycorrhizal associations wi...</td>\n",
       "      <td>Suillus quiescens is a pored mushroom of the g...</td>\n",
       "    </tr>\n",
       "  </tbody>\n",
       "</table>\n",
       "<p>54071 rows × 19 columns</p>\n",
       "</div>"
      ],
      "text/plain": [
       "       language                                           page_url  \\\n",
       "5            en    https://en.wikipedia.org/wiki/Chinatown,_Sydney   \n",
       "6            en        https://en.wikipedia.org/wiki/Jayson_Musson   \n",
       "8            en   https://en.wikipedia.org/wiki/Euodynerus_megaera   \n",
       "9            en   https://en.wikipedia.org/wiki/Simon_W._Rosendale   \n",
       "11           en  https://en.wikipedia.org/wiki/List_of_National...   \n",
       "...         ...                                                ...   \n",
       "370348       en  https://en.wikipedia.org/wiki/National_Registe...   \n",
       "370356       en               https://en.wikipedia.org/wiki/Varahi   \n",
       "370357       en    https://en.wikipedia.org/wiki/Six-stroke_engine   \n",
       "370358       en           https://en.wikipedia.org/wiki/Yi_Sun-sin   \n",
       "370368       en    https://en.wikipedia.org/wiki/Suillus_quiescens   \n",
       "\n",
       "                                                image_url  \\\n",
       "5       http://upload.wikimedia.org/wikipedia/commons/...   \n",
       "6       https://upload.wikimedia.org/wikipedia/commons...   \n",
       "8       https://upload.wikimedia.org/wikipedia/commons...   \n",
       "9       https://upload.wikimedia.org/wikipedia/commons...   \n",
       "11      https://upload.wikimedia.org/wikipedia/commons...   \n",
       "...                                                   ...   \n",
       "370348  https://upload.wikimedia.org/wikipedia/commons...   \n",
       "370356  http://upload.wikimedia.org/wikipedia/commons/...   \n",
       "370357  http://upload.wikimedia.org/wikipedia/commons/...   \n",
       "370358  https://upload.wikimedia.org/wikipedia/commons...   \n",
       "370368  https://upload.wikimedia.org/wikipedia/commons...   \n",
       "\n",
       "                                               page_title  \\\n",
       "5                                       Chinatown, Sydney   \n",
       "6                                           Jayson Musson   \n",
       "8                                      Euodynerus megaera   \n",
       "9                                      Simon W. Rosendale   \n",
       "11          List of National Natural Landmarks in Florida   \n",
       "...                                                   ...   \n",
       "370348  National Register of Historic Places listings ...   \n",
       "370356                                             Varahi   \n",
       "370357                                  Six-stroke engine   \n",
       "370358                                         Yi Sun-sin   \n",
       "370368                                  Suillus quiescens   \n",
       "\n",
       "                     section_title  \\\n",
       "5           Bilingual street signs   \n",
       "6                              NaN   \n",
       "8                              NaN   \n",
       "9                              NaN   \n",
       "11      National Natural Landmarks   \n",
       "...                            ...   \n",
       "370348                         NaN   \n",
       "370356                     Temples   \n",
       "370357   Griffin six-stroke engine   \n",
       "370358                Turtle Ships   \n",
       "370368    Habitat and distribution   \n",
       "\n",
       "                               hierarchical_section_title  \\\n",
       "5              Chinatown, Sydney / Bilingual street signs   \n",
       "6                                           Jayson Musson   \n",
       "8                                      Euodynerus megaera   \n",
       "9                                      Simon W. Rosendale   \n",
       "11      List of National Natural Landmarks in Florida ...   \n",
       "...                                                   ...   \n",
       "370348  National Register of Historic Places listings ...   \n",
       "370356                         Varahi / Worship / Temples   \n",
       "370357  Six-stroke engine / Engine types / Single-pist...   \n",
       "370358  Yi Sun-sin / Military career / Japanese invasi...   \n",
       "370368       Suillus quiescens / Habitat and distribution   \n",
       "\n",
       "                            caption_reference_description  \\\n",
       "5                                                     NaN   \n",
       "6                       Jayson Musson on October 29, 2007   \n",
       "8                                                     NaN   \n",
       "9                                                     NaN   \n",
       "11                                                    NaN   \n",
       "...                                                   ...   \n",
       "370348                                                NaN   \n",
       "370356             Central icon of Varahi Chaurasi temple   \n",
       "370357         The Kerr engine at the Anson Engine Museum   \n",
       "370358              Drawing of a 16th-century turtle ship   \n",
       "370368  S. quiescens forms mycorrhizal associations wi...   \n",
       "\n",
       "                          caption_attribution_description  \\\n",
       "5                         English: Hay Street 中文（繁體）‎: 禧街   \n",
       "6        English: Jayson Scott Musson on October 29, 2007   \n",
       "8                             English: Euodynerus megaera   \n",
       "9       English: Simon Wolfe Rosendale (June 23, 1842 ...   \n",
       "11      English: Photograph of Rainbow Springs in Mari...   \n",
       "...                                                   ...   \n",
       "370348  English: This modern hardware store is located...   \n",
       "370356  English: ~ VARAHI above her Buffalo Vahana ~ c...   \n",
       "370357  The Anson Engine Museum in Poynton, Cheshire c...   \n",
       "370358  16th century Korean turtle ship in a depiction...   \n",
       "370368  English: Pinus muricata at the Dundee Botanic ...   \n",
       "\n",
       "                            caption_alt_text_description   mime_type  \\\n",
       "5                                                    NaN  image/jpeg   \n",
       "6                                                    NaN  image/jpeg   \n",
       "8                                                    NaN  image/jpeg   \n",
       "9                                                    NaN  image/jpeg   \n",
       "11                                                   NaN  image/jpeg   \n",
       "...                                                  ...         ...   \n",
       "370348  Patterson Brothers Commercial Building and House  image/jpeg   \n",
       "370356                                               NaN  image/jpeg   \n",
       "370357                                               NaN  image/jpeg   \n",
       "370358                                               NaN  image/jpeg   \n",
       "370368                                               NaN  image/jpeg   \n",
       "\n",
       "        original_height  original_width  is_main_image  \\\n",
       "5                   960            1280          False   \n",
       "6                   400             300          False   \n",
       "8                   433             531           True   \n",
       "9                   727             404           True   \n",
       "11                 1536            2048          False   \n",
       "...                 ...             ...            ...   \n",
       "370348             1467            2200          False   \n",
       "370356              800             443          False   \n",
       "370357             3264            2448          False   \n",
       "370358             1046            1521          False   \n",
       "370368             2048            1536          False   \n",
       "\n",
       "        attribution_passes_lang_id  page_changed_recently  \\\n",
       "5                            False                   True   \n",
       "6                             True                  False   \n",
       "8                             True                  False   \n",
       "9                             True                  False   \n",
       "11                            True                  False   \n",
       "...                            ...                    ...   \n",
       "370348                        True                  False   \n",
       "370356                        True                   True   \n",
       "370357                        True                   True   \n",
       "370358                        True                   True   \n",
       "370368                        True                  False   \n",
       "\n",
       "                                 context_page_description  \\\n",
       "5       Chinatown is an urban enclave situated in the ...   \n",
       "6       Jayson Scott Musson is an artist who lives and...   \n",
       "8       Euodynerus megaera is a species of stinging wa...   \n",
       "9       Simon Wolfe Rosendale was an American lawyer a...   \n",
       "11      The National Natural Landmarks in Florida incl...   \n",
       "...                                                   ...   \n",
       "370348  This is a list of Registered Historic Places i...   \n",
       "370356  Varahi is one of the Matrikas, a group of seve...   \n",
       "370357  The term six-stroke engine has been applied to...   \n",
       "370358  Admiral Yi Sunsin was a Korean admiral and mil...   \n",
       "370368  Suillus quiescens is a pored mushroom of the g...   \n",
       "\n",
       "                              context_section_description  \\\n",
       "5       There are many bilingual street signs across C...   \n",
       "6       Jayson Scott Musson is an artist who lives and...   \n",
       "8       Euodynerus megaera is a species of stinging wa...   \n",
       "9       Simon Wolfe Rosendale (June 23, 1842 – April 2...   \n",
       "11                                                    NaN   \n",
       "...                                                   ...   \n",
       "370348  This is a list of Registered Historic Places i...   \n",
       "370356  Apart from the temples in which Varahi is wors...   \n",
       "370357  In 1883, the Bath-based engineer Samuel Griffi...   \n",
       "370358  One of Yi's greatest accomplishments was resur...   \n",
       "370368  Fruit bodies grow together in small groups on ...   \n",
       "\n",
       "                                                  caption  \\\n",
       "5                         English: Hay Street 中文（繁體）‎: 禧街   \n",
       "6       Jayson Musson on October 29, 2007 English: Jay...   \n",
       "8                             English: Euodynerus megaera   \n",
       "9        English: Simon Wolfe Rosendale (June 23, 1842...   \n",
       "11       English: Photograph of Rainbow Springs in Mar...   \n",
       "...                                                   ...   \n",
       "370348   English: This modern hardware store is locate...   \n",
       "370356  Central icon of Varahi Chaurasi temple English...   \n",
       "370357  The Kerr engine at the Anson Engine Museum The...   \n",
       "370358  Drawing of a 16th-century turtle ship 16th cen...   \n",
       "370368  S. quiescens forms mycorrhizal associations wi...   \n",
       "\n",
       "                                                  context  \n",
       "5       Chinatown is an urban enclave situated in the ...  \n",
       "6       Jayson Scott Musson is an artist who lives and...  \n",
       "8       Euodynerus megaera is a species of stinging wa...  \n",
       "9       Simon Wolfe Rosendale was an American lawyer a...  \n",
       "11      The National Natural Landmarks in Florida incl...  \n",
       "...                                                   ...  \n",
       "370348  This is a list of Registered Historic Places i...  \n",
       "370356  Varahi is one of the Matrikas, a group of seve...  \n",
       "370357  The term six-stroke engine has been applied to...  \n",
       "370358  Admiral Yi Sunsin was a Korean admiral and mil...  \n",
       "370368  Suillus quiescens is a pored mushroom of the g...  \n",
       "\n",
       "[54071 rows x 19 columns]"
      ]
     },
     "execution_count": 21,
     "metadata": {},
     "output_type": "execute_result"
    }
   ],
   "source": [
    "df['caption']=df['caption_reference_description'].fillna('') + ' ' + df['caption_attribution_description'].fillna('')\n",
    "df['context']=df['context_page_description'].fillna('') + '\\n' + df['context_section_description'].fillna('')\n",
    "# df['caption'] = df['caption'].apply(nospecial)\n",
    "df"
   ]
  },
  {
   "cell_type": "markdown",
   "id": "hybrid-ukraine",
   "metadata": {},
   "source": [
    "### Universal Sentence Encoder Semantic Similarity By google"
   ]
  },
  {
   "cell_type": "code",
   "execution_count": 23,
   "id": "failing-volleyball",
   "metadata": {},
   "outputs": [
    {
     "name": "stdout",
     "output_type": "stream",
     "text": [
      "Message: Elephant\n",
      "Embedding size: 512\n",
      "Embedding: [0.008344465866684914, 0.00048084152513183653, 0.06595247238874435, ...]\n",
      "\n",
      "Message: I am a sentence for which I would like to get its embedding.\n",
      "Embedding size: 512\n",
      "Embedding: [0.050808604806661606, -0.016524342820048332, 0.01573779061436653, ...]\n",
      "\n",
      "Message: Universal Sentence Encoder embeddings also support short paragraphs. There is no hard limit on how long the paragraph is. Roughly, the longer the more 'diluted' the embedding will be.\n",
      "Embedding size: 512\n",
      "Embedding: [-0.02833269163966179, -0.0558621808886528, -0.012941472232341766, ...]\n",
      "\n"
     ]
    }
   ],
   "source": [
    "#@title Compute a representation for each message, showing various lengths supported.\n",
    "word = \"Elephant\"\n",
    "sentence = \"I am a sentence for which I would like to get its embedding.\"\n",
    "paragraph = (\n",
    "    \"Universal Sentence Encoder embeddings also support short paragraphs. \"\n",
    "    \"There is no hard limit on how long the paragraph is. Roughly, the longer \"\n",
    "    \"the more 'diluted' the embedding will be.\")\n",
    "messages = [word, sentence, paragraph]\n",
    "\n",
    "# Reduce logging output.\n",
    "logging.set_verbosity(logging.ERROR)\n",
    "\n",
    "message_embeddings = embed(messages)\n",
    "\n",
    "for i, message_embedding in enumerate(np.array(message_embeddings).tolist()):\n",
    "  print(\"Message: {}\".format(messages[i]))\n",
    "  print(\"Embedding size: {}\".format(len(message_embedding)))\n",
    "  message_embedding_snippet = \", \".join(\n",
    "      (str(x) for x in message_embedding[:3]))\n",
    "  print(\"Embedding: [{}, ...]\\n\".format(message_embedding_snippet))"
   ]
  },
  {
   "cell_type": "code",
   "execution_count": 24,
   "id": "tight-distance",
   "metadata": {},
   "outputs": [],
   "source": [
    "def plot_similarity(labels, features, rotation):\n",
    "  corr = np.inner(features, features)\n",
    "  sns.set(font_scale=1.2)\n",
    "  g = sns.heatmap(\n",
    "      corr,\n",
    "      xticklabels=labels,\n",
    "      yticklabels=labels,\n",
    "      vmin=0,\n",
    "      vmax=1,\n",
    "      cmap=\"YlOrRd\")\n",
    "  g.set_xticklabels(labels, rotation=rotation)\n",
    "  g.set_title(\"Semantic Textual Similarity\")\n",
    "\n",
    "def run_and_plot(messages_):\n",
    "  message_embeddings_ = embed(messages_)\n",
    "  plot_similarity(messages_, message_embeddings_, 90)"
   ]
  },
  {
   "cell_type": "code",
   "execution_count": 25,
   "id": "spanish-sleep",
   "metadata": {
    "scrolled": true
   },
   "outputs": [
    {
     "data": {
      "image/png": "[encoded data removed]",
      "text/plain": [
       "<Figure size 432x288 with 2 Axes>"
      ]
     },
     "metadata": {},
     "output_type": "display_data"
    }
   ],
   "source": [
    "messages = [\n",
    "    # Smartphones\n",
    "    \"I like my phone\",\n",
    "    \"My phone is not good.\",\n",
    "    \"Your cellphone looks great.\",\n",
    "\n",
    "    # Weather\n",
    "    \"Will it snow tomorrow?\",\n",
    "    \"Recently a lot of hurricanes have hit the US\",\n",
    "    \"Global warming is real\",\n",
    "\n",
    "    # Food and health\n",
    "    \"An apple a day, keeps the doctors away\",\n",
    "    \"Eating strawberries is healthy\",\n",
    "    \"Is paleo better than keto?\",\n",
    "\n",
    "    # Asking about age\n",
    "    \"How old are you?\",\n",
    "    \"what is your age?\",\n",
    "]\n",
    "\n",
    "run_and_plot(messages)"
   ]
  },
  {
   "cell_type": "code",
   "execution_count": 50,
   "id": "structural-armstrong",
   "metadata": {},
   "outputs": [],
   "source": [
    "def get_similarity(labels, features):\n",
    "    corr = np.inner(features[0], features[1])\n",
    "#     print(f\"Sent1: {labels[0]}\\n Sent2: {labels[1]}\\n Semantic Textual Similarity is: {corr}\")\n",
    "    return corr\n",
    "    \n",
    "\n",
    "def run_sim(u, v):\n",
    "    messages_ = [u, v]\n",
    "#     print(messages_)\n",
    "    message_embeddings_ = embed(messages_)\n",
    "    return get_similarity(messages_, message_embeddings_)"
   ]
  },
  {
   "cell_type": "code",
   "execution_count": 51,
   "id": "latter-static",
   "metadata": {},
   "outputs": [
    {
     "name": "stdout",
     "output_type": "stream",
     "text": [
      "Mon Apr 18 17:03:43 CDT 2022\r\n"
     ]
    }
   ],
   "source": [
    "! date"
   ]
  },
  {
   "cell_type": "code",
   "execution_count": 52,
   "id": "manual-identification",
   "metadata": {},
   "outputs": [
    {
     "data": {
      "application/vnd.jupyter.widget-view+json": {
       "model_id": "26b3579ec2bb49b7aa4816a554845ec4",
       "version_major": 2,
       "version_minor": 0
      },
      "text/plain": [
       "  0%|          | 0/54071 [00:00<?, ?it/s]"
      ]
     },
     "metadata": {},
     "output_type": "display_data"
    },
    {
     "data": {
      "text/plain": [
       "5         0.092390\n",
       "6         0.002651\n",
       "8         0.071078\n",
       "9        -0.032931\n",
       "11        0.040371\n",
       "            ...   \n",
       "370348    0.027628\n",
       "370356    0.084599\n",
       "370357   -0.028147\n",
       "370358   -0.050111\n",
       "370368    0.040535\n",
       "Name: caption, Length: 54071, dtype: float32"
      ]
     },
     "execution_count": 52,
     "metadata": {},
     "output_type": "execute_result"
    }
   ],
   "source": [
    "df['caption'].progress_apply(run_sim, v='pedestrian stripe cross traffic crosswalk signal pedestrian')"
   ]
  },
  {
   "cell_type": "code",
   "execution_count": 53,
   "id": "absent-debate",
   "metadata": {},
   "outputs": [
    {
     "name": "stdout",
     "output_type": "stream",
     "text": [
      "Mon Apr 18 17:07:55 CDT 2022\r\n"
     ]
    }
   ],
   "source": [
    "! date"
   ]
  },
  {
   "cell_type": "code",
   "execution_count": 36,
   "id": "unnecessary-suffering",
   "metadata": {},
   "outputs": [],
   "source": [
    "def get_similarity_1(u, v):\n",
    "    message_embeddings_ = embed([u])\n",
    "    return np.inner(message_embeddings_, v)[0][0]\n"
   ]
  },
  {
   "cell_type": "code",
   "execution_count": 37,
   "id": "satisfactory-montana",
   "metadata": {},
   "outputs": [],
   "source": [
    "ms1 = \"I like my phone\"\n",
    "ms2 = \"My phone is not good.\"\n"
   ]
  },
  {
   "cell_type": "code",
   "execution_count": 38,
   "id": "built-belfast",
   "metadata": {},
   "outputs": [],
   "source": [
    "em1 = embed([ms1])"
   ]
  },
  {
   "cell_type": "code",
   "execution_count": 39,
   "id": "composed-healing",
   "metadata": {},
   "outputs": [],
   "source": [
    "em2 = embed([ms2])"
   ]
  },
  {
   "cell_type": "code",
   "execution_count": 40,
   "id": "vital-departure",
   "metadata": {},
   "outputs": [
    {
     "data": {
      "text/plain": [
       "0.6610783"
      ]
     },
     "execution_count": 40,
     "metadata": {},
     "output_type": "execute_result"
    }
   ],
   "source": [
    "np.inner(em1, em2)[0][0]"
   ]
  },
  {
   "cell_type": "code",
   "execution_count": 42,
   "id": "atomic-canvas",
   "metadata": {},
   "outputs": [
    {
     "name": "stdout",
     "output_type": "stream",
     "text": [
      "Similarity is: 0.6610782742500305\n"
     ]
    }
   ],
   "source": [
    "em2 = embed([\"My phone is not good.\"])\n",
    "sim1 = get_similarity_1(\"I like my phone\", em2)\n",
    "print(f\"Similarity is: {sim1}\")"
   ]
  },
  {
   "cell_type": "code",
   "execution_count": 32,
   "id": "hairy-outline",
   "metadata": {},
   "outputs": [
    {
     "name": "stdout",
     "output_type": "stream",
     "text": [
      "Similarity is: 0.6610783338546753\n"
     ]
    }
   ],
   "source": [
    "sim = run_sim(\"I like my phone\", \"My phone is not good.\")\n",
    "print(f\"Similarity is: {sim}\")\n"
   ]
  },
  {
   "cell_type": "code",
   "execution_count": 43,
   "id": "upset-strengthening",
   "metadata": {},
   "outputs": [],
   "source": [
    "l1 = embed(['pedestrian stripe cross traffic crosswalk signal pedestrian'])"
   ]
  },
  {
   "cell_type": "code",
   "execution_count": 44,
   "id": "orange-stadium",
   "metadata": {},
   "outputs": [
    {
     "name": "stdout",
     "output_type": "stream",
     "text": [
      "Mon Apr 18 16:59:02 CDT 2022\r\n"
     ]
    }
   ],
   "source": [
    "! date"
   ]
  },
  {
   "cell_type": "code",
   "execution_count": 45,
   "id": "amateur-eating",
   "metadata": {},
   "outputs": [
    {
     "data": {
      "application/vnd.jupyter.widget-view+json": {
       "model_id": "bcbc3232cad44f2f80234b80118b1a28",
       "version_major": 2,
       "version_minor": 0
      },
      "text/plain": [
       "  0%|          | 0/54071 [00:00<?, ?it/s]"
      ]
     },
     "metadata": {},
     "output_type": "display_data"
    }
   ],
   "source": [
    "df['csim_196'] = df['caption'].progress_apply(get_similarity_1, v=l1)"
   ]
  },
  {
   "cell_type": "code",
   "execution_count": 46,
   "id": "saved-shadow",
   "metadata": {},
   "outputs": [
    {
     "name": "stdout",
     "output_type": "stream",
     "text": [
      "Mon Apr 18 17:02:07 CDT 2022\r\n"
     ]
    }
   ],
   "source": [
    "! date"
   ]
  },
  {
   "cell_type": "code",
   "execution_count": 33,
   "id": "turkish-bonus",
   "metadata": {},
   "outputs": [
    {
     "name": "stdout",
     "output_type": "stream",
     "text": [
      "Sent1: cross crossing crosswalk pedestrian signal stripe traffic\n",
      "Sent2: pedestrian cross street.\n",
      "Semantic Textual Similarity is: 0.6211951971054077\n"
     ]
    }
   ],
   "source": [
    "l1 = ['cross', 'crossing',\n",
    "  'crosswalk',\n",
    "  'pedestrian',\n",
    "  'signal',\n",
    "  'stripe',\n",
    "  'traffic']\n",
    "u = ' '.join(l1)\n",
    "v = 'pedestrian cross street.'\n",
    "sim = run_sim(u, v)\n",
    "print(f\"Sent1: {u}\\nSent2: {v}\\nSemantic Textual Similarity is: {sim}\")"
   ]
  },
  {
   "cell_type": "markdown",
   "id": "statistical-eligibility",
   "metadata": {},
   "source": [
    "### Load Bert Model For Pedestrian"
   ]
  },
  {
   "cell_type": "code",
   "execution_count": 34,
   "id": "rotary-belly",
   "metadata": {},
   "outputs": [],
   "source": [
    "from bertopic import BERTopic"
   ]
  },
  {
   "cell_type": "code",
   "execution_count": 35,
   "id": "absolute-herald",
   "metadata": {},
   "outputs": [],
   "source": [
    "def get_wordnet_pos(word):\n",
    "    \"\"\"Map POS tag to first character lemmatize() accepts\"\"\"\n",
    "    tag = nltk.pos_tag([word])[0][1][0].upper()\n",
    "    tag_dict = {\"J\": wordnet.ADJ,\n",
    "                \"N\": wordnet.NOUN,\n",
    "                \"V\": wordnet.VERB,\n",
    "                \"R\": wordnet.ADV}\n",
    "\n",
    "    return tag_dict.get(tag, wordnet.NOUN)"
   ]
  },
  {
   "cell_type": "code",
   "execution_count": 36,
   "id": "understood-bubble",
   "metadata": {},
   "outputs": [],
   "source": [
    "ped_auto_model = BERTopic(nr_topics=\"auto\")\n",
    "ped_auto_model = BERTopic.load(\"ped_auto_model\")"
   ]
  },
  {
   "cell_type": "code",
   "execution_count": 37,
   "id": "anonymous-kansas",
   "metadata": {},
   "outputs": [
    {
     "name": "stdout",
     "output_type": "stream",
     "text": [
      "[196, 412, 172, 363, 198, 114, 419, 294, 388, 314, 98, 80, 134, 432, 394, 53, 56, 150, 278, -1, 43, 265, 345, 378, 11, 331, 202, 169, 327, 309, 68, 216, 40, 99, 426, 344, 47, 8, 416, 112, 137, 441, 192, 20, 296, 144, 12, 224, 250, 376]\n"
     ]
    }
   ],
   "source": [
    "ped_similar_topics, ped_similarity = ped_auto_model.find_topics(\"pedestrian\", top_n=50)\n",
    "print(ped_similar_topics)"
   ]
  },
  {
   "cell_type": "code",
   "execution_count": 38,
   "id": "terminal-thumbnail",
   "metadata": {
    "scrolled": true
   },
   "outputs": [],
   "source": [
    "ped_related_words = []\n",
    "ped_topics = dict()\n",
    "for t in ped_similar_topics:\n",
    "#     print(t)\n",
    "    l1 = ped_auto_model.get_topic(t)\n",
    "#     print(l1)\n",
    "    el_list = []\n",
    "    for el in l1:\n",
    "        w = lemmatizer.lemmatize(el[0], get_wordnet_pos(el[0]))\n",
    "        el_list.append(w)\n",
    "        ped_related_words.append(w)\n",
    "#     for e in el_list:\n",
    "#         print(e)\n",
    "    ped_topics[t]= set(el_list)\n",
    "#     print('\\n')"
   ]
  },
  {
   "cell_type": "code",
   "execution_count": 41,
   "id": "developed-crime",
   "metadata": {},
   "outputs": [
    {
     "name": "stdout",
     "output_type": "stream",
     "text": [
      "Fri Apr 15 21:14:10 CDT 2022\r\n"
     ]
    }
   ],
   "source": [
    "! date"
   ]
  },
  {
   "cell_type": "code",
   "execution_count": 42,
   "id": "dried-hughes",
   "metadata": {},
   "outputs": [
    {
     "name": "stdout",
     "output_type": "stream",
     "text": [
      "196 stripe cross traffic crosswalk crossing pedestrian signal\n"
     ]
    },
    {
     "data": {
      "application/vnd.jupyter.widget-view+json": {
       "model_id": "05e9d235828d49398d87e1074cacc2bc",
       "version_major": 2,
       "version_minor": 0
      },
      "text/plain": [
       "  0%|          | 0/542593 [00:00<?, ?it/s]"
      ]
     },
     "metadata": {},
     "output_type": "display_data"
    },
    {
     "name": "stdout",
     "output_type": "stream",
     "text": [
      "412 walk pers perp arrest walkability pedestrian walkable\n"
     ]
    },
    {
     "data": {
      "application/vnd.jupyter.widget-view+json": {
       "model_id": "d1eb6c87b77d4bcc92c907410723028d",
       "version_major": 2,
       "version_minor": 0
      },
      "text/plain": [
       "  0%|          | 0/542593 [00:00<?, ?it/s]"
      ]
     },
     "metadata": {},
     "output_type": "display_data"
    },
    {
     "name": "stdout",
     "output_type": "stream",
     "text": [
      "172 vehicle street car road transportation lane traffic pedestrian\n"
     ]
    },
    {
     "data": {
      "application/vnd.jupyter.widget-view+json": {
       "model_id": "3b8c724204ac413687d4816757467597",
       "version_major": 2,
       "version_minor": 0
      },
      "text/plain": [
       "  0%|          | 0/542593 [00:00<?, ?it/s]"
      ]
     },
     "metadata": {},
     "output_type": "display_data"
    },
    {
     "name": "stdout",
     "output_type": "stream",
     "text": [
      "363 intervention stalker bystander victim witness stalk intervene assault\n"
     ]
    },
    {
     "data": {
      "application/vnd.jupyter.widget-view+json": {
       "model_id": "44a7bfc7768f489cb17712a3a997f768",
       "version_major": 2,
       "version_minor": 0
      },
      "text/plain": [
       "  0%|          | 0/542593 [00:00<?, ?it/s]"
      ]
     },
     "metadata": {},
     "output_type": "display_data"
    },
    {
     "name": "stdout",
     "output_type": "stream",
     "text": [
      "198 vehicle tow car parking parkjockey park garage\n"
     ]
    },
    {
     "data": {
      "application/vnd.jupyter.widget-view+json": {
       "model_id": "b0fabbfe31fe491ea06c676ed97c1120",
       "version_major": 2,
       "version_minor": 0
      },
      "text/plain": [
       "  0%|          | 0/542593 [00:00<?, ?it/s]"
      ]
     },
     "metadata": {},
     "output_type": "display_data"
    },
    {
     "name": "stdout",
     "output_type": "stream",
     "text": [
      "114 disability sport athlete sportspeople wheelchair paralympic paralympics\n"
     ]
    },
    {
     "data": {
      "application/vnd.jupyter.widget-view+json": {
       "model_id": "27d39279c0924895b50a1313d484fb51",
       "version_major": 2,
       "version_minor": 0
      },
      "text/plain": [
       "  0%|          | 0/542593 [00:00<?, ?it/s]"
      ]
     },
     "metadata": {},
     "output_type": "display_data"
    },
    {
     "name": "stdout",
     "output_type": "stream",
     "text": [
      "419 intersection boulevard avenue street manhattan road suffix\n"
     ]
    },
    {
     "data": {
      "application/vnd.jupyter.widget-view+json": {
       "model_id": "9a79e44554e141a4a10cec846defadbd",
       "version_major": 2,
       "version_minor": 0
      },
      "text/plain": [
       "  0%|          | 0/542593 [00:00<?, ?it/s]"
      ]
     },
     "metadata": {},
     "output_type": "display_data"
    },
    {
     "name": "stdout",
     "output_type": "stream",
     "text": [
      "294 offence fine drive ticket penalty licence speed traffic reckless violation\n"
     ]
    },
    {
     "data": {
      "application/vnd.jupyter.widget-view+json": {
       "model_id": "c84918cce6114ff7aeb2fb5c66414da1",
       "version_major": 2,
       "version_minor": 0
      },
      "text/plain": [
       "  0%|          | 0/542593 [00:00<?, ?it/s]"
      ]
     },
     "metadata": {},
     "output_type": "display_data"
    },
    {
     "name": "stdout",
     "output_type": "stream",
     "text": [
      "388 markov walk wiener distribution diffusion stochastic percolation step brownian\n"
     ]
    },
    {
     "data": {
      "application/vnd.jupyter.widget-view+json": {
       "model_id": "576e847008d14f9993439ccc1c50abbe",
       "version_major": 2,
       "version_minor": 0
      },
      "text/plain": [
       "  0%|          | 0/542593 [00:00<?, ?it/s]"
      ]
     },
     "metadata": {},
     "output_type": "display_data"
    },
    {
     "name": "stdout",
     "output_type": "stream",
     "text": [
      "314 intersection junction interchange roundabout circle lane road traffic\n"
     ]
    },
    {
     "data": {
      "application/vnd.jupyter.widget-view+json": {
       "model_id": "f21b2d95abaf4ae682e073dd70eb08f6",
       "version_major": 2,
       "version_minor": 0
      },
      "text/plain": [
       "  0%|          | 0/542593 [00:00<?, ?it/s]"
      ]
     },
     "metadata": {},
     "output_type": "display_data"
    },
    {
     "name": "stdout",
     "output_type": "stream",
     "text": [
      "98 direction cross sign road parking traffic lane signage marker\n"
     ]
    },
    {
     "data": {
      "application/vnd.jupyter.widget-view+json": {
       "model_id": "7283482fb9ac49bcbce3d6e365818400",
       "version_major": 2,
       "version_minor": 0
      },
      "text/plain": [
       "  0%|          | 0/542593 [00:00<?, ?it/s]"
      ]
     },
     "metadata": {},
     "output_type": "display_data"
    },
    {
     "name": "stdout",
     "output_type": "stream",
     "text": [
      "80 accident drive vehicle velocity fatality nhtsa collision momentum brake\n"
     ]
    },
    {
     "data": {
      "application/vnd.jupyter.widget-view+json": {
       "model_id": "d92e12ad82664e2c8f113952dbbfbe20",
       "version_major": 2,
       "version_minor": 0
      },
      "text/plain": [
       "  0%|          | 0/542593 [00:00<?, ?it/s]"
      ]
     },
     "metadata": {},
     "output_type": "display_data"
    },
    {
     "name": "stdout",
     "output_type": "stream",
     "text": [
      "134 edmonton freeway avenue highway road gardiner expressway lane toronto ontario\n"
     ]
    },
    {
     "data": {
      "application/vnd.jupyter.widget-view+json": {
       "model_id": "51a6378e1bcc409f949facd61f99a9fc",
       "version_major": 2,
       "version_minor": 0
      },
      "text/plain": [
       "  0%|          | 0/542593 [00:00<?, ?it/s]"
      ]
     },
     "metadata": {},
     "output_type": "display_data"
    },
    {
     "name": "stdout",
     "output_type": "stream",
     "text": [
      "432 book walker poem fiction poetry alice novel pulitzer\n"
     ]
    },
    {
     "data": {
      "application/vnd.jupyter.widget-view+json": {
       "model_id": "f570475f0c074f9fbf2818878533ecb0",
       "version_major": 2,
       "version_minor": 0
      },
      "text/plain": [
       "  0%|          | 0/542593 [00:00<?, ?it/s]"
      ]
     },
     "metadata": {},
     "output_type": "display_data"
    },
    {
     "name": "stdout",
     "output_type": "stream",
     "text": [
      "394 boulevard alley bridleway path bridleways footpath\n"
     ]
    },
    {
     "data": {
      "application/vnd.jupyter.widget-view+json": {
       "model_id": "d0f81880bb0a4efd8b056c175c0705cd",
       "version_major": 2,
       "version_minor": 0
      },
      "text/plain": [
       "  0%|          | 0/542593 [00:00<?, ?it/s]"
      ]
     },
     "metadata": {},
     "output_type": "display_data"
    },
    {
     "name": "stdout",
     "output_type": "stream",
     "text": [
      "53 concrete asphalt pavement cement pothole road gravel pave sand\n"
     ]
    },
    {
     "data": {
      "application/vnd.jupyter.widget-view+json": {
       "model_id": "46292a239e154deeaa9c146bf61bca5c",
       "version_major": 2,
       "version_minor": 0
      },
      "text/plain": [
       "  0%|          | 0/542593 [00:00<?, ?it/s]"
      ]
     },
     "metadata": {},
     "output_type": "display_data"
    },
    {
     "name": "stdout",
     "output_type": "stream",
     "text": [
      "56 trolley train tram bus transportation streetcar transit subway\n"
     ]
    },
    {
     "data": {
      "application/vnd.jupyter.widget-view+json": {
       "model_id": "98b318df75814d5f96b372a6559e35da",
       "version_major": 2,
       "version_minor": 0
      },
      "text/plain": [
       "  0%|          | 0/542593 [00:00<?, ?it/s]"
      ]
     },
     "metadata": {},
     "output_type": "display_data"
    },
    {
     "name": "stdout",
     "output_type": "stream",
     "text": [
      "150 intersection freeway highway ramp lane road traffic\n"
     ]
    },
    {
     "data": {
      "application/vnd.jupyter.widget-view+json": {
       "model_id": "7b8153a7a9444145a8d0eeb274158bfd",
       "version_major": 2,
       "version_minor": 0
      },
      "text/plain": [
       "  0%|          | 0/542593 [00:00<?, ?it/s]"
      ]
     },
     "metadata": {},
     "output_type": "display_data"
    },
    {
     "name": "stdout",
     "output_type": "stream",
     "text": [
      "278 walk promenaden promener deck promenade promenadef park\n"
     ]
    },
    {
     "data": {
      "application/vnd.jupyter.widget-view+json": {
       "model_id": "e1014e9d711141a0bd49b29944dda227",
       "version_major": 2,
       "version_minor": 0
      },
      "text/plain": [
       "  0%|          | 0/542593 [00:00<?, ?it/s]"
      ]
     },
     "metadata": {},
     "output_type": "display_data"
    },
    {
     "name": "stdout",
     "output_type": "stream",
     "text": [
      "-1 public century water american street film her state example\n"
     ]
    },
    {
     "data": {
      "application/vnd.jupyter.widget-view+json": {
       "model_id": "04b89fbd9d904f8c982868f9fae35955",
       "version_major": 2,
       "version_minor": 0
      },
      "text/plain": [
       "  0%|          | 0/542593 [00:00<?, ?it/s]"
      ]
     },
     "metadata": {},
     "output_type": "display_data"
    },
    {
     "name": "stdout",
     "output_type": "stream",
     "text": [
      "43 protester white racial civil protest black race negro segregation\n"
     ]
    },
    {
     "data": {
      "application/vnd.jupyter.widget-view+json": {
       "model_id": "bb9e96604c724568b620539914126587",
       "version_major": 2,
       "version_minor": 0
      },
      "text/plain": [
       "  0%|          | 0/542593 [00:00<?, ?it/s]"
      ]
     },
     "metadata": {},
     "output_type": "display_data"
    },
    {
     "name": "stdout",
     "output_type": "stream",
     "text": [
      "265 infant stroller harness diaper child carriage hatch baby\n"
     ]
    },
    {
     "data": {
      "application/vnd.jupyter.widget-view+json": {
       "model_id": "de865c9dd9254607b44c197843a7a4cf",
       "version_major": 2,
       "version_minor": 0
      },
      "text/plain": [
       "  0%|          | 0/542593 [00:00<?, ?it/s]"
      ]
     },
     "metadata": {},
     "output_type": "display_data"
    },
    {
     "name": "stdout",
     "output_type": "stream",
     "text": [
      "345 guardrail hazard barrier bumper protect rail safety\n"
     ]
    },
    {
     "data": {
      "application/vnd.jupyter.widget-view+json": {
       "model_id": "481600974bf14da984d46f0cbe515aed",
       "version_major": 2,
       "version_minor": 0
      },
      "text/plain": [
       "  0%|          | 0/542593 [00:00<?, ?it/s]"
      ]
     },
     "metadata": {},
     "output_type": "display_data"
    },
    {
     "name": "stdout",
     "output_type": "stream",
     "text": [
      "378 chicago park architect frederick city building architecture\n"
     ]
    },
    {
     "data": {
      "application/vnd.jupyter.widget-view+json": {
       "model_id": "39791c2c48b04d678f3040c6cd8d6177",
       "version_major": 2,
       "version_minor": 0
      },
      "text/plain": [
       "  0%|          | 0/542593 [00:00<?, ?it/s]"
      ]
     },
     "metadata": {},
     "output_type": "display_data"
    },
    {
     "name": "stdout",
     "output_type": "stream",
     "text": [
      "11 intersection freeway terminus highway interstate route turnpike road lane\n"
     ]
    },
    {
     "data": {
      "application/vnd.jupyter.widget-view+json": {
       "model_id": "686563da25cc47eaaad06fae417ba503",
       "version_major": 2,
       "version_minor": 0
      },
      "text/plain": [
       "  0%|          | 0/542593 [00:00<?, ?it/s]"
      ]
     },
     "metadata": {},
     "output_type": "display_data"
    },
    {
     "name": "stdout",
     "output_type": "stream",
     "text": [
      "331 highway route byway road parkway roadway scenic navajo\n"
     ]
    },
    {
     "data": {
      "application/vnd.jupyter.widget-view+json": {
       "model_id": "5b4952b2a0744bdab3f80c882f1341f6",
       "version_major": 2,
       "version_minor": 0
      },
      "text/plain": [
       "  0%|          | 0/542593 [00:00<?, ?it/s]"
      ]
     },
     "metadata": {},
     "output_type": "display_data"
    },
    {
     "name": "stdout",
     "output_type": "stream",
     "text": [
      "202 vehicle delay downstream congestion congest road speed traffic bottleneck\n"
     ]
    },
    {
     "data": {
      "application/vnd.jupyter.widget-view+json": {
       "model_id": "0af127b3b1194411bfbe5e8ad722d637",
       "version_major": 2,
       "version_minor": 0
      },
      "text/plain": [
       "  0%|          | 0/542593 [00:00<?, ?it/s]"
      ]
     },
     "metadata": {},
     "output_type": "display_data"
    },
    {
     "name": "stdout",
     "output_type": "stream",
     "text": [
      "169 shelter home housing homelessness apartment house condominium homeless household\n"
     ]
    },
    {
     "data": {
      "application/vnd.jupyter.widget-view+json": {
       "model_id": "d68af4e5fd444e1f8dd68b7cd56346df",
       "version_major": 2,
       "version_minor": 0
      },
      "text/plain": [
       "  0%|          | 0/542593 [00:00<?, ?it/s]"
      ]
     },
     "metadata": {},
     "output_type": "display_data"
    },
    {
     "name": "stdout",
     "output_type": "stream",
     "text": [
      "327 torch pedestal bartholdi sculptor sculpture liberty statue monument lazarus\n"
     ]
    },
    {
     "data": {
      "application/vnd.jupyter.widget-view+json": {
       "model_id": "7c7f7f71d68843ff929a1bcfee660d46",
       "version_major": 2,
       "version_minor": 0
      },
      "text/plain": [
       "  0%|          | 0/542593 [00:00<?, ?it/s]"
      ]
     },
     "metadata": {},
     "output_type": "display_data"
    },
    {
     "name": "stdout",
     "output_type": "stream",
     "text": [
      "309 geelong train close adelaide line railway rail melbourne carriageworks\n"
     ]
    },
    {
     "data": {
      "application/vnd.jupyter.widget-view+json": {
       "model_id": "edf7f643e1c2496090f6453a3fb5c0db",
       "version_major": 2,
       "version_minor": 0
      },
      "text/plain": [
       "  0%|          | 0/542593 [00:00<?, ?it/s]"
      ]
     },
     "metadata": {},
     "output_type": "display_data"
    },
    {
     "name": "stdout",
     "output_type": "stream",
     "text": [
      "68 vehicle wheel axle chariot carriage wagon passenger\n"
     ]
    },
    {
     "data": {
      "application/vnd.jupyter.widget-view+json": {
       "model_id": "aa4fe33af3054bb0b5c50caebdbb8a82",
       "version_major": 2,
       "version_minor": 0
      },
      "text/plain": [
       "  0%|          | 0/542593 [00:00<?, ?it/s]"
      ]
     },
     "metadata": {},
     "output_type": "display_data"
    },
    {
     "name": "stdout",
     "output_type": "stream",
     "text": [
      "216 m11 motorway roundabout m32 m25 road lane m1 carriageway\n"
     ]
    },
    {
     "data": {
      "application/vnd.jupyter.widget-view+json": {
       "model_id": "a694f0df39ef4d738343ee2ce66b5c46",
       "version_major": 2,
       "version_minor": 0
      },
      "text/plain": [
       "  0%|          | 0/542593 [00:00<?, ?it/s]"
      ]
     },
     "metadata": {},
     "output_type": "display_data"
    },
    {
     "name": "stdout",
     "output_type": "stream",
     "text": [
      "40 police officer constabulary enforcement arrest patrol constable\n"
     ]
    },
    {
     "data": {
      "application/vnd.jupyter.widget-view+json": {
       "model_id": "76255191a640484c88f4fec0ebbe6dc7",
       "version_major": 2,
       "version_minor": 0
      },
      "text/plain": [
       "  0%|          | 0/542593 [00:00<?, ?it/s]"
      ]
     },
     "metadata": {},
     "output_type": "display_data"
    },
    {
     "name": "stdout",
     "output_type": "stream",
     "text": [
      "99 concrete structure insulation roof masonry construction wall building\n"
     ]
    },
    {
     "data": {
      "application/vnd.jupyter.widget-view+json": {
       "model_id": "7435c40a77d547e38d12e3f42150d044",
       "version_major": 2,
       "version_minor": 0
      },
      "text/plain": [
       "  0%|          | 0/542593 [00:00<?, ?it/s]"
      ]
     },
     "metadata": {},
     "output_type": "display_data"
    },
    {
     "name": "stdout",
     "output_type": "stream",
     "text": [
      "426 cv2x unlock vehicle v2x v2v vehicular vanets 80211p vanet\n"
     ]
    },
    {
     "data": {
      "application/vnd.jupyter.widget-view+json": {
       "model_id": "be37a2b52a4f46009d7ca07a5c6b7da9",
       "version_major": 2,
       "version_minor": 0
      },
      "text/plain": [
       "  0%|          | 0/542593 [00:00<?, ?it/s]"
      ]
     },
     "metadata": {},
     "output_type": "display_data"
    },
    {
     "name": "stdout",
     "output_type": "stream",
     "text": [
      "344 roman rome road corniche pave adriatic censor itinerary\n"
     ]
    },
    {
     "data": {
      "application/vnd.jupyter.widget-view+json": {
       "model_id": "e33dee413fb44ae3a5cb065f93e19934",
       "version_major": 2,
       "version_minor": 0
      },
      "text/plain": [
       "  0%|          | 0/542593 [00:00<?, ?it/s]"
      ]
     },
     "metadata": {},
     "output_type": "display_data"
    },
    {
     "name": "stdout",
     "output_type": "stream",
     "text": [
      "47 brooklyn train broadwayseventh station broadway avenue manhattan subway bmt\n"
     ]
    },
    {
     "data": {
      "application/vnd.jupyter.widget-view+json": {
       "model_id": "79ab6d62c7e646788d4878ff525b396a",
       "version_major": 2,
       "version_minor": 0
      },
      "text/plain": [
       "  0%|          | 0/542593 [00:00<?, ?it/s]"
      ]
     },
     "metadata": {},
     "output_type": "display_data"
    },
    {
     "name": "stdout",
     "output_type": "stream",
     "text": [
      "8 cycling bicycle rid tire cycle rider cyclist bike\n"
     ]
    },
    {
     "data": {
      "application/vnd.jupyter.widget-view+json": {
       "model_id": "04ac6163fe8b4d7a8958bf6aae54e32a",
       "version_major": 2,
       "version_minor": 0
      },
      "text/plain": [
       "  0%|          | 0/542593 [00:00<?, ?it/s]"
      ]
     },
     "metadata": {},
     "output_type": "display_data"
    },
    {
     "name": "stdout",
     "output_type": "stream",
     "text": [
      "416 sift pixel detector ocr descriptor detection recognition vision keypoints\n"
     ]
    },
    {
     "data": {
      "application/vnd.jupyter.widget-view+json": {
       "model_id": "c2d5bd8a85e04b88a023b507d5cfb338",
       "version_major": 2,
       "version_minor": 0
      },
      "text/plain": [
       "  0%|          | 0/542593 [00:00<?, ?it/s]"
      ]
     },
     "metadata": {},
     "output_type": "display_data"
    },
    {
     "name": "stdout",
     "output_type": "stream",
     "text": [
      "112 transport bus congestion route transportation freight traffic transit passenger\n"
     ]
    },
    {
     "data": {
      "application/vnd.jupyter.widget-view+json": {
       "model_id": "327727144ec04517b25c388cd504bc23",
       "version_major": 2,
       "version_minor": 0
      },
      "text/plain": [
       "  0%|          | 0/542593 [00:00<?, ?it/s]"
      ]
     },
     "metadata": {},
     "output_type": "display_data"
    },
    {
     "name": "stdout",
     "output_type": "stream",
     "text": [
      "137 freeway motorway highway road lane expressway\n"
     ]
    },
    {
     "data": {
      "application/vnd.jupyter.widget-view+json": {
       "model_id": "0ffc25a955214797ac23673e2bbe392b",
       "version_major": 2,
       "version_minor": 0
      },
      "text/plain": [
       "  0%|          | 0/542593 [00:00<?, ?it/s]"
      ]
     },
     "metadata": {},
     "output_type": "display_data"
    },
    {
     "name": "stdout",
     "output_type": "stream",
     "text": [
      "441 shakespeare actor drama character hamlet romeo novel protagonist\n"
     ]
    },
    {
     "data": {
      "application/vnd.jupyter.widget-view+json": {
       "model_id": "4af894a616d443fb874c355de81cc63b",
       "version_major": 2,
       "version_minor": 0
      },
      "text/plain": [
       "  0%|          | 0/542593 [00:00<?, ?it/s]"
      ]
     },
     "metadata": {},
     "output_type": "display_data"
    },
    {
     "name": "stdout",
     "output_type": "stream",
     "text": [
      "192 symptom cerebral disorder syndrome cerebellum palsy gait cerebellar diplegia ataxia\n"
     ]
    },
    {
     "data": {
      "application/vnd.jupyter.widget-view+json": {
       "model_id": "800accb7d516451480a8e846785209f2",
       "version_major": 2,
       "version_minor": 0
      },
      "text/plain": [
       "  0%|          | 0/542593 [00:00<?, ?it/s]"
      ]
     },
     "metadata": {},
     "output_type": "display_data"
    },
    {
     "name": "stdout",
     "output_type": "stream",
     "text": [
      "20 dance foot leg dancer ankle toe\n"
     ]
    },
    {
     "data": {
      "application/vnd.jupyter.widget-view+json": {
       "model_id": "a26d2af5709b493986d636c51128b1a5",
       "version_major": 2,
       "version_minor": 0
      },
      "text/plain": [
       "  0%|          | 0/542593 [00:00<?, ?it/s]"
      ]
     },
     "metadata": {},
     "output_type": "display_data"
    },
    {
     "name": "stdout",
     "output_type": "stream",
     "text": [
      "296 playground park yellowstone area monument wilderness scenic recreation\n"
     ]
    },
    {
     "data": {
      "application/vnd.jupyter.widget-view+json": {
       "model_id": "0a28f661db6c42f5a0f5f2a21e7b17e2",
       "version_major": 2,
       "version_minor": 0
      },
      "text/plain": [
       "  0%|          | 0/542593 [00:00<?, ?it/s]"
      ]
     },
     "metadata": {},
     "output_type": "display_data"
    },
    {
     "name": "stdout",
     "output_type": "stream",
     "text": [
      "144  more image comma person share address video separate\n"
     ]
    },
    {
     "data": {
      "application/vnd.jupyter.widget-view+json": {
       "model_id": "731d8dedae834103bbdb1f158b6bb33f",
       "version_major": 2,
       "version_minor": 0
      },
      "text/plain": [
       "  0%|          | 0/542593 [00:00<?, ?it/s]"
      ]
     },
     "metadata": {},
     "output_type": "display_data"
    },
    {
     "name": "stdout",
     "output_type": "stream",
     "text": [
      "12 hike trail appalachian mountain path hiker footpath\n"
     ]
    },
    {
     "data": {
      "application/vnd.jupyter.widget-view+json": {
       "model_id": "7719982d4a074a84829c628c84f5bc98",
       "version_major": 2,
       "version_minor": 0
      },
      "text/plain": [
       "  0%|          | 0/542593 [00:00<?, ?it/s]"
      ]
     },
     "metadata": {},
     "output_type": "display_data"
    },
    {
     "name": "stdout",
     "output_type": "stream",
     "text": [
      "224 tram bus depot singapore sb fleet transit goahead smrt\n"
     ]
    },
    {
     "data": {
      "application/vnd.jupyter.widget-view+json": {
       "model_id": "a05355489d194877bae0a72698ab869c",
       "version_major": 2,
       "version_minor": 0
      },
      "text/plain": [
       "  0%|          | 0/542593 [00:00<?, ?it/s]"
      ]
     },
     "metadata": {},
     "output_type": "display_data"
    },
    {
     "name": "stdout",
     "output_type": "stream",
     "text": [
      "250 kmdf umdf kernelmode usb kernel graphic driver linux printer\n"
     ]
    },
    {
     "data": {
      "application/vnd.jupyter.widget-view+json": {
       "model_id": "c9851ac22cfe4b2081376f00b594802c",
       "version_major": 2,
       "version_minor": 0
      },
      "text/plain": [
       "  0%|          | 0/542593 [00:00<?, ?it/s]"
      ]
     },
     "metadata": {},
     "output_type": "display_data"
    },
    {
     "name": "stdout",
     "output_type": "stream",
     "text": [
      "376 trolley cartoon peanut snoopy charlie lucy disney bear mickey\n"
     ]
    },
    {
     "data": {
      "application/vnd.jupyter.widget-view+json": {
       "model_id": "bb40e2d90af64f95a9041fa0d91fee7c",
       "version_major": 2,
       "version_minor": 0
      },
      "text/plain": [
       "  0%|          | 0/542593 [00:00<?, ?it/s]"
      ]
     },
     "metadata": {},
     "output_type": "display_data"
    },
    {
     "name": "stdout",
     "output_type": "stream",
     "text": [
      "CPU times: user 2d 21h 19min 29s, sys: 10h 26min 10s, total: 3d 7h 45min 39s\n",
      "Wall time: 1d 9h 18min 9s\n"
     ]
    }
   ],
   "source": [
    "%%time\n",
    "for top in ped_topics:\n",
    "    l1 = ' '.join(ped_topics[top])\n",
    "    print(top, l1)\n",
    "    df[f'csim_{top}'] = df['caption'].progress_apply(run_sim, v=l1)"
   ]
  },
  {
   "cell_type": "code",
   "execution_count": null,
   "id": "inappropriate-mattress",
   "metadata": {},
   "outputs": [],
   "source": [
    "! date"
   ]
  },
  {
   "cell_type": "code",
   "execution_count": 45,
   "id": "purple-allergy",
   "metadata": {},
   "outputs": [
    {
     "data": {
      "text/html": [
       "<div>\n",
       "<style scoped>\n",
       "    .dataframe tbody tr th:only-of-type {\n",
       "        vertical-align: middle;\n",
       "    }\n",
       "\n",
       "    .dataframe tbody tr th {\n",
       "        vertical-align: top;\n",
       "    }\n",
       "\n",
       "    .dataframe thead th {\n",
       "        text-align: right;\n",
       "    }\n",
       "</style>\n",
       "<table border=\"1\" class=\"dataframe\">\n",
       "  <thead>\n",
       "    <tr style=\"text-align: right;\">\n",
       "      <th></th>\n",
       "      <th>language</th>\n",
       "      <th>page_url</th>\n",
       "      <th>image_url</th>\n",
       "      <th>page_title</th>\n",
       "      <th>section_title</th>\n",
       "      <th>hierarchical_section_title</th>\n",
       "      <th>caption_reference_description</th>\n",
       "      <th>caption_attribution_description</th>\n",
       "      <th>caption_alt_text_description</th>\n",
       "      <th>mime_type</th>\n",
       "      <th>...</th>\n",
       "      <th>csim_137</th>\n",
       "      <th>csim_441</th>\n",
       "      <th>csim_192</th>\n",
       "      <th>csim_20</th>\n",
       "      <th>csim_296</th>\n",
       "      <th>csim_144</th>\n",
       "      <th>csim_12</th>\n",
       "      <th>csim_224</th>\n",
       "      <th>csim_250</th>\n",
       "      <th>csim_376</th>\n",
       "    </tr>\n",
       "  </thead>\n",
       "  <tbody>\n",
       "    <tr>\n",
       "      <th>0</th>\n",
       "      <td>en</td>\n",
       "      <td>https://en.wikipedia.org/wiki/Oxydactylus</td>\n",
       "      <td>https://upload.wikimedia.org/wikipedia/commons...</td>\n",
       "      <td>Oxydactylus</td>\n",
       "      <td>NaN</td>\n",
       "      <td>Oxydactylus</td>\n",
       "      <td>NaN</td>\n",
       "      <td>English: Mounted skeleton of Oxydactylus longi...</td>\n",
       "      <td>NaN</td>\n",
       "      <td>image/jpeg</td>\n",
       "      <td>...</td>\n",
       "      <td>0.022390</td>\n",
       "      <td>0.017340</td>\n",
       "      <td>0.068468</td>\n",
       "      <td>0.105572</td>\n",
       "      <td>0.309375</td>\n",
       "      <td>-0.064047</td>\n",
       "      <td>0.126270</td>\n",
       "      <td>0.054185</td>\n",
       "      <td>0.061353</td>\n",
       "      <td>0.007972</td>\n",
       "    </tr>\n",
       "    <tr>\n",
       "      <th>5</th>\n",
       "      <td>en</td>\n",
       "      <td>https://en.wikipedia.org/wiki/Maine%27s_3rd_co...</td>\n",
       "      <td>https://upload.wikimedia.org/wikipedia/commons...</td>\n",
       "      <td>Maine's 3rd congressional district</td>\n",
       "      <td>List of members representing the district</td>\n",
       "      <td>Maine's 3rd congressional district / List of m...</td>\n",
       "      <td>NaN</td>\n",
       "      <td>English: Samuel W. Gould, US Representative fr...</td>\n",
       "      <td>NaN</td>\n",
       "      <td>image/jpeg</td>\n",
       "      <td>...</td>\n",
       "      <td>0.091500</td>\n",
       "      <td>0.171062</td>\n",
       "      <td>0.131640</td>\n",
       "      <td>-0.054578</td>\n",
       "      <td>0.030377</td>\n",
       "      <td>-0.049593</td>\n",
       "      <td>0.007117</td>\n",
       "      <td>0.040431</td>\n",
       "      <td>0.019668</td>\n",
       "      <td>0.098337</td>\n",
       "    </tr>\n",
       "    <tr>\n",
       "      <th>7</th>\n",
       "      <td>en</td>\n",
       "      <td>https://en.wikipedia.org/wiki/Cheraw</td>\n",
       "      <td>https://upload.wikimedia.org/wikipedia/commons...</td>\n",
       "      <td>Cheraw</td>\n",
       "      <td>18th century</td>\n",
       "      <td>Cheraw / History / 18th century</td>\n",
       "      <td>A c. 1724 English copy of a deerskin Catawba m...</td>\n",
       "      <td>English: \"Map of the Several Nations of Indian...</td>\n",
       "      <td>NaN</td>\n",
       "      <td>image/jpeg</td>\n",
       "      <td>...</td>\n",
       "      <td>0.028648</td>\n",
       "      <td>0.124176</td>\n",
       "      <td>0.103128</td>\n",
       "      <td>-0.115666</td>\n",
       "      <td>0.098822</td>\n",
       "      <td>0.038694</td>\n",
       "      <td>0.061790</td>\n",
       "      <td>-0.038401</td>\n",
       "      <td>0.093548</td>\n",
       "      <td>0.002280</td>\n",
       "    </tr>\n",
       "    <tr>\n",
       "      <th>13</th>\n",
       "      <td>en</td>\n",
       "      <td>https://en.wikipedia.org/wiki/Romanian_Front</td>\n",
       "      <td>https://upload.wikimedia.org/wikipedia/commons...</td>\n",
       "      <td>Romanian Front</td>\n",
       "      <td>Stagnation</td>\n",
       "      <td>Romanian Front / History / Stagnation</td>\n",
       "      <td>Nameplate of Gazeta Transilvaniei on June 14, ...</td>\n",
       "      <td>English: Nameplate of the Romanian nationalist...</td>\n",
       "      <td>NaN</td>\n",
       "      <td>image/png</td>\n",
       "      <td>...</td>\n",
       "      <td>0.000092</td>\n",
       "      <td>0.010703</td>\n",
       "      <td>0.119094</td>\n",
       "      <td>-0.088100</td>\n",
       "      <td>0.010767</td>\n",
       "      <td>-0.052269</td>\n",
       "      <td>-0.114121</td>\n",
       "      <td>0.209922</td>\n",
       "      <td>0.122310</td>\n",
       "      <td>-0.007919</td>\n",
       "    </tr>\n",
       "    <tr>\n",
       "      <th>18</th>\n",
       "      <td>en</td>\n",
       "      <td>https://en.wikipedia.org/wiki/%C3%81d%C3%A1m_K...</td>\n",
       "      <td>https://upload.wikimedia.org/wikipedia/commons...</td>\n",
       "      <td>Ádám Kósa</td>\n",
       "      <td>NaN</td>\n",
       "      <td>Ádám Kósa</td>\n",
       "      <td>NaN</td>\n",
       "      <td>English: Hungarian MEP Ádám Kósa</td>\n",
       "      <td>NaN</td>\n",
       "      <td>image/jpeg</td>\n",
       "      <td>...</td>\n",
       "      <td>0.065469</td>\n",
       "      <td>0.231577</td>\n",
       "      <td>0.151084</td>\n",
       "      <td>0.121727</td>\n",
       "      <td>0.105916</td>\n",
       "      <td>-0.041195</td>\n",
       "      <td>0.099385</td>\n",
       "      <td>0.124610</td>\n",
       "      <td>0.005871</td>\n",
       "      <td>0.110721</td>\n",
       "    </tr>\n",
       "    <tr>\n",
       "      <th>...</th>\n",
       "      <td>...</td>\n",
       "      <td>...</td>\n",
       "      <td>...</td>\n",
       "      <td>...</td>\n",
       "      <td>...</td>\n",
       "      <td>...</td>\n",
       "      <td>...</td>\n",
       "      <td>...</td>\n",
       "      <td>...</td>\n",
       "      <td>...</td>\n",
       "      <td>...</td>\n",
       "      <td>...</td>\n",
       "      <td>...</td>\n",
       "      <td>...</td>\n",
       "      <td>...</td>\n",
       "      <td>...</td>\n",
       "      <td>...</td>\n",
       "      <td>...</td>\n",
       "      <td>...</td>\n",
       "      <td>...</td>\n",
       "      <td>...</td>\n",
       "    </tr>\n",
       "    <tr>\n",
       "      <th>3707993</th>\n",
       "      <td>en</td>\n",
       "      <td>https://en.wikipedia.org/wiki/History_of_Latin</td>\n",
       "      <td>https://upload.wikimedia.org/wikipedia/commons...</td>\n",
       "      <td>History of Latin</td>\n",
       "      <td>Old Latin</td>\n",
       "      <td>History of Latin / Old Latin</td>\n",
       "      <td>The Duenos inscription, from the 6th century B...</td>\n",
       "      <td>NaN</td>\n",
       "      <td>NaN</td>\n",
       "      <td>image/jpeg</td>\n",
       "      <td>...</td>\n",
       "      <td>0.010794</td>\n",
       "      <td>0.040765</td>\n",
       "      <td>0.007090</td>\n",
       "      <td>-0.067847</td>\n",
       "      <td>-0.059921</td>\n",
       "      <td>-0.066225</td>\n",
       "      <td>0.016226</td>\n",
       "      <td>0.011186</td>\n",
       "      <td>0.002621</td>\n",
       "      <td>0.002518</td>\n",
       "    </tr>\n",
       "    <tr>\n",
       "      <th>3707995</th>\n",
       "      <td>en</td>\n",
       "      <td>https://en.wikipedia.org/wiki/Battenberg_Castle</td>\n",
       "      <td>http://upload.wikimedia.org/wikipedia/commons/...</td>\n",
       "      <td>Battenberg Castle</td>\n",
       "      <td>NaN</td>\n",
       "      <td>Battenberg Castle</td>\n",
       "      <td>The Blitzröhren below the castle ruins</td>\n",
       "      <td>English: The so-called lightning tubes near Ba...</td>\n",
       "      <td>NaN</td>\n",
       "      <td>image/jpeg</td>\n",
       "      <td>...</td>\n",
       "      <td>-0.025319</td>\n",
       "      <td>0.093329</td>\n",
       "      <td>-0.026042</td>\n",
       "      <td>0.062904</td>\n",
       "      <td>0.052405</td>\n",
       "      <td>-0.087140</td>\n",
       "      <td>-0.060968</td>\n",
       "      <td>0.106147</td>\n",
       "      <td>0.028181</td>\n",
       "      <td>0.017901</td>\n",
       "    </tr>\n",
       "    <tr>\n",
       "      <th>3708002</th>\n",
       "      <td>en</td>\n",
       "      <td>https://en.wikipedia.org/wiki/List_of_research...</td>\n",
       "      <td>https://upload.wikimedia.org/wikipedia/commons...</td>\n",
       "      <td>List of research vessels by country</td>\n",
       "      <td>National Oceanic and Atmospheric Administration</td>\n",
       "      <td>List of research vessels by country / United S...</td>\n",
       "      <td>NOAAS Rainier with her namesake, Mount Rainier...</td>\n",
       "      <td>English: NOAAS Rainier (S 221) with Mount Rain...</td>\n",
       "      <td>NaN</td>\n",
       "      <td>image/jpeg</td>\n",
       "      <td>...</td>\n",
       "      <td>0.065336</td>\n",
       "      <td>-0.157723</td>\n",
       "      <td>0.163076</td>\n",
       "      <td>0.040576</td>\n",
       "      <td>0.111547</td>\n",
       "      <td>0.121374</td>\n",
       "      <td>0.290479</td>\n",
       "      <td>0.000649</td>\n",
       "      <td>0.064537</td>\n",
       "      <td>-0.015699</td>\n",
       "    </tr>\n",
       "    <tr>\n",
       "      <th>3708005</th>\n",
       "      <td>en</td>\n",
       "      <td>https://en.wikipedia.org/wiki/Kino_Works</td>\n",
       "      <td>https://upload.wikimedia.org/wikipedia/commons...</td>\n",
       "      <td>Kino Works</td>\n",
       "      <td>NaN</td>\n",
       "      <td>Kino Works</td>\n",
       "      <td>NaN</td>\n",
       "      <td>English: Kino Works LLP Official Logo</td>\n",
       "      <td>NaN</td>\n",
       "      <td>image/jpeg</td>\n",
       "      <td>...</td>\n",
       "      <td>0.056818</td>\n",
       "      <td>0.018591</td>\n",
       "      <td>-0.002724</td>\n",
       "      <td>0.026999</td>\n",
       "      <td>-0.006449</td>\n",
       "      <td>0.171142</td>\n",
       "      <td>-0.081250</td>\n",
       "      <td>0.093797</td>\n",
       "      <td>0.097209</td>\n",
       "      <td>0.022187</td>\n",
       "    </tr>\n",
       "    <tr>\n",
       "      <th>3708011</th>\n",
       "      <td>en</td>\n",
       "      <td>https://en.wikipedia.org/wiki/Montu</td>\n",
       "      <td>https://upload.wikimedia.org/wikipedia/commons...</td>\n",
       "      <td>Montu</td>\n",
       "      <td>Temples</td>\n",
       "      <td>Montu / Temples</td>\n",
       "      <td>Pharaoh Ptolemy IV Philopator (222–204 BC) ado...</td>\n",
       "      <td>Menthu and Ptolemy IV. The Place of Truth, Dei...</td>\n",
       "      <td>NaN</td>\n",
       "      <td>image/jpeg</td>\n",
       "      <td>...</td>\n",
       "      <td>0.059415</td>\n",
       "      <td>0.134129</td>\n",
       "      <td>0.088564</td>\n",
       "      <td>0.009731</td>\n",
       "      <td>0.016068</td>\n",
       "      <td>0.018169</td>\n",
       "      <td>0.017278</td>\n",
       "      <td>0.052476</td>\n",
       "      <td>0.035001</td>\n",
       "      <td>-0.042380</td>\n",
       "    </tr>\n",
       "  </tbody>\n",
       "</table>\n",
       "<p>542593 rows × 69 columns</p>\n",
       "</div>"
      ],
      "text/plain": [
       "        language                                           page_url  \\\n",
       "0             en          https://en.wikipedia.org/wiki/Oxydactylus   \n",
       "5             en  https://en.wikipedia.org/wiki/Maine%27s_3rd_co...   \n",
       "7             en               https://en.wikipedia.org/wiki/Cheraw   \n",
       "13            en       https://en.wikipedia.org/wiki/Romanian_Front   \n",
       "18            en  https://en.wikipedia.org/wiki/%C3%81d%C3%A1m_K...   \n",
       "...          ...                                                ...   \n",
       "3707993       en     https://en.wikipedia.org/wiki/History_of_Latin   \n",
       "3707995       en    https://en.wikipedia.org/wiki/Battenberg_Castle   \n",
       "3708002       en  https://en.wikipedia.org/wiki/List_of_research...   \n",
       "3708005       en           https://en.wikipedia.org/wiki/Kino_Works   \n",
       "3708011       en                https://en.wikipedia.org/wiki/Montu   \n",
       "\n",
       "                                                 image_url  \\\n",
       "0        https://upload.wikimedia.org/wikipedia/commons...   \n",
       "5        https://upload.wikimedia.org/wikipedia/commons...   \n",
       "7        https://upload.wikimedia.org/wikipedia/commons...   \n",
       "13       https://upload.wikimedia.org/wikipedia/commons...   \n",
       "18       https://upload.wikimedia.org/wikipedia/commons...   \n",
       "...                                                    ...   \n",
       "3707993  https://upload.wikimedia.org/wikipedia/commons...   \n",
       "3707995  http://upload.wikimedia.org/wikipedia/commons/...   \n",
       "3708002  https://upload.wikimedia.org/wikipedia/commons...   \n",
       "3708005  https://upload.wikimedia.org/wikipedia/commons...   \n",
       "3708011  https://upload.wikimedia.org/wikipedia/commons...   \n",
       "\n",
       "                                  page_title  \\\n",
       "0                                Oxydactylus   \n",
       "5         Maine's 3rd congressional district   \n",
       "7                                     Cheraw   \n",
       "13                            Romanian Front   \n",
       "18                                 Ádám Kósa   \n",
       "...                                      ...   \n",
       "3707993                     History of Latin   \n",
       "3707995                    Battenberg Castle   \n",
       "3708002  List of research vessels by country   \n",
       "3708005                           Kino Works   \n",
       "3708011                                Montu   \n",
       "\n",
       "                                           section_title  \\\n",
       "0                                                    NaN   \n",
       "5              List of members representing the district   \n",
       "7                                           18th century   \n",
       "13                                            Stagnation   \n",
       "18                                                   NaN   \n",
       "...                                                  ...   \n",
       "3707993                                        Old Latin   \n",
       "3707995                                              NaN   \n",
       "3708002  National Oceanic and Atmospheric Administration   \n",
       "3708005                                              NaN   \n",
       "3708011                                          Temples   \n",
       "\n",
       "                                hierarchical_section_title  \\\n",
       "0                                              Oxydactylus   \n",
       "5        Maine's 3rd congressional district / List of m...   \n",
       "7                          Cheraw / History / 18th century   \n",
       "13                   Romanian Front / History / Stagnation   \n",
       "18                                               Ádám Kósa   \n",
       "...                                                    ...   \n",
       "3707993                       History of Latin / Old Latin   \n",
       "3707995                                  Battenberg Castle   \n",
       "3708002  List of research vessels by country / United S...   \n",
       "3708005                                         Kino Works   \n",
       "3708011                                    Montu / Temples   \n",
       "\n",
       "                             caption_reference_description  \\\n",
       "0                                                      NaN   \n",
       "5                                                      NaN   \n",
       "7        A c. 1724 English copy of a deerskin Catawba m...   \n",
       "13       Nameplate of Gazeta Transilvaniei on June 14, ...   \n",
       "18                                                     NaN   \n",
       "...                                                    ...   \n",
       "3707993  The Duenos inscription, from the 6th century B...   \n",
       "3707995             The Blitzröhren below the castle ruins   \n",
       "3708002  NOAAS Rainier with her namesake, Mount Rainier...   \n",
       "3708005                                                NaN   \n",
       "3708011  Pharaoh Ptolemy IV Philopator (222–204 BC) ado...   \n",
       "\n",
       "                           caption_attribution_description  \\\n",
       "0        English: Mounted skeleton of Oxydactylus longi...   \n",
       "5        English: Samuel W. Gould, US Representative fr...   \n",
       "7        English: \"Map of the Several Nations of Indian...   \n",
       "13       English: Nameplate of the Romanian nationalist...   \n",
       "18                        English: Hungarian MEP Ádám Kósa   \n",
       "...                                                    ...   \n",
       "3707993                                                NaN   \n",
       "3707995  English: The so-called lightning tubes near Ba...   \n",
       "3708002  English: NOAAS Rainier (S 221) with Mount Rain...   \n",
       "3708005              English: Kino Works LLP Official Logo   \n",
       "3708011  Menthu and Ptolemy IV. The Place of Truth, Dei...   \n",
       "\n",
       "        caption_alt_text_description   mime_type  ...  csim_137  csim_441  \\\n",
       "0                                NaN  image/jpeg  ...  0.022390  0.017340   \n",
       "5                                NaN  image/jpeg  ...  0.091500  0.171062   \n",
       "7                                NaN  image/jpeg  ...  0.028648  0.124176   \n",
       "13                               NaN   image/png  ...  0.000092  0.010703   \n",
       "18                               NaN  image/jpeg  ...  0.065469  0.231577   \n",
       "...                              ...         ...  ...       ...       ...   \n",
       "3707993                          NaN  image/jpeg  ...  0.010794  0.040765   \n",
       "3707995                          NaN  image/jpeg  ... -0.025319  0.093329   \n",
       "3708002                          NaN  image/jpeg  ...  0.065336 -0.157723   \n",
       "3708005                          NaN  image/jpeg  ...  0.056818  0.018591   \n",
       "3708011                          NaN  image/jpeg  ...  0.059415  0.134129   \n",
       "\n",
       "         csim_192   csim_20  csim_296  csim_144   csim_12  csim_224  csim_250  \\\n",
       "0        0.068468  0.105572  0.309375 -0.064047  0.126270  0.054185  0.061353   \n",
       "5        0.131640 -0.054578  0.030377 -0.049593  0.007117  0.040431  0.019668   \n",
       "7        0.103128 -0.115666  0.098822  0.038694  0.061790 -0.038401  0.093548   \n",
       "13       0.119094 -0.088100  0.010767 -0.052269 -0.114121  0.209922  0.122310   \n",
       "18       0.151084  0.121727  0.105916 -0.041195  0.099385  0.124610  0.005871   \n",
       "...           ...       ...       ...       ...       ...       ...       ...   \n",
       "3707993  0.007090 -0.067847 -0.059921 -0.066225  0.016226  0.011186  0.002621   \n",
       "3707995 -0.026042  0.062904  0.052405 -0.087140 -0.060968  0.106147  0.028181   \n",
       "3708002  0.163076  0.040576  0.111547  0.121374  0.290479  0.000649  0.064537   \n",
       "3708005 -0.002724  0.026999 -0.006449  0.171142 -0.081250  0.093797  0.097209   \n",
       "3708011  0.088564  0.009731  0.016068  0.018169  0.017278  0.052476  0.035001   \n",
       "\n",
       "         csim_376  \n",
       "0        0.007972  \n",
       "5        0.098337  \n",
       "7        0.002280  \n",
       "13      -0.007919  \n",
       "18       0.110721  \n",
       "...           ...  \n",
       "3707993  0.002518  \n",
       "3707995  0.017901  \n",
       "3708002 -0.015699  \n",
       "3708005  0.022187  \n",
       "3708011 -0.042380  \n",
       "\n",
       "[542593 rows x 69 columns]"
      ]
     },
     "execution_count": 45,
     "metadata": {},
     "output_type": "execute_result"
    }
   ],
   "source": [
    "df"
   ]
  },
  {
   "cell_type": "code",
   "execution_count": 66,
   "id": "several-steel",
   "metadata": {},
   "outputs": [
    {
     "name": "stdout",
     "output_type": "stream",
     "text": [
      "Fri Apr 15 02:28:08 CDT 2022\r\n"
     ]
    }
   ],
   "source": [
    "! date"
   ]
  },
  {
   "cell_type": "code",
   "execution_count": 49,
   "id": "bearing-military",
   "metadata": {},
   "outputs": [
    {
     "name": "stdout",
     "output_type": "stream",
     "text": [
      "50\n"
     ]
    }
   ],
   "source": [
    "# print(df.columns)\n",
    "csim = [el for el in df.columns if 'csim' in el]\n",
    "b_col = [el for el in df.columns if 'csim' not in el]\n",
    "print(len(csim))"
   ]
  },
  {
   "cell_type": "code",
   "execution_count": 52,
   "id": "thorough-resource",
   "metadata": {},
   "outputs": [
    {
     "name": "stdout",
     "output_type": "stream",
     "text": [
      "19\n",
      "17\n"
     ]
    }
   ],
   "source": [
    "print(len(b_col))\n",
    "b_col.remove('caption')\n",
    "b_col.remove('context')\n",
    "print(len(b_col))"
   ]
  },
  {
   "cell_type": "code",
   "execution_count": 58,
   "id": "pregnant-tiffany",
   "metadata": {},
   "outputs": [
    {
     "data": {
      "text/html": [
       "<div>\n",
       "<style scoped>\n",
       "    .dataframe tbody tr th:only-of-type {\n",
       "        vertical-align: middle;\n",
       "    }\n",
       "\n",
       "    .dataframe tbody tr th {\n",
       "        vertical-align: top;\n",
       "    }\n",
       "\n",
       "    .dataframe thead th {\n",
       "        text-align: right;\n",
       "    }\n",
       "</style>\n",
       "<table border=\"1\" class=\"dataframe\">\n",
       "  <thead>\n",
       "    <tr style=\"text-align: right;\">\n",
       "      <th></th>\n",
       "      <th>language</th>\n",
       "      <th>page_url</th>\n",
       "      <th>image_url</th>\n",
       "      <th>page_title</th>\n",
       "      <th>section_title</th>\n",
       "      <th>hierarchical_section_title</th>\n",
       "      <th>caption_reference_description</th>\n",
       "      <th>caption_attribution_description</th>\n",
       "      <th>caption_alt_text_description</th>\n",
       "      <th>mime_type</th>\n",
       "      <th>...</th>\n",
       "      <th>csim_137</th>\n",
       "      <th>csim_441</th>\n",
       "      <th>csim_192</th>\n",
       "      <th>csim_20</th>\n",
       "      <th>csim_296</th>\n",
       "      <th>csim_144</th>\n",
       "      <th>csim_12</th>\n",
       "      <th>csim_224</th>\n",
       "      <th>csim_250</th>\n",
       "      <th>csim_376</th>\n",
       "    </tr>\n",
       "  </thead>\n",
       "  <tbody>\n",
       "    <tr>\n",
       "      <th>0</th>\n",
       "      <td>en</td>\n",
       "      <td>https://en.wikipedia.org/wiki/Oxydactylus</td>\n",
       "      <td>https://upload.wikimedia.org/wikipedia/commons...</td>\n",
       "      <td>Oxydactylus</td>\n",
       "      <td>NaN</td>\n",
       "      <td>Oxydactylus</td>\n",
       "      <td>NaN</td>\n",
       "      <td>English: Mounted skeleton of Oxydactylus longi...</td>\n",
       "      <td>NaN</td>\n",
       "      <td>image/jpeg</td>\n",
       "      <td>...</td>\n",
       "      <td>0.022390</td>\n",
       "      <td>0.017340</td>\n",
       "      <td>0.068468</td>\n",
       "      <td>0.105572</td>\n",
       "      <td>0.309375</td>\n",
       "      <td>-0.064047</td>\n",
       "      <td>0.126270</td>\n",
       "      <td>0.054185</td>\n",
       "      <td>0.061353</td>\n",
       "      <td>0.007972</td>\n",
       "    </tr>\n",
       "    <tr>\n",
       "      <th>5</th>\n",
       "      <td>en</td>\n",
       "      <td>https://en.wikipedia.org/wiki/Maine%27s_3rd_co...</td>\n",
       "      <td>https://upload.wikimedia.org/wikipedia/commons...</td>\n",
       "      <td>Maine's 3rd congressional district</td>\n",
       "      <td>List of members representing the district</td>\n",
       "      <td>Maine's 3rd congressional district / List of m...</td>\n",
       "      <td>NaN</td>\n",
       "      <td>English: Samuel W. Gould, US Representative fr...</td>\n",
       "      <td>NaN</td>\n",
       "      <td>image/jpeg</td>\n",
       "      <td>...</td>\n",
       "      <td>0.091500</td>\n",
       "      <td>0.171062</td>\n",
       "      <td>0.131640</td>\n",
       "      <td>-0.054578</td>\n",
       "      <td>0.030377</td>\n",
       "      <td>-0.049593</td>\n",
       "      <td>0.007117</td>\n",
       "      <td>0.040431</td>\n",
       "      <td>0.019668</td>\n",
       "      <td>0.098337</td>\n",
       "    </tr>\n",
       "    <tr>\n",
       "      <th>7</th>\n",
       "      <td>en</td>\n",
       "      <td>https://en.wikipedia.org/wiki/Cheraw</td>\n",
       "      <td>https://upload.wikimedia.org/wikipedia/commons...</td>\n",
       "      <td>Cheraw</td>\n",
       "      <td>18th century</td>\n",
       "      <td>Cheraw / History / 18th century</td>\n",
       "      <td>A c. 1724 English copy of a deerskin Catawba m...</td>\n",
       "      <td>English: \"Map of the Several Nations of Indian...</td>\n",
       "      <td>NaN</td>\n",
       "      <td>image/jpeg</td>\n",
       "      <td>...</td>\n",
       "      <td>0.028648</td>\n",
       "      <td>0.124176</td>\n",
       "      <td>0.103128</td>\n",
       "      <td>-0.115666</td>\n",
       "      <td>0.098822</td>\n",
       "      <td>0.038694</td>\n",
       "      <td>0.061790</td>\n",
       "      <td>-0.038401</td>\n",
       "      <td>0.093548</td>\n",
       "      <td>0.002280</td>\n",
       "    </tr>\n",
       "    <tr>\n",
       "      <th>13</th>\n",
       "      <td>en</td>\n",
       "      <td>https://en.wikipedia.org/wiki/Romanian_Front</td>\n",
       "      <td>https://upload.wikimedia.org/wikipedia/commons...</td>\n",
       "      <td>Romanian Front</td>\n",
       "      <td>Stagnation</td>\n",
       "      <td>Romanian Front / History / Stagnation</td>\n",
       "      <td>Nameplate of Gazeta Transilvaniei on June 14, ...</td>\n",
       "      <td>English: Nameplate of the Romanian nationalist...</td>\n",
       "      <td>NaN</td>\n",
       "      <td>image/png</td>\n",
       "      <td>...</td>\n",
       "      <td>0.000092</td>\n",
       "      <td>0.010703</td>\n",
       "      <td>0.119094</td>\n",
       "      <td>-0.088100</td>\n",
       "      <td>0.010767</td>\n",
       "      <td>-0.052269</td>\n",
       "      <td>-0.114121</td>\n",
       "      <td>0.209922</td>\n",
       "      <td>0.122310</td>\n",
       "      <td>-0.007919</td>\n",
       "    </tr>\n",
       "    <tr>\n",
       "      <th>18</th>\n",
       "      <td>en</td>\n",
       "      <td>https://en.wikipedia.org/wiki/%C3%81d%C3%A1m_K...</td>\n",
       "      <td>https://upload.wikimedia.org/wikipedia/commons...</td>\n",
       "      <td>Ádám Kósa</td>\n",
       "      <td>NaN</td>\n",
       "      <td>Ádám Kósa</td>\n",
       "      <td>NaN</td>\n",
       "      <td>English: Hungarian MEP Ádám Kósa</td>\n",
       "      <td>NaN</td>\n",
       "      <td>image/jpeg</td>\n",
       "      <td>...</td>\n",
       "      <td>0.065469</td>\n",
       "      <td>0.231577</td>\n",
       "      <td>0.151084</td>\n",
       "      <td>0.121727</td>\n",
       "      <td>0.105916</td>\n",
       "      <td>-0.041195</td>\n",
       "      <td>0.099385</td>\n",
       "      <td>0.124610</td>\n",
       "      <td>0.005871</td>\n",
       "      <td>0.110721</td>\n",
       "    </tr>\n",
       "    <tr>\n",
       "      <th>...</th>\n",
       "      <td>...</td>\n",
       "      <td>...</td>\n",
       "      <td>...</td>\n",
       "      <td>...</td>\n",
       "      <td>...</td>\n",
       "      <td>...</td>\n",
       "      <td>...</td>\n",
       "      <td>...</td>\n",
       "      <td>...</td>\n",
       "      <td>...</td>\n",
       "      <td>...</td>\n",
       "      <td>...</td>\n",
       "      <td>...</td>\n",
       "      <td>...</td>\n",
       "      <td>...</td>\n",
       "      <td>...</td>\n",
       "      <td>...</td>\n",
       "      <td>...</td>\n",
       "      <td>...</td>\n",
       "      <td>...</td>\n",
       "      <td>...</td>\n",
       "    </tr>\n",
       "    <tr>\n",
       "      <th>3707993</th>\n",
       "      <td>en</td>\n",
       "      <td>https://en.wikipedia.org/wiki/History_of_Latin</td>\n",
       "      <td>https://upload.wikimedia.org/wikipedia/commons...</td>\n",
       "      <td>History of Latin</td>\n",
       "      <td>Old Latin</td>\n",
       "      <td>History of Latin / Old Latin</td>\n",
       "      <td>The Duenos inscription, from the 6th century B...</td>\n",
       "      <td>NaN</td>\n",
       "      <td>NaN</td>\n",
       "      <td>image/jpeg</td>\n",
       "      <td>...</td>\n",
       "      <td>0.010794</td>\n",
       "      <td>0.040765</td>\n",
       "      <td>0.007090</td>\n",
       "      <td>-0.067847</td>\n",
       "      <td>-0.059921</td>\n",
       "      <td>-0.066225</td>\n",
       "      <td>0.016226</td>\n",
       "      <td>0.011186</td>\n",
       "      <td>0.002621</td>\n",
       "      <td>0.002518</td>\n",
       "    </tr>\n",
       "    <tr>\n",
       "      <th>3707995</th>\n",
       "      <td>en</td>\n",
       "      <td>https://en.wikipedia.org/wiki/Battenberg_Castle</td>\n",
       "      <td>http://upload.wikimedia.org/wikipedia/commons/...</td>\n",
       "      <td>Battenberg Castle</td>\n",
       "      <td>NaN</td>\n",
       "      <td>Battenberg Castle</td>\n",
       "      <td>The Blitzröhren below the castle ruins</td>\n",
       "      <td>English: The so-called lightning tubes near Ba...</td>\n",
       "      <td>NaN</td>\n",
       "      <td>image/jpeg</td>\n",
       "      <td>...</td>\n",
       "      <td>-0.025319</td>\n",
       "      <td>0.093329</td>\n",
       "      <td>-0.026042</td>\n",
       "      <td>0.062904</td>\n",
       "      <td>0.052405</td>\n",
       "      <td>-0.087140</td>\n",
       "      <td>-0.060968</td>\n",
       "      <td>0.106147</td>\n",
       "      <td>0.028181</td>\n",
       "      <td>0.017901</td>\n",
       "    </tr>\n",
       "    <tr>\n",
       "      <th>3708002</th>\n",
       "      <td>en</td>\n",
       "      <td>https://en.wikipedia.org/wiki/List_of_research...</td>\n",
       "      <td>https://upload.wikimedia.org/wikipedia/commons...</td>\n",
       "      <td>List of research vessels by country</td>\n",
       "      <td>National Oceanic and Atmospheric Administration</td>\n",
       "      <td>List of research vessels by country / United S...</td>\n",
       "      <td>NOAAS Rainier with her namesake, Mount Rainier...</td>\n",
       "      <td>English: NOAAS Rainier (S 221) with Mount Rain...</td>\n",
       "      <td>NaN</td>\n",
       "      <td>image/jpeg</td>\n",
       "      <td>...</td>\n",
       "      <td>0.065336</td>\n",
       "      <td>-0.157723</td>\n",
       "      <td>0.163076</td>\n",
       "      <td>0.040576</td>\n",
       "      <td>0.111547</td>\n",
       "      <td>0.121374</td>\n",
       "      <td>0.290479</td>\n",
       "      <td>0.000649</td>\n",
       "      <td>0.064537</td>\n",
       "      <td>-0.015699</td>\n",
       "    </tr>\n",
       "    <tr>\n",
       "      <th>3708005</th>\n",
       "      <td>en</td>\n",
       "      <td>https://en.wikipedia.org/wiki/Kino_Works</td>\n",
       "      <td>https://upload.wikimedia.org/wikipedia/commons...</td>\n",
       "      <td>Kino Works</td>\n",
       "      <td>NaN</td>\n",
       "      <td>Kino Works</td>\n",
       "      <td>NaN</td>\n",
       "      <td>English: Kino Works LLP Official Logo</td>\n",
       "      <td>NaN</td>\n",
       "      <td>image/jpeg</td>\n",
       "      <td>...</td>\n",
       "      <td>0.056818</td>\n",
       "      <td>0.018591</td>\n",
       "      <td>-0.002724</td>\n",
       "      <td>0.026999</td>\n",
       "      <td>-0.006449</td>\n",
       "      <td>0.171142</td>\n",
       "      <td>-0.081250</td>\n",
       "      <td>0.093797</td>\n",
       "      <td>0.097209</td>\n",
       "      <td>0.022187</td>\n",
       "    </tr>\n",
       "    <tr>\n",
       "      <th>3708011</th>\n",
       "      <td>en</td>\n",
       "      <td>https://en.wikipedia.org/wiki/Montu</td>\n",
       "      <td>https://upload.wikimedia.org/wikipedia/commons...</td>\n",
       "      <td>Montu</td>\n",
       "      <td>Temples</td>\n",
       "      <td>Montu / Temples</td>\n",
       "      <td>Pharaoh Ptolemy IV Philopator (222–204 BC) ado...</td>\n",
       "      <td>Menthu and Ptolemy IV. The Place of Truth, Dei...</td>\n",
       "      <td>NaN</td>\n",
       "      <td>image/jpeg</td>\n",
       "      <td>...</td>\n",
       "      <td>0.059415</td>\n",
       "      <td>0.134129</td>\n",
       "      <td>0.088564</td>\n",
       "      <td>0.009731</td>\n",
       "      <td>0.016068</td>\n",
       "      <td>0.018169</td>\n",
       "      <td>0.017278</td>\n",
       "      <td>0.052476</td>\n",
       "      <td>0.035001</td>\n",
       "      <td>-0.042380</td>\n",
       "    </tr>\n",
       "  </tbody>\n",
       "</table>\n",
       "<p>542593 rows × 67 columns</p>\n",
       "</div>"
      ],
      "text/plain": [
       "        language                                           page_url  \\\n",
       "0             en          https://en.wikipedia.org/wiki/Oxydactylus   \n",
       "5             en  https://en.wikipedia.org/wiki/Maine%27s_3rd_co...   \n",
       "7             en               https://en.wikipedia.org/wiki/Cheraw   \n",
       "13            en       https://en.wikipedia.org/wiki/Romanian_Front   \n",
       "18            en  https://en.wikipedia.org/wiki/%C3%81d%C3%A1m_K...   \n",
       "...          ...                                                ...   \n",
       "3707993       en     https://en.wikipedia.org/wiki/History_of_Latin   \n",
       "3707995       en    https://en.wikipedia.org/wiki/Battenberg_Castle   \n",
       "3708002       en  https://en.wikipedia.org/wiki/List_of_research...   \n",
       "3708005       en           https://en.wikipedia.org/wiki/Kino_Works   \n",
       "3708011       en                https://en.wikipedia.org/wiki/Montu   \n",
       "\n",
       "                                                 image_url  \\\n",
       "0        https://upload.wikimedia.org/wikipedia/commons...   \n",
       "5        https://upload.wikimedia.org/wikipedia/commons...   \n",
       "7        https://upload.wikimedia.org/wikipedia/commons...   \n",
       "13       https://upload.wikimedia.org/wikipedia/commons...   \n",
       "18       https://upload.wikimedia.org/wikipedia/commons...   \n",
       "...                                                    ...   \n",
       "3707993  https://upload.wikimedia.org/wikipedia/commons...   \n",
       "3707995  http://upload.wikimedia.org/wikipedia/commons/...   \n",
       "3708002  https://upload.wikimedia.org/wikipedia/commons...   \n",
       "3708005  https://upload.wikimedia.org/wikipedia/commons...   \n",
       "3708011  https://upload.wikimedia.org/wikipedia/commons...   \n",
       "\n",
       "                                  page_title  \\\n",
       "0                                Oxydactylus   \n",
       "5         Maine's 3rd congressional district   \n",
       "7                                     Cheraw   \n",
       "13                            Romanian Front   \n",
       "18                                 Ádám Kósa   \n",
       "...                                      ...   \n",
       "3707993                     History of Latin   \n",
       "3707995                    Battenberg Castle   \n",
       "3708002  List of research vessels by country   \n",
       "3708005                           Kino Works   \n",
       "3708011                                Montu   \n",
       "\n",
       "                                           section_title  \\\n",
       "0                                                    NaN   \n",
       "5              List of members representing the district   \n",
       "7                                           18th century   \n",
       "13                                            Stagnation   \n",
       "18                                                   NaN   \n",
       "...                                                  ...   \n",
       "3707993                                        Old Latin   \n",
       "3707995                                              NaN   \n",
       "3708002  National Oceanic and Atmospheric Administration   \n",
       "3708005                                              NaN   \n",
       "3708011                                          Temples   \n",
       "\n",
       "                                hierarchical_section_title  \\\n",
       "0                                              Oxydactylus   \n",
       "5        Maine's 3rd congressional district / List of m...   \n",
       "7                          Cheraw / History / 18th century   \n",
       "13                   Romanian Front / History / Stagnation   \n",
       "18                                               Ádám Kósa   \n",
       "...                                                    ...   \n",
       "3707993                       History of Latin / Old Latin   \n",
       "3707995                                  Battenberg Castle   \n",
       "3708002  List of research vessels by country / United S...   \n",
       "3708005                                         Kino Works   \n",
       "3708011                                    Montu / Temples   \n",
       "\n",
       "                             caption_reference_description  \\\n",
       "0                                                      NaN   \n",
       "5                                                      NaN   \n",
       "7        A c. 1724 English copy of a deerskin Catawba m...   \n",
       "13       Nameplate of Gazeta Transilvaniei on June 14, ...   \n",
       "18                                                     NaN   \n",
       "...                                                    ...   \n",
       "3707993  The Duenos inscription, from the 6th century B...   \n",
       "3707995             The Blitzröhren below the castle ruins   \n",
       "3708002  NOAAS Rainier with her namesake, Mount Rainier...   \n",
       "3708005                                                NaN   \n",
       "3708011  Pharaoh Ptolemy IV Philopator (222–204 BC) ado...   \n",
       "\n",
       "                           caption_attribution_description  \\\n",
       "0        English: Mounted skeleton of Oxydactylus longi...   \n",
       "5        English: Samuel W. Gould, US Representative fr...   \n",
       "7        English: \"Map of the Several Nations of Indian...   \n",
       "13       English: Nameplate of the Romanian nationalist...   \n",
       "18                        English: Hungarian MEP Ádám Kósa   \n",
       "...                                                    ...   \n",
       "3707993                                                NaN   \n",
       "3707995  English: The so-called lightning tubes near Ba...   \n",
       "3708002  English: NOAAS Rainier (S 221) with Mount Rain...   \n",
       "3708005              English: Kino Works LLP Official Logo   \n",
       "3708011  Menthu and Ptolemy IV. The Place of Truth, Dei...   \n",
       "\n",
       "        caption_alt_text_description   mime_type  ...  csim_137  csim_441  \\\n",
       "0                                NaN  image/jpeg  ...  0.022390  0.017340   \n",
       "5                                NaN  image/jpeg  ...  0.091500  0.171062   \n",
       "7                                NaN  image/jpeg  ...  0.028648  0.124176   \n",
       "13                               NaN   image/png  ...  0.000092  0.010703   \n",
       "18                               NaN  image/jpeg  ...  0.065469  0.231577   \n",
       "...                              ...         ...  ...       ...       ...   \n",
       "3707993                          NaN  image/jpeg  ...  0.010794  0.040765   \n",
       "3707995                          NaN  image/jpeg  ... -0.025319  0.093329   \n",
       "3708002                          NaN  image/jpeg  ...  0.065336 -0.157723   \n",
       "3708005                          NaN  image/jpeg  ...  0.056818  0.018591   \n",
       "3708011                          NaN  image/jpeg  ...  0.059415  0.134129   \n",
       "\n",
       "         csim_192   csim_20  csim_296  csim_144   csim_12  csim_224  csim_250  \\\n",
       "0        0.068468  0.105572  0.309375 -0.064047  0.126270  0.054185  0.061353   \n",
       "5        0.131640 -0.054578  0.030377 -0.049593  0.007117  0.040431  0.019668   \n",
       "7        0.103128 -0.115666  0.098822  0.038694  0.061790 -0.038401  0.093548   \n",
       "13       0.119094 -0.088100  0.010767 -0.052269 -0.114121  0.209922  0.122310   \n",
       "18       0.151084  0.121727  0.105916 -0.041195  0.099385  0.124610  0.005871   \n",
       "...           ...       ...       ...       ...       ...       ...       ...   \n",
       "3707993  0.007090 -0.067847 -0.059921 -0.066225  0.016226  0.011186  0.002621   \n",
       "3707995 -0.026042  0.062904  0.052405 -0.087140 -0.060968  0.106147  0.028181   \n",
       "3708002  0.163076  0.040576  0.111547  0.121374  0.290479  0.000649  0.064537   \n",
       "3708005 -0.002724  0.026999 -0.006449  0.171142 -0.081250  0.093797  0.097209   \n",
       "3708011  0.088564  0.009731  0.016068  0.018169  0.017278  0.052476  0.035001   \n",
       "\n",
       "         csim_376  \n",
       "0        0.007972  \n",
       "5        0.098337  \n",
       "7        0.002280  \n",
       "13      -0.007919  \n",
       "18       0.110721  \n",
       "...           ...  \n",
       "3707993  0.002518  \n",
       "3707995  0.017901  \n",
       "3708002 -0.015699  \n",
       "3708005  0.022187  \n",
       "3708011 -0.042380  \n",
       "\n",
       "[542593 rows x 67 columns]"
      ]
     },
     "execution_count": 58,
     "metadata": {},
     "output_type": "execute_result"
    }
   ],
   "source": [
    "df[b_col + csim]"
   ]
  },
  {
   "cell_type": "code",
   "execution_count": 60,
   "id": "representative-velvet",
   "metadata": {},
   "outputs": [],
   "source": [
    "df[b_col + csim].to_csv(f'{root_path}/wit_v1.train.all-00000-of-00010_en_csim.tsv', sep=\"\\t\")"
   ]
  },
  {
   "cell_type": "code",
   "execution_count": 71,
   "id": "employed-retrieval",
   "metadata": {},
   "outputs": [
    {
     "data": {
      "text/plain": [
       "'traffic stripe crosswalk cross pedestrian crossing signal'"
      ]
     },
     "execution_count": 71,
     "metadata": {},
     "output_type": "execute_result"
    }
   ],
   "source": [
    "l1 = ' '.join(ped_related_words_by_topic[196])\n",
    "l1"
   ]
  },
  {
   "cell_type": "code",
   "execution_count": 72,
   "id": "greenhouse-helena",
   "metadata": {},
   "outputs": [
    {
     "data": {
      "application/vnd.jupyter.widget-view+json": {
       "model_id": "ef46d7743dda4e8dad1298e896673d87",
       "version_major": 2,
       "version_minor": 0
      },
      "text/plain": [
       "  0%|          | 0/54071 [00:00<?, ?it/s]"
      ]
     },
     "metadata": {},
     "output_type": "display_data"
    },
    {
     "data": {
      "text/plain": [
       "5         0.116637\n",
       "6         0.002058\n",
       "8         0.036071\n",
       "9        -0.022394\n",
       "11        0.092983\n",
       "            ...   \n",
       "370348    0.010374\n",
       "370356    0.093084\n",
       "370357   -0.028913\n",
       "370358   -0.028137\n",
       "370368    0.044710\n",
       "Name: caption, Length: 54071, dtype: float32"
      ]
     },
     "execution_count": 72,
     "metadata": {},
     "output_type": "execute_result"
    }
   ],
   "source": [
    "df['caption'].progress_apply(run_sim, v=l1)"
   ]
  },
  {
   "cell_type": "code",
   "execution_count": 61,
   "id": "cognitive-indicator",
   "metadata": {},
   "outputs": [
    {
     "data": {
      "text/html": [
       "<div>\n",
       "<style scoped>\n",
       "    .dataframe tbody tr th:only-of-type {\n",
       "        vertical-align: middle;\n",
       "    }\n",
       "\n",
       "    .dataframe tbody tr th {\n",
       "        vertical-align: top;\n",
       "    }\n",
       "\n",
       "    .dataframe thead th {\n",
       "        text-align: right;\n",
       "    }\n",
       "</style>\n",
       "<table border=\"1\" class=\"dataframe\">\n",
       "  <thead>\n",
       "    <tr style=\"text-align: right;\">\n",
       "      <th></th>\n",
       "      <th>language</th>\n",
       "      <th>page_url</th>\n",
       "      <th>image_url</th>\n",
       "      <th>page_title</th>\n",
       "      <th>section_title</th>\n",
       "      <th>hierarchical_section_title</th>\n",
       "      <th>caption_reference_description</th>\n",
       "      <th>caption_attribution_description</th>\n",
       "      <th>caption_alt_text_description</th>\n",
       "      <th>mime_type</th>\n",
       "      <th>original_height</th>\n",
       "      <th>original_width</th>\n",
       "      <th>is_main_image</th>\n",
       "      <th>attribution_passes_lang_id</th>\n",
       "      <th>page_changed_recently</th>\n",
       "      <th>context_page_description</th>\n",
       "      <th>context_section_description</th>\n",
       "    </tr>\n",
       "  </thead>\n",
       "  <tbody>\n",
       "    <tr>\n",
       "      <th>0</th>\n",
       "      <td>fy</td>\n",
       "      <td>https://fy.wikipedia.org/wiki/Us_Heit_(bier)</td>\n",
       "      <td>https://upload.wikimedia.org/wikipedia/commons...</td>\n",
       "      <td>Us Heit (bier)</td>\n",
       "      <td>NaN</td>\n",
       "      <td>Us Heit (bier)</td>\n",
       "      <td>Us Heit dûbeld weetbier</td>\n",
       "      <td>English: Us Heit Dubbel Tarwe Bier. Nederlands...</td>\n",
       "      <td>NaN</td>\n",
       "      <td>image/jpeg</td>\n",
       "      <td>2412</td>\n",
       "      <td>1728</td>\n",
       "      <td>False</td>\n",
       "      <td>True</td>\n",
       "      <td>False</td>\n",
       "      <td>Us Heit is in biermerk dat broud wurdt troch d...</td>\n",
       "      <td>Us Heit is in biermerk dat broud wurdt troch d...</td>\n",
       "    </tr>\n",
       "    <tr>\n",
       "      <th>1</th>\n",
       "      <td>ja</td>\n",
       "      <td>https://ja.wikipedia.org/wiki/%E3%83%8D%E3%82%...</td>\n",
       "      <td>https://upload.wikimedia.org/wikipedia/commons...</td>\n",
       "      <td>ネコ目</td>\n",
       "      <td>NaN</td>\n",
       "      <td>ネコ目</td>\n",
       "      <td>オオヤマネコ Lynx lynx</td>\n",
       "      <td>Bilde av gaupen på Langedrag Naturpark (the Eu...</td>\n",
       "      <td>NaN</td>\n",
       "      <td>image/jpeg</td>\n",
       "      <td>1568</td>\n",
       "      <td>2048</td>\n",
       "      <td>True</td>\n",
       "      <td>False</td>\n",
       "      <td>False</td>\n",
       "      <td>ネコ目は脊椎動物亜門 哺乳綱に属する動物の分類群。学名の Carnivora を直訳して食肉...</td>\n",
       "      <td>ネコ目（ネコもく）は脊椎動物亜門 哺乳綱に属する動物の分類群。学名の Carnivora を...</td>\n",
       "    </tr>\n",
       "    <tr>\n",
       "      <th>2</th>\n",
       "      <td>en</td>\n",
       "      <td>https://en.wikipedia.org/wiki/Joie_de_Vivre</td>\n",
       "      <td>https://upload.wikimedia.org/wikipedia/commons...</td>\n",
       "      <td>Joie de Vivre</td>\n",
       "      <td>NaN</td>\n",
       "      <td>Joie de Vivre</td>\n",
       "      <td>The sculpture in 2008</td>\n",
       "      <td>en:Mark di Suvero's en:Joie de Vivre sculpture...</td>\n",
       "      <td>NaN</td>\n",
       "      <td>image/jpeg</td>\n",
       "      <td>1396</td>\n",
       "      <td>2003</td>\n",
       "      <td>True</td>\n",
       "      <td>True</td>\n",
       "      <td>True</td>\n",
       "      <td>Joie de Vivre is an outdoor sculpture by Mark ...</td>\n",
       "      <td>Joie de Vivre (English: Joy of Life) is an out...</td>\n",
       "    </tr>\n",
       "    <tr>\n",
       "      <th>3</th>\n",
       "      <td>nn</td>\n",
       "      <td>https://nn.wikipedia.org/wiki/Orbital</td>\n",
       "      <td>http://upload.wikimedia.org/wikipedia/commons/...</td>\n",
       "      <td>Orbital</td>\n",
       "      <td>NaN</td>\n",
       "      <td>Orbital</td>\n",
       "      <td>Elektronets orbitalar i atom og molekyl</td>\n",
       "      <td>NaN</td>\n",
       "      <td>NaN</td>\n",
       "      <td>image/svg+xml</td>\n",
       "      <td>556</td>\n",
       "      <td>857</td>\n",
       "      <td>False</td>\n",
       "      <td>False</td>\n",
       "      <td>False</td>\n",
       "      <td>Innan kjemi og partikkelfysikk, er orbital nem...</td>\n",
       "      <td>Innan kjemi og partikkelfysikk, er orbital nem...</td>\n",
       "    </tr>\n",
       "    <tr>\n",
       "      <th>4</th>\n",
       "      <td>ja</td>\n",
       "      <td>https://ja.wikipedia.org/wiki/%E5%B1%B1%E5%B4%...</td>\n",
       "      <td>http://upload.wikimedia.org/wikipedia/commons/...</td>\n",
       "      <td>山崎浩司</td>\n",
       "      <td>オリックス時代</td>\n",
       "      <td>山崎浩司 / 経歴 / オリックス時代</td>\n",
       "      <td>オリックス時代\\n（2012年7月8日、QVCマリンフィールド）</td>\n",
       "      <td>English: Koji Yamasaki, infielder of the Orix ...</td>\n",
       "      <td>NaN</td>\n",
       "      <td>image/jpeg</td>\n",
       "      <td>2258</td>\n",
       "      <td>1500</td>\n",
       "      <td>False</td>\n",
       "      <td>True</td>\n",
       "      <td>False</td>\n",
       "      <td>山﨑 浩司は、大阪府大阪市淀川区出身の元プロ野球選手。\\n広島東洋カープ時代にセントラル・リ...</td>\n",
       "      <td>2008年7月18日に、田中彰との交換トレードで、オリックス・バファローズへ移籍。形式上は古...</td>\n",
       "    </tr>\n",
       "    <tr>\n",
       "      <th>...</th>\n",
       "      <td>...</td>\n",
       "      <td>...</td>\n",
       "      <td>...</td>\n",
       "      <td>...</td>\n",
       "      <td>...</td>\n",
       "      <td>...</td>\n",
       "      <td>...</td>\n",
       "      <td>...</td>\n",
       "      <td>...</td>\n",
       "      <td>...</td>\n",
       "      <td>...</td>\n",
       "      <td>...</td>\n",
       "      <td>...</td>\n",
       "      <td>...</td>\n",
       "      <td>...</td>\n",
       "      <td>...</td>\n",
       "      <td>...</td>\n",
       "    </tr>\n",
       "    <tr>\n",
       "      <th>3702070</th>\n",
       "      <td>jv</td>\n",
       "      <td>https://jv.wikipedia.org/wiki/Sastra_Inggris_Kuna</td>\n",
       "      <td>https://upload.wikimedia.org/wikipedia/commons...</td>\n",
       "      <td>Sastra Inggris Kuna</td>\n",
       "      <td>NaN</td>\n",
       "      <td>Sastra Inggris Kuna</td>\n",
       "      <td>Kaca utama Kronik Peterborough, mbokmenawa dit...</td>\n",
       "      <td>The initial page of the Peterborough Chronicle...</td>\n",
       "      <td>NaN</td>\n",
       "      <td>image/jpeg</td>\n",
       "      <td>1370</td>\n",
       "      <td>896</td>\n",
       "      <td>False</td>\n",
       "      <td>False</td>\n",
       "      <td>False</td>\n",
       "      <td>Sastra Anglo-Saxon utawa sastra Inggris Kuna i...</td>\n",
       "      <td>Sastra Anglo-Saxon utawa sastra Inggris Kuna i...</td>\n",
       "    </tr>\n",
       "    <tr>\n",
       "      <th>3702071</th>\n",
       "      <td>it</td>\n",
       "      <td>https://it.wikipedia.org/wiki/Andrea_Gardini</td>\n",
       "      <td>https://upload.wikimedia.org/wikipedia/it/3/31...</td>\n",
       "      <td>Andrea Gardini</td>\n",
       "      <td>Carriera</td>\n",
       "      <td>Andrea Gardini / Carriera</td>\n",
       "      <td>Gardini a Ravenna nel 1991 (a sinistra), a mur...</td>\n",
       "      <td>Mestre (Venezia), Palasport Taliercio, 4 april...</td>\n",
       "      <td>NaN</td>\n",
       "      <td>image/jpeg</td>\n",
       "      <td>1842</td>\n",
       "      <td>1581</td>\n",
       "      <td>False</td>\n",
       "      <td>True</td>\n",
       "      <td>True</td>\n",
       "      <td>Andrea Gardini è un allenatore di pallavolo ed...</td>\n",
       "      <td>È stato uno dei giocatori più vincenti della s...</td>\n",
       "    </tr>\n",
       "    <tr>\n",
       "      <th>3702072</th>\n",
       "      <td>zh</td>\n",
       "      <td>https://zh.wikipedia.org/wiki/%E6%96%B0%E7%BD%...</td>\n",
       "      <td>https://upload.wikimedia.org/wikipedia/commons...</td>\n",
       "      <td>新罕布什爾省</td>\n",
       "      <td>NaN</td>\n",
       "      <td>新罕布什爾省</td>\n",
       "      <td>显示新罕布什尔省领土声称的地图</td>\n",
       "      <td>This is a map of the Province of New Hampshire...</td>\n",
       "      <td>NaN</td>\n",
       "      <td>image/png</td>\n",
       "      <td>500</td>\n",
       "      <td>480</td>\n",
       "      <td>False</td>\n",
       "      <td>False</td>\n",
       "      <td>False</td>\n",
       "      <td>新罕布什尔省是英国在北美洲的殖民地，后来成为英国省份。名称首次使用是在1629年，介乎北美洲...</td>\n",
       "      <td>新罕布什尔省（英语：Province of New Hampshire）是英国在北美洲的殖民...</td>\n",
       "    </tr>\n",
       "    <tr>\n",
       "      <th>3702073</th>\n",
       "      <td>zh-TW</td>\n",
       "      <td>https://zh.wikipedia.org/zh-tw/%E7%91%9E%E5%B9...</td>\n",
       "      <td>https://upload.wikimedia.org/wikipedia/commons...</td>\n",
       "      <td>瑞幸咖啡</td>\n",
       "      <td>經營</td>\n",
       "      <td>瑞幸咖啡 / 經營</td>\n",
       "      <td>瑞幸咖啡「小藍杯」</td>\n",
       "      <td>English: A cup of Luckin Coffee</td>\n",
       "      <td>NaN</td>\n",
       "      <td>image/jpeg</td>\n",
       "      <td>1583</td>\n",
       "      <td>1080</td>\n",
       "      <td>False</td>\n",
       "      <td>False</td>\n",
       "      <td>True</td>\n",
       "      <td>瑞幸咖啡是中國大陸的新零售專業咖啡營運商，由前神州優車集團營運長錢治亞創立，公司在開曼群島註...</td>\n",
       "      <td>瑞幸咖啡在2018年1月才開始試營運，靠著大量補貼與便利的APP外送商業模式，搭配病毒式的媒...</td>\n",
       "    </tr>\n",
       "    <tr>\n",
       "      <th>3702074</th>\n",
       "      <td>en</td>\n",
       "      <td>https://en.wikipedia.org/wiki/National_Registe...</td>\n",
       "      <td>https://upload.wikimedia.org/wikipedia/commons...</td>\n",
       "      <td>National Register of Historic Places listings ...</td>\n",
       "      <td>Current listings</td>\n",
       "      <td>National Register of Historic Places listings ...</td>\n",
       "      <td>NaN</td>\n",
       "      <td>English: Remnants of a Fremont pit-house at Co...</td>\n",
       "      <td>Cottonwood Village</td>\n",
       "      <td>image/jpeg</td>\n",
       "      <td>3216</td>\n",
       "      <td>4288</td>\n",
       "      <td>False</td>\n",
       "      <td>True</td>\n",
       "      <td>True</td>\n",
       "      <td>This is a list of the National Register of His...</td>\n",
       "      <td>NaN</td>\n",
       "    </tr>\n",
       "  </tbody>\n",
       "</table>\n",
       "<p>3702075 rows × 17 columns</p>\n",
       "</div>"
      ],
      "text/plain": [
       "        language                                           page_url  \\\n",
       "0             fy       https://fy.wikipedia.org/wiki/Us_Heit_(bier)   \n",
       "1             ja  https://ja.wikipedia.org/wiki/%E3%83%8D%E3%82%...   \n",
       "2             en        https://en.wikipedia.org/wiki/Joie_de_Vivre   \n",
       "3             nn              https://nn.wikipedia.org/wiki/Orbital   \n",
       "4             ja  https://ja.wikipedia.org/wiki/%E5%B1%B1%E5%B4%...   \n",
       "...          ...                                                ...   \n",
       "3702070       jv  https://jv.wikipedia.org/wiki/Sastra_Inggris_Kuna   \n",
       "3702071       it       https://it.wikipedia.org/wiki/Andrea_Gardini   \n",
       "3702072       zh  https://zh.wikipedia.org/wiki/%E6%96%B0%E7%BD%...   \n",
       "3702073    zh-TW  https://zh.wikipedia.org/zh-tw/%E7%91%9E%E5%B9...   \n",
       "3702074       en  https://en.wikipedia.org/wiki/National_Registe...   \n",
       "\n",
       "                                                 image_url  \\\n",
       "0        https://upload.wikimedia.org/wikipedia/commons...   \n",
       "1        https://upload.wikimedia.org/wikipedia/commons...   \n",
       "2        https://upload.wikimedia.org/wikipedia/commons...   \n",
       "3        http://upload.wikimedia.org/wikipedia/commons/...   \n",
       "4        http://upload.wikimedia.org/wikipedia/commons/...   \n",
       "...                                                    ...   \n",
       "3702070  https://upload.wikimedia.org/wikipedia/commons...   \n",
       "3702071  https://upload.wikimedia.org/wikipedia/it/3/31...   \n",
       "3702072  https://upload.wikimedia.org/wikipedia/commons...   \n",
       "3702073  https://upload.wikimedia.org/wikipedia/commons...   \n",
       "3702074  https://upload.wikimedia.org/wikipedia/commons...   \n",
       "\n",
       "                                                page_title     section_title  \\\n",
       "0                                           Us Heit (bier)               NaN   \n",
       "1                                                      ネコ目               NaN   \n",
       "2                                            Joie de Vivre               NaN   \n",
       "3                                                  Orbital               NaN   \n",
       "4                                                     山崎浩司           オリックス時代   \n",
       "...                                                    ...               ...   \n",
       "3702070                                Sastra Inggris Kuna               NaN   \n",
       "3702071                                     Andrea Gardini          Carriera   \n",
       "3702072                                             新罕布什爾省               NaN   \n",
       "3702073                                               瑞幸咖啡                經營   \n",
       "3702074  National Register of Historic Places listings ...  Current listings   \n",
       "\n",
       "                                hierarchical_section_title  \\\n",
       "0                                           Us Heit (bier)   \n",
       "1                                                      ネコ目   \n",
       "2                                            Joie de Vivre   \n",
       "3                                                  Orbital   \n",
       "4                                      山崎浩司 / 経歴 / オリックス時代   \n",
       "...                                                    ...   \n",
       "3702070                                Sastra Inggris Kuna   \n",
       "3702071                          Andrea Gardini / Carriera   \n",
       "3702072                                             新罕布什爾省   \n",
       "3702073                                          瑞幸咖啡 / 經營   \n",
       "3702074  National Register of Historic Places listings ...   \n",
       "\n",
       "                             caption_reference_description  \\\n",
       "0                                  Us Heit dûbeld weetbier   \n",
       "1                                         オオヤマネコ Lynx lynx   \n",
       "2                                    The sculpture in 2008   \n",
       "3                  Elektronets orbitalar i atom og molekyl   \n",
       "4                         オリックス時代\\n（2012年7月8日、QVCマリンフィールド）   \n",
       "...                                                    ...   \n",
       "3702070  Kaca utama Kronik Peterborough, mbokmenawa dit...   \n",
       "3702071  Gardini a Ravenna nel 1991 (a sinistra), a mur...   \n",
       "3702072                                    显示新罕布什尔省领土声称的地图   \n",
       "3702073                                          瑞幸咖啡「小藍杯」   \n",
       "3702074                                                NaN   \n",
       "\n",
       "                           caption_attribution_description  \\\n",
       "0        English: Us Heit Dubbel Tarwe Bier. Nederlands...   \n",
       "1        Bilde av gaupen på Langedrag Naturpark (the Eu...   \n",
       "2        en:Mark di Suvero's en:Joie de Vivre sculpture...   \n",
       "3                                                      NaN   \n",
       "4        English: Koji Yamasaki, infielder of the Orix ...   \n",
       "...                                                    ...   \n",
       "3702070  The initial page of the Peterborough Chronicle...   \n",
       "3702071  Mestre (Venezia), Palasport Taliercio, 4 april...   \n",
       "3702072  This is a map of the Province of New Hampshire...   \n",
       "3702073                    English: A cup of Luckin Coffee   \n",
       "3702074  English: Remnants of a Fremont pit-house at Co...   \n",
       "\n",
       "        caption_alt_text_description      mime_type  original_height  \\\n",
       "0                                NaN     image/jpeg             2412   \n",
       "1                                NaN     image/jpeg             1568   \n",
       "2                                NaN     image/jpeg             1396   \n",
       "3                                NaN  image/svg+xml              556   \n",
       "4                                NaN     image/jpeg             2258   \n",
       "...                              ...            ...              ...   \n",
       "3702070                          NaN     image/jpeg             1370   \n",
       "3702071                          NaN     image/jpeg             1842   \n",
       "3702072                          NaN      image/png              500   \n",
       "3702073                          NaN     image/jpeg             1583   \n",
       "3702074           Cottonwood Village     image/jpeg             3216   \n",
       "\n",
       "         original_width  is_main_image  attribution_passes_lang_id  \\\n",
       "0                  1728          False                        True   \n",
       "1                  2048           True                       False   \n",
       "2                  2003           True                        True   \n",
       "3                   857          False                       False   \n",
       "4                  1500          False                        True   \n",
       "...                 ...            ...                         ...   \n",
       "3702070             896          False                       False   \n",
       "3702071            1581          False                        True   \n",
       "3702072             480          False                       False   \n",
       "3702073            1080          False                       False   \n",
       "3702074            4288          False                        True   \n",
       "\n",
       "         page_changed_recently  \\\n",
       "0                        False   \n",
       "1                        False   \n",
       "2                         True   \n",
       "3                        False   \n",
       "4                        False   \n",
       "...                        ...   \n",
       "3702070                  False   \n",
       "3702071                   True   \n",
       "3702072                  False   \n",
       "3702073                   True   \n",
       "3702074                   True   \n",
       "\n",
       "                                  context_page_description  \\\n",
       "0        Us Heit is in biermerk dat broud wurdt troch d...   \n",
       "1        ネコ目は脊椎動物亜門 哺乳綱に属する動物の分類群。学名の Carnivora を直訳して食肉...   \n",
       "2        Joie de Vivre is an outdoor sculpture by Mark ...   \n",
       "3        Innan kjemi og partikkelfysikk, er orbital nem...   \n",
       "4        山﨑 浩司は、大阪府大阪市淀川区出身の元プロ野球選手。\\n広島東洋カープ時代にセントラル・リ...   \n",
       "...                                                    ...   \n",
       "3702070  Sastra Anglo-Saxon utawa sastra Inggris Kuna i...   \n",
       "3702071  Andrea Gardini è un allenatore di pallavolo ed...   \n",
       "3702072  新罕布什尔省是英国在北美洲的殖民地，后来成为英国省份。名称首次使用是在1629年，介乎北美洲...   \n",
       "3702073  瑞幸咖啡是中國大陸的新零售專業咖啡營運商，由前神州優車集團營運長錢治亞創立，公司在開曼群島註...   \n",
       "3702074  This is a list of the National Register of His...   \n",
       "\n",
       "                               context_section_description  \n",
       "0        Us Heit is in biermerk dat broud wurdt troch d...  \n",
       "1        ネコ目（ネコもく）は脊椎動物亜門 哺乳綱に属する動物の分類群。学名の Carnivora を...  \n",
       "2        Joie de Vivre (English: Joy of Life) is an out...  \n",
       "3        Innan kjemi og partikkelfysikk, er orbital nem...  \n",
       "4        2008年7月18日に、田中彰との交換トレードで、オリックス・バファローズへ移籍。形式上は古...  \n",
       "...                                                    ...  \n",
       "3702070  Sastra Anglo-Saxon utawa sastra Inggris Kuna i...  \n",
       "3702071  È stato uno dei giocatori più vincenti della s...  \n",
       "3702072  新罕布什尔省（英语：Province of New Hampshire）是英国在北美洲的殖民...  \n",
       "3702073  瑞幸咖啡在2018年1月才開始試營運，靠著大量補貼與便利的APP外送商業模式，搭配病毒式的媒...  \n",
       "3702074                                                NaN  \n",
       "\n",
       "[3702075 rows x 17 columns]"
      ]
     },
     "execution_count": 61,
     "metadata": {},
     "output_type": "execute_result"
    }
   ],
   "source": [
    "! gzip -d '/raid/AISSEL/Hamed/datasets/wit/wit_v1.train.all-00001-of-00010.tsv.gz'\n",
    "df_1 = pd.read_csv(f'{root_path}/wit_v1.train.all-00001-of-00010.tsv', sep='\\t')\n",
    "df_1"
   ]
  },
  {
   "cell_type": "code",
   "execution_count": 62,
   "id": "every-disclosure",
   "metadata": {},
   "outputs": [],
   "source": [
    "def calculate_sim(df, run_sim, ped_topics):\n",
    "    df['caption']=df['caption_reference_description'].fillna('') + ' ' + df['caption_attribution_description'].fillna('')\n",
    "    for top in ped_topics:\n",
    "        l1 = ' '.join(ped_topics[top])\n",
    "        print(top, l1)\n",
    "        df[f'csim_{top}'] = df['caption'].progress_apply(run_sim, v=l1)\n",
    "    csim = [el for el in df.columns if 'csim' in el]\n",
    "    b_col = [el for el in df.columns if 'csim' not in el]\n",
    "    b_col.remove('caption')\n",
    "    return df[b_col + csim]"
   ]
  },
  {
   "cell_type": "code",
   "execution_count": 63,
   "id": "chemical-correspondence",
   "metadata": {},
   "outputs": [
    {
     "data": {
      "text/html": [
       "<div>\n",
       "<style scoped>\n",
       "    .dataframe tbody tr th:only-of-type {\n",
       "        vertical-align: middle;\n",
       "    }\n",
       "\n",
       "    .dataframe tbody tr th {\n",
       "        vertical-align: top;\n",
       "    }\n",
       "\n",
       "    .dataframe thead th {\n",
       "        text-align: right;\n",
       "    }\n",
       "</style>\n",
       "<table border=\"1\" class=\"dataframe\">\n",
       "  <thead>\n",
       "    <tr style=\"text-align: right;\">\n",
       "      <th></th>\n",
       "      <th>language</th>\n",
       "      <th>page_url</th>\n",
       "      <th>image_url</th>\n",
       "      <th>page_title</th>\n",
       "      <th>section_title</th>\n",
       "      <th>hierarchical_section_title</th>\n",
       "      <th>caption_reference_description</th>\n",
       "      <th>caption_attribution_description</th>\n",
       "      <th>caption_alt_text_description</th>\n",
       "      <th>mime_type</th>\n",
       "      <th>original_height</th>\n",
       "      <th>original_width</th>\n",
       "      <th>is_main_image</th>\n",
       "      <th>attribution_passes_lang_id</th>\n",
       "      <th>page_changed_recently</th>\n",
       "      <th>context_page_description</th>\n",
       "      <th>context_section_description</th>\n",
       "    </tr>\n",
       "  </thead>\n",
       "  <tbody>\n",
       "    <tr>\n",
       "      <th>2</th>\n",
       "      <td>en</td>\n",
       "      <td>https://en.wikipedia.org/wiki/Joie_de_Vivre</td>\n",
       "      <td>https://upload.wikimedia.org/wikipedia/commons...</td>\n",
       "      <td>Joie de Vivre</td>\n",
       "      <td>NaN</td>\n",
       "      <td>Joie de Vivre</td>\n",
       "      <td>The sculpture in 2008</td>\n",
       "      <td>en:Mark di Suvero's en:Joie de Vivre sculpture...</td>\n",
       "      <td>NaN</td>\n",
       "      <td>image/jpeg</td>\n",
       "      <td>1396</td>\n",
       "      <td>2003</td>\n",
       "      <td>True</td>\n",
       "      <td>True</td>\n",
       "      <td>True</td>\n",
       "      <td>Joie de Vivre is an outdoor sculpture by Mark ...</td>\n",
       "      <td>Joie de Vivre (English: Joy of Life) is an out...</td>\n",
       "    </tr>\n",
       "    <tr>\n",
       "      <th>11</th>\n",
       "      <td>en</td>\n",
       "      <td>https://en.wikipedia.org/wiki/M%C3%A1riusz_R%C...</td>\n",
       "      <td>https://upload.wikimedia.org/wikipedia/commons...</td>\n",
       "      <td>Máriusz Révész</td>\n",
       "      <td>NaN</td>\n",
       "      <td>Máriusz Révész</td>\n",
       "      <td>NaN</td>\n",
       "      <td>English: Révész Máriusz (2016)</td>\n",
       "      <td>NaN</td>\n",
       "      <td>image/jpeg</td>\n",
       "      <td>3072</td>\n",
       "      <td>2304</td>\n",
       "      <td>True</td>\n",
       "      <td>False</td>\n",
       "      <td>True</td>\n",
       "      <td>Máriusz Révész is a Hungarian politician of th...</td>\n",
       "      <td>Máriusz Révész (born 31 May 1967, in Budapest)...</td>\n",
       "    </tr>\n",
       "    <tr>\n",
       "      <th>28</th>\n",
       "      <td>en</td>\n",
       "      <td>https://en.wikipedia.org/wiki/West_Virginia_Di...</td>\n",
       "      <td>https://upload.wikimedia.org/wikipedia/commons...</td>\n",
       "      <td>West Virginia Division of Corrections and Reha...</td>\n",
       "      <td>NaN</td>\n",
       "      <td>West Virginia Division of Corrections and Reha...</td>\n",
       "      <td>NaN</td>\n",
       "      <td>English: Image is similar, if not identical, t...</td>\n",
       "      <td>NaN</td>\n",
       "      <td>image/png</td>\n",
       "      <td>696</td>\n",
       "      <td>600</td>\n",
       "      <td>False</td>\n",
       "      <td>True</td>\n",
       "      <td>False</td>\n",
       "      <td>The West Virginia Division of Corrections and ...</td>\n",
       "      <td>The West Virginia Division of Corrections and ...</td>\n",
       "    </tr>\n",
       "    <tr>\n",
       "      <th>39</th>\n",
       "      <td>en</td>\n",
       "      <td>https://en.wikipedia.org/wiki/Eggenberg_Palace...</td>\n",
       "      <td>https://upload.wikimedia.org/wikipedia/commons...</td>\n",
       "      <td>Eggenberg Palace, Graz</td>\n",
       "      <td>Construction</td>\n",
       "      <td>Eggenberg Palace, Graz / History / Construction</td>\n",
       "      <td>Eggenberg Palace (2019)</td>\n",
       "      <td>English: Eggenberg Palace</td>\n",
       "      <td>Schloss Eggenberg, Graz, Austria</td>\n",
       "      <td>image/jpeg</td>\n",
       "      <td>3864</td>\n",
       "      <td>5152</td>\n",
       "      <td>False</td>\n",
       "      <td>True</td>\n",
       "      <td>True</td>\n",
       "      <td>Eggenberg Palace in Graz, is the most signific...</td>\n",
       "      <td>At first glance, Schloss Eggenberg presents it...</td>\n",
       "    </tr>\n",
       "    <tr>\n",
       "      <th>42</th>\n",
       "      <td>en</td>\n",
       "      <td>https://en.wikipedia.org/wiki/National_Registe...</td>\n",
       "      <td>https://upload.wikimedia.org/wikipedia/commons...</td>\n",
       "      <td>National Register of Historic Places listings ...</td>\n",
       "      <td>Current listings</td>\n",
       "      <td>National Register of Historic Places listings ...</td>\n",
       "      <td>NaN</td>\n",
       "      <td>English: pueblo grande ruins This is an image ...</td>\n",
       "      <td>Hohokam-Pima Irrigation Sites</td>\n",
       "      <td>image/jpeg</td>\n",
       "      <td>1452</td>\n",
       "      <td>1981</td>\n",
       "      <td>False</td>\n",
       "      <td>True</td>\n",
       "      <td>True</td>\n",
       "      <td>This is a list of the National Register of His...</td>\n",
       "      <td>NaN</td>\n",
       "    </tr>\n",
       "    <tr>\n",
       "      <th>...</th>\n",
       "      <td>...</td>\n",
       "      <td>...</td>\n",
       "      <td>...</td>\n",
       "      <td>...</td>\n",
       "      <td>...</td>\n",
       "      <td>...</td>\n",
       "      <td>...</td>\n",
       "      <td>...</td>\n",
       "      <td>...</td>\n",
       "      <td>...</td>\n",
       "      <td>...</td>\n",
       "      <td>...</td>\n",
       "      <td>...</td>\n",
       "      <td>...</td>\n",
       "      <td>...</td>\n",
       "      <td>...</td>\n",
       "      <td>...</td>\n",
       "    </tr>\n",
       "    <tr>\n",
       "      <th>3702042</th>\n",
       "      <td>en</td>\n",
       "      <td>https://en.wikipedia.org/wiki/USS_Pee_Dee_River</td>\n",
       "      <td>http://upload.wikimedia.org/wikipedia/commons/...</td>\n",
       "      <td>USS Pee Dee River</td>\n",
       "      <td>NaN</td>\n",
       "      <td>USS Pee Dee River</td>\n",
       "      <td>LSM(R)-517 in 1954</td>\n",
       "      <td>NaN</td>\n",
       "      <td>USS Pee Dee River LSMR-517</td>\n",
       "      <td>image/jpeg</td>\n",
       "      <td>616</td>\n",
       "      <td>769</td>\n",
       "      <td>True</td>\n",
       "      <td>False</td>\n",
       "      <td>False</td>\n",
       "      <td>USS Pee Dee River, an LSM-501-class landing sh...</td>\n",
       "      <td>USS Pee Dee River (LSM(R)-517), an LSM(R)-501-...</td>\n",
       "    </tr>\n",
       "    <tr>\n",
       "      <th>3702043</th>\n",
       "      <td>en</td>\n",
       "      <td>https://en.wikipedia.org/wiki/Antelope_Wells_P...</td>\n",
       "      <td>https://upload.wikimedia.org/wikipedia/commons...</td>\n",
       "      <td>Antelope Wells Port of Entry</td>\n",
       "      <td>NaN</td>\n",
       "      <td>Antelope Wells Port of Entry</td>\n",
       "      <td>Antelope Wells Port of Entry, December, 2001</td>\n",
       "      <td>English: Antelope Wells Port of Entry, Decembe...</td>\n",
       "      <td>NaN</td>\n",
       "      <td>image/jpeg</td>\n",
       "      <td>1200</td>\n",
       "      <td>1600</td>\n",
       "      <td>True</td>\n",
       "      <td>True</td>\n",
       "      <td>False</td>\n",
       "      <td>The Antelope Wells Port of Entry is an interna...</td>\n",
       "      <td>The Antelope Wells Port of Entry is an interna...</td>\n",
       "    </tr>\n",
       "    <tr>\n",
       "      <th>3702058</th>\n",
       "      <td>en</td>\n",
       "      <td>https://en.wikipedia.org/wiki/Processed_cheese</td>\n",
       "      <td>https://upload.wikimedia.org/wikipedia/commons...</td>\n",
       "      <td>Processed cheese</td>\n",
       "      <td>United States</td>\n",
       "      <td>Processed cheese / Legal definitions / United ...</td>\n",
       "      <td>A gift pack containing several varieties of la...</td>\n",
       "      <td>Example of a w:Hickory Farms product assortment</td>\n",
       "      <td>NaN</td>\n",
       "      <td>image/jpeg</td>\n",
       "      <td>1382</td>\n",
       "      <td>2576</td>\n",
       "      <td>False</td>\n",
       "      <td>True</td>\n",
       "      <td>True</td>\n",
       "      <td>Processed cheese is a food product made from c...</td>\n",
       "      <td>In the United States, processed cheese is defi...</td>\n",
       "    </tr>\n",
       "    <tr>\n",
       "      <th>3702066</th>\n",
       "      <td>en</td>\n",
       "      <td>https://en.wikipedia.org/wiki/List_of_church_r...</td>\n",
       "      <td>https://upload.wikimedia.org/wikipedia/commons...</td>\n",
       "      <td>List of church restorations and alterations by...</td>\n",
       "      <td>Works</td>\n",
       "      <td>List of church restorations and alterations by...</td>\n",
       "      <td>NaN</td>\n",
       "      <td>English: St. Peter's Church, Edgmond, Shropshire.</td>\n",
       "      <td>NaN</td>\n",
       "      <td>image/jpeg</td>\n",
       "      <td>479</td>\n",
       "      <td>640</td>\n",
       "      <td>False</td>\n",
       "      <td>True</td>\n",
       "      <td>False</td>\n",
       "      <td>G. E. Street was an English architect and arch...</td>\n",
       "      <td>NaN</td>\n",
       "    </tr>\n",
       "    <tr>\n",
       "      <th>3702074</th>\n",
       "      <td>en</td>\n",
       "      <td>https://en.wikipedia.org/wiki/National_Registe...</td>\n",
       "      <td>https://upload.wikimedia.org/wikipedia/commons...</td>\n",
       "      <td>National Register of Historic Places listings ...</td>\n",
       "      <td>Current listings</td>\n",
       "      <td>National Register of Historic Places listings ...</td>\n",
       "      <td>NaN</td>\n",
       "      <td>English: Remnants of a Fremont pit-house at Co...</td>\n",
       "      <td>Cottonwood Village</td>\n",
       "      <td>image/jpeg</td>\n",
       "      <td>3216</td>\n",
       "      <td>4288</td>\n",
       "      <td>False</td>\n",
       "      <td>True</td>\n",
       "      <td>True</td>\n",
       "      <td>This is a list of the National Register of His...</td>\n",
       "      <td>NaN</td>\n",
       "    </tr>\n",
       "  </tbody>\n",
       "</table>\n",
       "<p>542006 rows × 17 columns</p>\n",
       "</div>"
      ],
      "text/plain": [
       "        language                                           page_url  \\\n",
       "2             en        https://en.wikipedia.org/wiki/Joie_de_Vivre   \n",
       "11            en  https://en.wikipedia.org/wiki/M%C3%A1riusz_R%C...   \n",
       "28            en  https://en.wikipedia.org/wiki/West_Virginia_Di...   \n",
       "39            en  https://en.wikipedia.org/wiki/Eggenberg_Palace...   \n",
       "42            en  https://en.wikipedia.org/wiki/National_Registe...   \n",
       "...          ...                                                ...   \n",
       "3702042       en    https://en.wikipedia.org/wiki/USS_Pee_Dee_River   \n",
       "3702043       en  https://en.wikipedia.org/wiki/Antelope_Wells_P...   \n",
       "3702058       en     https://en.wikipedia.org/wiki/Processed_cheese   \n",
       "3702066       en  https://en.wikipedia.org/wiki/List_of_church_r...   \n",
       "3702074       en  https://en.wikipedia.org/wiki/National_Registe...   \n",
       "\n",
       "                                                 image_url  \\\n",
       "2        https://upload.wikimedia.org/wikipedia/commons...   \n",
       "11       https://upload.wikimedia.org/wikipedia/commons...   \n",
       "28       https://upload.wikimedia.org/wikipedia/commons...   \n",
       "39       https://upload.wikimedia.org/wikipedia/commons...   \n",
       "42       https://upload.wikimedia.org/wikipedia/commons...   \n",
       "...                                                    ...   \n",
       "3702042  http://upload.wikimedia.org/wikipedia/commons/...   \n",
       "3702043  https://upload.wikimedia.org/wikipedia/commons...   \n",
       "3702058  https://upload.wikimedia.org/wikipedia/commons...   \n",
       "3702066  https://upload.wikimedia.org/wikipedia/commons...   \n",
       "3702074  https://upload.wikimedia.org/wikipedia/commons...   \n",
       "\n",
       "                                                page_title     section_title  \\\n",
       "2                                            Joie de Vivre               NaN   \n",
       "11                                          Máriusz Révész               NaN   \n",
       "28       West Virginia Division of Corrections and Reha...               NaN   \n",
       "39                                  Eggenberg Palace, Graz      Construction   \n",
       "42       National Register of Historic Places listings ...  Current listings   \n",
       "...                                                    ...               ...   \n",
       "3702042                                  USS Pee Dee River               NaN   \n",
       "3702043                       Antelope Wells Port of Entry               NaN   \n",
       "3702058                                   Processed cheese     United States   \n",
       "3702066  List of church restorations and alterations by...             Works   \n",
       "3702074  National Register of Historic Places listings ...  Current listings   \n",
       "\n",
       "                                hierarchical_section_title  \\\n",
       "2                                            Joie de Vivre   \n",
       "11                                          Máriusz Révész   \n",
       "28       West Virginia Division of Corrections and Reha...   \n",
       "39         Eggenberg Palace, Graz / History / Construction   \n",
       "42       National Register of Historic Places listings ...   \n",
       "...                                                    ...   \n",
       "3702042                                  USS Pee Dee River   \n",
       "3702043                       Antelope Wells Port of Entry   \n",
       "3702058  Processed cheese / Legal definitions / United ...   \n",
       "3702066  List of church restorations and alterations by...   \n",
       "3702074  National Register of Historic Places listings ...   \n",
       "\n",
       "                             caption_reference_description  \\\n",
       "2                                    The sculpture in 2008   \n",
       "11                                                     NaN   \n",
       "28                                                     NaN   \n",
       "39                                 Eggenberg Palace (2019)   \n",
       "42                                                     NaN   \n",
       "...                                                    ...   \n",
       "3702042                                 LSM(R)-517 in 1954   \n",
       "3702043       Antelope Wells Port of Entry, December, 2001   \n",
       "3702058  A gift pack containing several varieties of la...   \n",
       "3702066                                                NaN   \n",
       "3702074                                                NaN   \n",
       "\n",
       "                           caption_attribution_description  \\\n",
       "2        en:Mark di Suvero's en:Joie de Vivre sculpture...   \n",
       "11                          English: Révész Máriusz (2016)   \n",
       "28       English: Image is similar, if not identical, t...   \n",
       "39                               English: Eggenberg Palace   \n",
       "42       English: pueblo grande ruins This is an image ...   \n",
       "...                                                    ...   \n",
       "3702042                                                NaN   \n",
       "3702043  English: Antelope Wells Port of Entry, Decembe...   \n",
       "3702058    Example of a w:Hickory Farms product assortment   \n",
       "3702066  English: St. Peter's Church, Edgmond, Shropshire.   \n",
       "3702074  English: Remnants of a Fremont pit-house at Co...   \n",
       "\n",
       "             caption_alt_text_description   mime_type  original_height  \\\n",
       "2                                     NaN  image/jpeg             1396   \n",
       "11                                    NaN  image/jpeg             3072   \n",
       "28                                    NaN   image/png              696   \n",
       "39       Schloss Eggenberg, Graz, Austria  image/jpeg             3864   \n",
       "42          Hohokam-Pima Irrigation Sites  image/jpeg             1452   \n",
       "...                                   ...         ...              ...   \n",
       "3702042        USS Pee Dee River LSMR-517  image/jpeg              616   \n",
       "3702043                               NaN  image/jpeg             1200   \n",
       "3702058                               NaN  image/jpeg             1382   \n",
       "3702066                               NaN  image/jpeg              479   \n",
       "3702074                Cottonwood Village  image/jpeg             3216   \n",
       "\n",
       "         original_width  is_main_image  attribution_passes_lang_id  \\\n",
       "2                  2003           True                        True   \n",
       "11                 2304           True                       False   \n",
       "28                  600          False                        True   \n",
       "39                 5152          False                        True   \n",
       "42                 1981          False                        True   \n",
       "...                 ...            ...                         ...   \n",
       "3702042             769           True                       False   \n",
       "3702043            1600           True                        True   \n",
       "3702058            2576          False                        True   \n",
       "3702066             640          False                        True   \n",
       "3702074            4288          False                        True   \n",
       "\n",
       "         page_changed_recently  \\\n",
       "2                         True   \n",
       "11                        True   \n",
       "28                       False   \n",
       "39                        True   \n",
       "42                        True   \n",
       "...                        ...   \n",
       "3702042                  False   \n",
       "3702043                  False   \n",
       "3702058                   True   \n",
       "3702066                  False   \n",
       "3702074                   True   \n",
       "\n",
       "                                  context_page_description  \\\n",
       "2        Joie de Vivre is an outdoor sculpture by Mark ...   \n",
       "11       Máriusz Révész is a Hungarian politician of th...   \n",
       "28       The West Virginia Division of Corrections and ...   \n",
       "39       Eggenberg Palace in Graz, is the most signific...   \n",
       "42       This is a list of the National Register of His...   \n",
       "...                                                    ...   \n",
       "3702042  USS Pee Dee River, an LSM-501-class landing sh...   \n",
       "3702043  The Antelope Wells Port of Entry is an interna...   \n",
       "3702058  Processed cheese is a food product made from c...   \n",
       "3702066  G. E. Street was an English architect and arch...   \n",
       "3702074  This is a list of the National Register of His...   \n",
       "\n",
       "                               context_section_description  \n",
       "2        Joie de Vivre (English: Joy of Life) is an out...  \n",
       "11       Máriusz Révész (born 31 May 1967, in Budapest)...  \n",
       "28       The West Virginia Division of Corrections and ...  \n",
       "39       At first glance, Schloss Eggenberg presents it...  \n",
       "42                                                     NaN  \n",
       "...                                                    ...  \n",
       "3702042  USS Pee Dee River (LSM(R)-517), an LSM(R)-501-...  \n",
       "3702043  The Antelope Wells Port of Entry is an interna...  \n",
       "3702058  In the United States, processed cheese is defi...  \n",
       "3702066                                                NaN  \n",
       "3702074                                                NaN  \n",
       "\n",
       "[542006 rows x 17 columns]"
      ]
     },
     "execution_count": 63,
     "metadata": {},
     "output_type": "execute_result"
    }
   ],
   "source": [
    "df_1 = df_1[df_1[\"language\"]=='en']\n",
    "df_1"
   ]
  },
  {
   "cell_type": "code",
   "execution_count": null,
   "id": "renewable-institute",
   "metadata": {
    "scrolled": true
   },
   "outputs": [
    {
     "name": "stdout",
     "output_type": "stream",
     "text": [
      "196 stripe cross traffic crosswalk crossing pedestrian signal\n"
     ]
    },
    {
     "data": {
      "application/vnd.jupyter.widget-view+json": {
       "model_id": "e003c51d73b34882844bba7cf61160e2",
       "version_major": 2,
       "version_minor": 0
      },
      "text/plain": [
       "  0%|          | 0/542006 [00:00<?, ?it/s]"
      ]
     },
     "metadata": {},
     "output_type": "display_data"
    },
    {
     "name": "stdout",
     "output_type": "stream",
     "text": [
      "412 walk pers perp arrest walkability pedestrian walkable\n"
     ]
    },
    {
     "data": {
      "application/vnd.jupyter.widget-view+json": {
       "model_id": "78156cd9d76148e5b822939f6d6d6d4b",
       "version_major": 2,
       "version_minor": 0
      },
      "text/plain": [
       "  0%|          | 0/542006 [00:00<?, ?it/s]"
      ]
     },
     "metadata": {},
     "output_type": "display_data"
    },
    {
     "name": "stdout",
     "output_type": "stream",
     "text": [
      "172 vehicle street car road transportation lane traffic pedestrian\n"
     ]
    },
    {
     "data": {
      "application/vnd.jupyter.widget-view+json": {
       "model_id": "e1a2fbeb76454cec9701fbaa42c2c4a2",
       "version_major": 2,
       "version_minor": 0
      },
      "text/plain": [
       "  0%|          | 0/542006 [00:00<?, ?it/s]"
      ]
     },
     "metadata": {},
     "output_type": "display_data"
    },
    {
     "name": "stdout",
     "output_type": "stream",
     "text": [
      "363 intervention stalker bystander victim witness stalk intervene assault\n"
     ]
    },
    {
     "data": {
      "application/vnd.jupyter.widget-view+json": {
       "model_id": "8793de9eb1bc411b8de7926077ff5f3b",
       "version_major": 2,
       "version_minor": 0
      },
      "text/plain": [
       "  0%|          | 0/542006 [00:00<?, ?it/s]"
      ]
     },
     "metadata": {},
     "output_type": "display_data"
    },
    {
     "name": "stdout",
     "output_type": "stream",
     "text": [
      "198 vehicle tow car parking parkjockey park garage\n"
     ]
    },
    {
     "data": {
      "application/vnd.jupyter.widget-view+json": {
       "model_id": "b15b00ad198d4d5c843c4b8589b2ce87",
       "version_major": 2,
       "version_minor": 0
      },
      "text/plain": [
       "  0%|          | 0/542006 [00:00<?, ?it/s]"
      ]
     },
     "metadata": {},
     "output_type": "display_data"
    },
    {
     "name": "stdout",
     "output_type": "stream",
     "text": [
      "114 disability sport athlete sportspeople wheelchair paralympic paralympics\n"
     ]
    },
    {
     "data": {
      "application/vnd.jupyter.widget-view+json": {
       "model_id": "053b8ed9f094407caff7257d9e00ad6b",
       "version_major": 2,
       "version_minor": 0
      },
      "text/plain": [
       "  0%|          | 0/542006 [00:00<?, ?it/s]"
      ]
     },
     "metadata": {},
     "output_type": "display_data"
    },
    {
     "name": "stdout",
     "output_type": "stream",
     "text": [
      "419 intersection boulevard avenue street manhattan road suffix\n"
     ]
    },
    {
     "data": {
      "application/vnd.jupyter.widget-view+json": {
       "model_id": "5b5b48c6e5b749a9851638f01e1ad8d5",
       "version_major": 2,
       "version_minor": 0
      },
      "text/plain": [
       "  0%|          | 0/542006 [00:00<?, ?it/s]"
      ]
     },
     "metadata": {},
     "output_type": "display_data"
    },
    {
     "name": "stdout",
     "output_type": "stream",
     "text": [
      "294 offence fine drive ticket penalty licence speed traffic reckless violation\n"
     ]
    },
    {
     "data": {
      "application/vnd.jupyter.widget-view+json": {
       "model_id": "0adf73115dae4a3ab3603484ecfbe3f7",
       "version_major": 2,
       "version_minor": 0
      },
      "text/plain": [
       "  0%|          | 0/542006 [00:00<?, ?it/s]"
      ]
     },
     "metadata": {},
     "output_type": "display_data"
    },
    {
     "name": "stdout",
     "output_type": "stream",
     "text": [
      "388 markov walk wiener distribution diffusion stochastic percolation step brownian\n"
     ]
    },
    {
     "data": {
      "application/vnd.jupyter.widget-view+json": {
       "model_id": "5c4020152d0f4c2587c725150b96ca18",
       "version_major": 2,
       "version_minor": 0
      },
      "text/plain": [
       "  0%|          | 0/542006 [00:00<?, ?it/s]"
      ]
     },
     "metadata": {},
     "output_type": "display_data"
    },
    {
     "name": "stdout",
     "output_type": "stream",
     "text": [
      "314 intersection junction interchange roundabout circle lane road traffic\n"
     ]
    },
    {
     "data": {
      "application/vnd.jupyter.widget-view+json": {
       "model_id": "b7fa62a921494b1e80cab630a161ccba",
       "version_major": 2,
       "version_minor": 0
      },
      "text/plain": [
       "  0%|          | 0/542006 [00:00<?, ?it/s]"
      ]
     },
     "metadata": {},
     "output_type": "display_data"
    },
    {
     "name": "stdout",
     "output_type": "stream",
     "text": [
      "98 direction cross sign road parking traffic lane signage marker\n"
     ]
    },
    {
     "data": {
      "application/vnd.jupyter.widget-view+json": {
       "model_id": "1722214b392042f18579abb48da45e88",
       "version_major": 2,
       "version_minor": 0
      },
      "text/plain": [
       "  0%|          | 0/542006 [00:00<?, ?it/s]"
      ]
     },
     "metadata": {},
     "output_type": "display_data"
    },
    {
     "name": "stdout",
     "output_type": "stream",
     "text": [
      "80 accident drive vehicle velocity fatality nhtsa collision momentum brake\n"
     ]
    },
    {
     "data": {
      "application/vnd.jupyter.widget-view+json": {
       "model_id": "2f773cf6f1ba480a873ae628214d1c60",
       "version_major": 2,
       "version_minor": 0
      },
      "text/plain": [
       "  0%|          | 0/542006 [00:00<?, ?it/s]"
      ]
     },
     "metadata": {},
     "output_type": "display_data"
    },
    {
     "name": "stdout",
     "output_type": "stream",
     "text": [
      "134 edmonton freeway avenue highway road gardiner expressway lane toronto ontario\n"
     ]
    },
    {
     "data": {
      "application/vnd.jupyter.widget-view+json": {
       "model_id": "e1605f3547434733ae1debe9968e6d38",
       "version_major": 2,
       "version_minor": 0
      },
      "text/plain": [
       "  0%|          | 0/542006 [00:00<?, ?it/s]"
      ]
     },
     "metadata": {},
     "output_type": "display_data"
    },
    {
     "name": "stdout",
     "output_type": "stream",
     "text": [
      "432 book walker poem fiction poetry alice novel pulitzer\n"
     ]
    },
    {
     "data": {
      "application/vnd.jupyter.widget-view+json": {
       "model_id": "ae60859a1dec41d59e33ff60b929d274",
       "version_major": 2,
       "version_minor": 0
      },
      "text/plain": [
       "  0%|          | 0/542006 [00:00<?, ?it/s]"
      ]
     },
     "metadata": {},
     "output_type": "display_data"
    },
    {
     "name": "stdout",
     "output_type": "stream",
     "text": [
      "394 boulevard alley bridleway path bridleways footpath\n"
     ]
    },
    {
     "data": {
      "application/vnd.jupyter.widget-view+json": {
       "model_id": "163bb3eb66e449afb7a54e909e84d073",
       "version_major": 2,
       "version_minor": 0
      },
      "text/plain": [
       "  0%|          | 0/542006 [00:00<?, ?it/s]"
      ]
     },
     "metadata": {},
     "output_type": "display_data"
    },
    {
     "name": "stdout",
     "output_type": "stream",
     "text": [
      "53 concrete asphalt pavement cement pothole road gravel pave sand\n"
     ]
    },
    {
     "data": {
      "application/vnd.jupyter.widget-view+json": {
       "model_id": "d1e356f8e36845559775785c231d7158",
       "version_major": 2,
       "version_minor": 0
      },
      "text/plain": [
       "  0%|          | 0/542006 [00:00<?, ?it/s]"
      ]
     },
     "metadata": {},
     "output_type": "display_data"
    },
    {
     "name": "stdout",
     "output_type": "stream",
     "text": [
      "56 trolley train tram bus transportation streetcar transit subway\n"
     ]
    },
    {
     "data": {
      "application/vnd.jupyter.widget-view+json": {
       "model_id": "e2b50751d8c04d25b12d861cbc964a97",
       "version_major": 2,
       "version_minor": 0
      },
      "text/plain": [
       "  0%|          | 0/542006 [00:00<?, ?it/s]"
      ]
     },
     "metadata": {},
     "output_type": "display_data"
    },
    {
     "name": "stdout",
     "output_type": "stream",
     "text": [
      "150 intersection freeway highway ramp lane road traffic\n"
     ]
    },
    {
     "data": {
      "application/vnd.jupyter.widget-view+json": {
       "model_id": "841fbe4c798e4ba581de393292ac37e9",
       "version_major": 2,
       "version_minor": 0
      },
      "text/plain": [
       "  0%|          | 0/542006 [00:00<?, ?it/s]"
      ]
     },
     "metadata": {},
     "output_type": "display_data"
    },
    {
     "name": "stdout",
     "output_type": "stream",
     "text": [
      "278 walk promenaden promener deck promenade promenadef park\n"
     ]
    },
    {
     "data": {
      "application/vnd.jupyter.widget-view+json": {
       "model_id": "82d7ea45fe1c447fab25fb8dbb5efab5",
       "version_major": 2,
       "version_minor": 0
      },
      "text/plain": [
       "  0%|          | 0/542006 [00:00<?, ?it/s]"
      ]
     },
     "metadata": {},
     "output_type": "display_data"
    },
    {
     "name": "stdout",
     "output_type": "stream",
     "text": [
      "-1 public century water american street film her state example\n"
     ]
    },
    {
     "data": {
      "application/vnd.jupyter.widget-view+json": {
       "model_id": "de726675b9154468a1ffa1eeb8a50982",
       "version_major": 2,
       "version_minor": 0
      },
      "text/plain": [
       "  0%|          | 0/542006 [00:00<?, ?it/s]"
      ]
     },
     "metadata": {},
     "output_type": "display_data"
    },
    {
     "name": "stdout",
     "output_type": "stream",
     "text": [
      "43 protester white racial civil protest black race negro segregation\n"
     ]
    },
    {
     "data": {
      "application/vnd.jupyter.widget-view+json": {
       "model_id": "2fdb1261cf3e4003a785600e67bbd0a9",
       "version_major": 2,
       "version_minor": 0
      },
      "text/plain": [
       "  0%|          | 0/542006 [00:00<?, ?it/s]"
      ]
     },
     "metadata": {},
     "output_type": "display_data"
    },
    {
     "name": "stdout",
     "output_type": "stream",
     "text": [
      "265 infant stroller harness diaper child carriage hatch baby\n"
     ]
    },
    {
     "data": {
      "application/vnd.jupyter.widget-view+json": {
       "model_id": "abb7db49b7354d4997774a654ea6715c",
       "version_major": 2,
       "version_minor": 0
      },
      "text/plain": [
       "  0%|          | 0/542006 [00:00<?, ?it/s]"
      ]
     },
     "metadata": {},
     "output_type": "display_data"
    },
    {
     "name": "stdout",
     "output_type": "stream",
     "text": [
      "345 guardrail hazard barrier bumper protect rail safety\n"
     ]
    },
    {
     "data": {
      "application/vnd.jupyter.widget-view+json": {
       "model_id": "1eb4395e26b640b7bbc45633f142ee61",
       "version_major": 2,
       "version_minor": 0
      },
      "text/plain": [
       "  0%|          | 0/542006 [00:00<?, ?it/s]"
      ]
     },
     "metadata": {},
     "output_type": "display_data"
    },
    {
     "name": "stdout",
     "output_type": "stream",
     "text": [
      "378 chicago park architect frederick city building architecture\n"
     ]
    },
    {
     "data": {
      "application/vnd.jupyter.widget-view+json": {
       "model_id": "e201ca992802499fba9d69a695cc6f31",
       "version_major": 2,
       "version_minor": 0
      },
      "text/plain": [
       "  0%|          | 0/542006 [00:00<?, ?it/s]"
      ]
     },
     "metadata": {},
     "output_type": "display_data"
    },
    {
     "name": "stdout",
     "output_type": "stream",
     "text": [
      "11 intersection freeway terminus highway interstate route turnpike road lane\n"
     ]
    },
    {
     "data": {
      "application/vnd.jupyter.widget-view+json": {
       "model_id": "f6fd62b1f37b4fbabbadc7ffb1859354",
       "version_major": 2,
       "version_minor": 0
      },
      "text/plain": [
       "  0%|          | 0/542006 [00:00<?, ?it/s]"
      ]
     },
     "metadata": {},
     "output_type": "display_data"
    },
    {
     "name": "stdout",
     "output_type": "stream",
     "text": [
      "331 highway route byway road parkway roadway scenic navajo\n"
     ]
    },
    {
     "data": {
      "application/vnd.jupyter.widget-view+json": {
       "model_id": "9d596d78f5dd4725958846e8ece4ea07",
       "version_major": 2,
       "version_minor": 0
      },
      "text/plain": [
       "  0%|          | 0/542006 [00:00<?, ?it/s]"
      ]
     },
     "metadata": {},
     "output_type": "display_data"
    },
    {
     "name": "stdout",
     "output_type": "stream",
     "text": [
      "202 vehicle delay downstream congestion congest road speed traffic bottleneck\n"
     ]
    },
    {
     "data": {
      "application/vnd.jupyter.widget-view+json": {
       "model_id": "9eebc48a0614462397971dbb8ed49dd6",
       "version_major": 2,
       "version_minor": 0
      },
      "text/plain": [
       "  0%|          | 0/542006 [00:00<?, ?it/s]"
      ]
     },
     "metadata": {},
     "output_type": "display_data"
    },
    {
     "name": "stdout",
     "output_type": "stream",
     "text": [
      "169 shelter home housing homelessness apartment house condominium homeless household\n"
     ]
    },
    {
     "data": {
      "application/vnd.jupyter.widget-view+json": {
       "model_id": "33175768631641bab806288d76cb8cef",
       "version_major": 2,
       "version_minor": 0
      },
      "text/plain": [
       "  0%|          | 0/542006 [00:00<?, ?it/s]"
      ]
     },
     "metadata": {},
     "output_type": "display_data"
    },
    {
     "name": "stderr",
     "output_type": "stream",
     "text": [
      "IOPub message rate exceeded.\n",
      "The notebook server will temporarily stop sending output\n",
      "to the client in order to avoid crashing it.\n",
      "To change this limit, set the config variable\n",
      "`--NotebookApp.iopub_msg_rate_limit`.\n",
      "\n",
      "Current values:\n",
      "NotebookApp.iopub_msg_rate_limit=1000.0 (msgs/sec)\n",
      "NotebookApp.rate_limit_window=3.0 (secs)\n",
      "\n",
      "IOPub message rate exceeded.\n",
      "The notebook server will temporarily stop sending output\n",
      "to the client in order to avoid crashing it.\n",
      "To change this limit, set the config variable\n",
      "`--NotebookApp.iopub_msg_rate_limit`.\n",
      "\n",
      "Current values:\n",
      "NotebookApp.iopub_msg_rate_limit=1000.0 (msgs/sec)\n",
      "NotebookApp.rate_limit_window=3.0 (secs)\n",
      "\n",
      "IOPub message rate exceeded.\n",
      "The notebook server will temporarily stop sending output\n",
      "to the client in order to avoid crashing it.\n",
      "To change this limit, set the config variable\n",
      "`--NotebookApp.iopub_msg_rate_limit`.\n",
      "\n",
      "Current values:\n",
      "NotebookApp.iopub_msg_rate_limit=1000.0 (msgs/sec)\n",
      "NotebookApp.rate_limit_window=3.0 (secs)\n",
      "\n",
      "IOPub message rate exceeded.\n",
      "The notebook server will temporarily stop sending output\n",
      "to the client in order to avoid crashing it.\n",
      "To change this limit, set the config variable\n",
      "`--NotebookApp.iopub_msg_rate_limit`.\n",
      "\n",
      "Current values:\n",
      "NotebookApp.iopub_msg_rate_limit=1000.0 (msgs/sec)\n",
      "NotebookApp.rate_limit_window=3.0 (secs)\n",
      "\n"
     ]
    },
    {
     "name": "stdout",
     "output_type": "stream",
     "text": [
      "327 torch pedestal bartholdi sculptor sculpture liberty statue monument lazarus\n"
     ]
    },
    {
     "data": {
      "application/vnd.jupyter.widget-view+json": {
       "model_id": "33a222d6211145c9b5c2ed54089a5109",
       "version_major": 2,
       "version_minor": 0
      },
      "text/plain": [
       "  0%|          | 0/542006 [00:00<?, ?it/s]"
      ]
     },
     "metadata": {},
     "output_type": "display_data"
    },
    {
     "name": "stdout",
     "output_type": "stream",
     "text": [
      "309 geelong train close adelaide line railway rail melbourne carriageworks\n"
     ]
    },
    {
     "data": {
      "application/vnd.jupyter.widget-view+json": {
       "model_id": "6b194d4ac102476183f38aa55b2ba360",
       "version_major": 2,
       "version_minor": 0
      },
      "text/plain": [
       "  0%|          | 0/542006 [00:00<?, ?it/s]"
      ]
     },
     "metadata": {},
     "output_type": "display_data"
    },
    {
     "name": "stdout",
     "output_type": "stream",
     "text": [
      "68 vehicle wheel axle chariot carriage wagon passenger\n"
     ]
    },
    {
     "data": {
      "application/vnd.jupyter.widget-view+json": {
       "model_id": "5bb6f0b00a9846f8b2d24d9ac9b6d43a",
       "version_major": 2,
       "version_minor": 0
      },
      "text/plain": [
       "  0%|          | 0/542006 [00:00<?, ?it/s]"
      ]
     },
     "metadata": {},
     "output_type": "display_data"
    },
    {
     "name": "stderr",
     "output_type": "stream",
     "text": [
      "IOPub message rate exceeded.\n",
      "The notebook server will temporarily stop sending output\n",
      "to the client in order to avoid crashing it.\n",
      "To change this limit, set the config variable\n",
      "`--NotebookApp.iopub_msg_rate_limit`.\n",
      "\n",
      "Current values:\n",
      "NotebookApp.iopub_msg_rate_limit=1000.0 (msgs/sec)\n",
      "NotebookApp.rate_limit_window=3.0 (secs)\n",
      "\n",
      "IOPub message rate exceeded.\n",
      "The notebook server will temporarily stop sending output\n",
      "to the client in order to avoid crashing it.\n",
      "To change this limit, set the config variable\n",
      "`--NotebookApp.iopub_msg_rate_limit`.\n",
      "\n",
      "Current values:\n",
      "NotebookApp.iopub_msg_rate_limit=1000.0 (msgs/sec)\n",
      "NotebookApp.rate_limit_window=3.0 (secs)\n",
      "\n",
      "IOPub message rate exceeded.\n",
      "The notebook server will temporarily stop sending output\n",
      "to the client in order to avoid crashing it.\n",
      "To change this limit, set the config variable\n",
      "`--NotebookApp.iopub_msg_rate_limit`.\n",
      "\n",
      "Current values:\n",
      "NotebookApp.iopub_msg_rate_limit=1000.0 (msgs/sec)\n",
      "NotebookApp.rate_limit_window=3.0 (secs)\n",
      "\n",
      "IOPub message rate exceeded.\n",
      "The notebook server will temporarily stop sending output\n",
      "to the client in order to avoid crashing it.\n",
      "To change this limit, set the config variable\n",
      "`--NotebookApp.iopub_msg_rate_limit`.\n",
      "\n",
      "Current values:\n",
      "NotebookApp.iopub_msg_rate_limit=1000.0 (msgs/sec)\n",
      "NotebookApp.rate_limit_window=3.0 (secs)\n",
      "\n",
      "IOPub message rate exceeded.\n",
      "The notebook server will temporarily stop sending output\n",
      "to the client in order to avoid crashing it.\n",
      "To change this limit, set the config variable\n",
      "`--NotebookApp.iopub_msg_rate_limit`.\n",
      "\n",
      "Current values:\n",
      "NotebookApp.iopub_msg_rate_limit=1000.0 (msgs/sec)\n",
      "NotebookApp.rate_limit_window=3.0 (secs)\n",
      "\n",
      "IOPub message rate exceeded.\n",
      "The notebook server will temporarily stop sending output\n",
      "to the client in order to avoid crashing it.\n",
      "To change this limit, set the config variable\n",
      "`--NotebookApp.iopub_msg_rate_limit`.\n",
      "\n",
      "Current values:\n",
      "NotebookApp.iopub_msg_rate_limit=1000.0 (msgs/sec)\n",
      "NotebookApp.rate_limit_window=3.0 (secs)\n",
      "\n",
      "IOPub message rate exceeded.\n",
      "The notebook server will temporarily stop sending output\n",
      "to the client in order to avoid crashing it.\n",
      "To change this limit, set the config variable\n",
      "`--NotebookApp.iopub_msg_rate_limit`.\n",
      "\n",
      "Current values:\n",
      "NotebookApp.iopub_msg_rate_limit=1000.0 (msgs/sec)\n",
      "NotebookApp.rate_limit_window=3.0 (secs)\n",
      "\n",
      "IOPub message rate exceeded.\n",
      "The notebook server will temporarily stop sending output\n",
      "to the client in order to avoid crashing it.\n",
      "To change this limit, set the config variable\n",
      "`--NotebookApp.iopub_msg_rate_limit`.\n",
      "\n",
      "Current values:\n",
      "NotebookApp.iopub_msg_rate_limit=1000.0 (msgs/sec)\n",
      "NotebookApp.rate_limit_window=3.0 (secs)\n",
      "\n",
      "IOPub message rate exceeded.\n",
      "The notebook server will temporarily stop sending output\n",
      "to the client in order to avoid crashing it.\n",
      "To change this limit, set the config variable\n",
      "`--NotebookApp.iopub_msg_rate_limit`.\n",
      "\n",
      "Current values:\n",
      "NotebookApp.iopub_msg_rate_limit=1000.0 (msgs/sec)\n",
      "NotebookApp.rate_limit_window=3.0 (secs)\n",
      "\n",
      "IOPub message rate exceeded.\n",
      "The notebook server will temporarily stop sending output\n",
      "to the client in order to avoid crashing it.\n",
      "To change this limit, set the config variable\n",
      "`--NotebookApp.iopub_msg_rate_limit`.\n",
      "\n",
      "Current values:\n",
      "NotebookApp.iopub_msg_rate_limit=1000.0 (msgs/sec)\n",
      "NotebookApp.rate_limit_window=3.0 (secs)\n",
      "\n",
      "IOPub message rate exceeded.\n",
      "The notebook server will temporarily stop sending output\n",
      "to the client in order to avoid crashing it.\n",
      "To change this limit, set the config variable\n",
      "`--NotebookApp.iopub_msg_rate_limit`.\n",
      "\n",
      "Current values:\n",
      "NotebookApp.iopub_msg_rate_limit=1000.0 (msgs/sec)\n",
      "NotebookApp.rate_limit_window=3.0 (secs)\n",
      "\n",
      "IOPub message rate exceeded.\n",
      "The notebook server will temporarily stop sending output\n",
      "to the client in order to avoid crashing it.\n",
      "To change this limit, set the config variable\n",
      "`--NotebookApp.iopub_msg_rate_limit`.\n",
      "\n",
      "Current values:\n",
      "NotebookApp.iopub_msg_rate_limit=1000.0 (msgs/sec)\n",
      "NotebookApp.rate_limit_window=3.0 (secs)\n",
      "\n",
      "IOPub message rate exceeded.\n",
      "The notebook server will temporarily stop sending output\n",
      "to the client in order to avoid crashing it.\n",
      "To change this limit, set the config variable\n",
      "`--NotebookApp.iopub_msg_rate_limit`.\n",
      "\n",
      "Current values:\n",
      "NotebookApp.iopub_msg_rate_limit=1000.0 (msgs/sec)\n",
      "NotebookApp.rate_limit_window=3.0 (secs)\n",
      "\n",
      "IOPub message rate exceeded.\n",
      "The notebook server will temporarily stop sending output\n",
      "to the client in order to avoid crashing it.\n",
      "To change this limit, set the config variable\n",
      "`--NotebookApp.iopub_msg_rate_limit`.\n",
      "\n",
      "Current values:\n",
      "NotebookApp.iopub_msg_rate_limit=1000.0 (msgs/sec)\n",
      "NotebookApp.rate_limit_window=3.0 (secs)\n",
      "\n",
      "IOPub message rate exceeded.\n",
      "The notebook server will temporarily stop sending output\n",
      "to the client in order to avoid crashing it.\n",
      "To change this limit, set the config variable\n",
      "`--NotebookApp.iopub_msg_rate_limit`.\n",
      "\n",
      "Current values:\n",
      "NotebookApp.iopub_msg_rate_limit=1000.0 (msgs/sec)\n",
      "NotebookApp.rate_limit_window=3.0 (secs)\n",
      "\n",
      "IOPub message rate exceeded.\n",
      "The notebook server will temporarily stop sending output\n",
      "to the client in order to avoid crashing it.\n",
      "To change this limit, set the config variable\n",
      "`--NotebookApp.iopub_msg_rate_limit`.\n",
      "\n",
      "Current values:\n",
      "NotebookApp.iopub_msg_rate_limit=1000.0 (msgs/sec)\n",
      "NotebookApp.rate_limit_window=3.0 (secs)\n",
      "\n",
      "IOPub message rate exceeded.\n",
      "The notebook server will temporarily stop sending output\n",
      "to the client in order to avoid crashing it.\n",
      "To change this limit, set the config variable\n",
      "`--NotebookApp.iopub_msg_rate_limit`.\n",
      "\n",
      "Current values:\n",
      "NotebookApp.iopub_msg_rate_limit=1000.0 (msgs/sec)\n",
      "NotebookApp.rate_limit_window=3.0 (secs)\n",
      "\n",
      "IOPub message rate exceeded.\n",
      "The notebook server will temporarily stop sending output\n",
      "to the client in order to avoid crashing it.\n",
      "To change this limit, set the config variable\n",
      "`--NotebookApp.iopub_msg_rate_limit`.\n",
      "\n",
      "Current values:\n",
      "NotebookApp.iopub_msg_rate_limit=1000.0 (msgs/sec)\n",
      "NotebookApp.rate_limit_window=3.0 (secs)\n",
      "\n",
      "IOPub message rate exceeded.\n",
      "The notebook server will temporarily stop sending output\n",
      "to the client in order to avoid crashing it.\n",
      "To change this limit, set the config variable\n",
      "`--NotebookApp.iopub_msg_rate_limit`.\n",
      "\n",
      "Current values:\n",
      "NotebookApp.iopub_msg_rate_limit=1000.0 (msgs/sec)\n",
      "NotebookApp.rate_limit_window=3.0 (secs)\n",
      "\n",
      "IOPub message rate exceeded.\n",
      "The notebook server will temporarily stop sending output\n",
      "to the client in order to avoid crashing it.\n",
      "To change this limit, set the config variable\n",
      "`--NotebookApp.iopub_msg_rate_limit`.\n",
      "\n",
      "Current values:\n",
      "NotebookApp.iopub_msg_rate_limit=1000.0 (msgs/sec)\n",
      "NotebookApp.rate_limit_window=3.0 (secs)\n",
      "\n",
      "IOPub message rate exceeded.\n",
      "The notebook server will temporarily stop sending output\n",
      "to the client in order to avoid crashing it.\n",
      "To change this limit, set the config variable\n",
      "`--NotebookApp.iopub_msg_rate_limit`.\n",
      "\n",
      "Current values:\n",
      "NotebookApp.iopub_msg_rate_limit=1000.0 (msgs/sec)\n",
      "NotebookApp.rate_limit_window=3.0 (secs)\n",
      "\n",
      "IOPub message rate exceeded.\n",
      "The notebook server will temporarily stop sending output\n",
      "to the client in order to avoid crashing it.\n",
      "To change this limit, set the config variable\n",
      "`--NotebookApp.iopub_msg_rate_limit`.\n",
      "\n",
      "Current values:\n",
      "NotebookApp.iopub_msg_rate_limit=1000.0 (msgs/sec)\n",
      "NotebookApp.rate_limit_window=3.0 (secs)\n",
      "\n",
      "IOPub message rate exceeded.\n",
      "The notebook server will temporarily stop sending output\n",
      "to the client in order to avoid crashing it.\n",
      "To change this limit, set the config variable\n",
      "`--NotebookApp.iopub_msg_rate_limit`.\n",
      "\n",
      "Current values:\n",
      "NotebookApp.iopub_msg_rate_limit=1000.0 (msgs/sec)\n",
      "NotebookApp.rate_limit_window=3.0 (secs)\n",
      "\n",
      "IOPub message rate exceeded.\n",
      "The notebook server will temporarily stop sending output\n",
      "to the client in order to avoid crashing it.\n",
      "To change this limit, set the config variable\n",
      "`--NotebookApp.iopub_msg_rate_limit`.\n",
      "\n",
      "Current values:\n",
      "NotebookApp.iopub_msg_rate_limit=1000.0 (msgs/sec)\n",
      "NotebookApp.rate_limit_window=3.0 (secs)\n",
      "\n",
      "IOPub message rate exceeded.\n",
      "The notebook server will temporarily stop sending output\n",
      "to the client in order to avoid crashing it.\n",
      "To change this limit, set the config variable\n",
      "`--NotebookApp.iopub_msg_rate_limit`.\n",
      "\n",
      "Current values:\n",
      "NotebookApp.iopub_msg_rate_limit=1000.0 (msgs/sec)\n",
      "NotebookApp.rate_limit_window=3.0 (secs)\n",
      "\n",
      "IOPub message rate exceeded.\n",
      "The notebook server will temporarily stop sending output\n",
      "to the client in order to avoid crashing it.\n",
      "To change this limit, set the config variable\n",
      "`--NotebookApp.iopub_msg_rate_limit`.\n",
      "\n",
      "Current values:\n",
      "NotebookApp.iopub_msg_rate_limit=1000.0 (msgs/sec)\n",
      "NotebookApp.rate_limit_window=3.0 (secs)\n",
      "\n"
     ]
    },
    {
     "name": "stderr",
     "output_type": "stream",
     "text": [
      "IOPub message rate exceeded.\n",
      "The notebook server will temporarily stop sending output\n",
      "to the client in order to avoid crashing it.\n",
      "To change this limit, set the config variable\n",
      "`--NotebookApp.iopub_msg_rate_limit`.\n",
      "\n",
      "Current values:\n",
      "NotebookApp.iopub_msg_rate_limit=1000.0 (msgs/sec)\n",
      "NotebookApp.rate_limit_window=3.0 (secs)\n",
      "\n",
      "IOPub message rate exceeded.\n",
      "The notebook server will temporarily stop sending output\n",
      "to the client in order to avoid crashing it.\n",
      "To change this limit, set the config variable\n",
      "`--NotebookApp.iopub_msg_rate_limit`.\n",
      "\n",
      "Current values:\n",
      "NotebookApp.iopub_msg_rate_limit=1000.0 (msgs/sec)\n",
      "NotebookApp.rate_limit_window=3.0 (secs)\n",
      "\n",
      "IOPub message rate exceeded.\n",
      "The notebook server will temporarily stop sending output\n",
      "to the client in order to avoid crashing it.\n",
      "To change this limit, set the config variable\n",
      "`--NotebookApp.iopub_msg_rate_limit`.\n",
      "\n",
      "Current values:\n",
      "NotebookApp.iopub_msg_rate_limit=1000.0 (msgs/sec)\n",
      "NotebookApp.rate_limit_window=3.0 (secs)\n",
      "\n",
      "IOPub message rate exceeded.\n",
      "The notebook server will temporarily stop sending output\n",
      "to the client in order to avoid crashing it.\n",
      "To change this limit, set the config variable\n",
      "`--NotebookApp.iopub_msg_rate_limit`.\n",
      "\n",
      "Current values:\n",
      "NotebookApp.iopub_msg_rate_limit=1000.0 (msgs/sec)\n",
      "NotebookApp.rate_limit_window=3.0 (secs)\n",
      "\n",
      "IOPub message rate exceeded.\n",
      "The notebook server will temporarily stop sending output\n",
      "to the client in order to avoid crashing it.\n",
      "To change this limit, set the config variable\n",
      "`--NotebookApp.iopub_msg_rate_limit`.\n",
      "\n",
      "Current values:\n",
      "NotebookApp.iopub_msg_rate_limit=1000.0 (msgs/sec)\n",
      "NotebookApp.rate_limit_window=3.0 (secs)\n",
      "\n"
     ]
    }
   ],
   "source": [
    "df_1_csim = calculate_sim(df_1, run_sim, ped_topics)"
   ]
  },
  {
   "cell_type": "code",
   "execution_count": null,
   "id": "biblical-frost",
   "metadata": {},
   "outputs": [],
   "source": [
    "! ls"
   ]
  },
  {
   "cell_type": "code",
   "execution_count": null,
   "id": "approximate-needle",
   "metadata": {},
   "outputs": [],
   "source": [
    "! date"
   ]
  },
  {
   "cell_type": "markdown",
   "id": "sweet-contractor",
   "metadata": {},
   "source": [
    "### concurrent"
   ]
  },
  {
   "cell_type": "code",
   "execution_count": 37,
   "id": "patent-berkeley",
   "metadata": {},
   "outputs": [],
   "source": [
    "import concurrent.futures\n",
    "import urllib.request"
   ]
  },
  {
   "cell_type": "code",
   "execution_count": 37,
   "id": "distinct-portrait",
   "metadata": {},
   "outputs": [],
   "source": [
    "l1 = \"I like my phone\""
   ]
  },
  {
   "cell_type": "code",
   "execution_count": 38,
   "id": "continued-fault",
   "metadata": {},
   "outputs": [
    {
     "data": {
      "application/vnd.jupyter.widget-view+json": {
       "model_id": "8abcf78399da40f8b98bde2149e9a625",
       "version_major": 2,
       "version_minor": 0
      },
      "text/plain": [
       "  0%|          | 0/54071 [00:00<?, ?it/s]"
      ]
     },
     "metadata": {},
     "output_type": "display_data"
    },
    {
     "data": {
      "text/plain": [
       "5            English: Hay Street 中文（繁體）‎: 禧街I like my phone\n",
       "6         Jayson Musson on October 29, 2007 English: Jay...\n",
       "8                English: Euodynerus megaeraI like my phone\n",
       "9          English: Simon Wolfe Rosendale (June 23, 1842...\n",
       "11         English: Photograph of Rainbow Springs in Mar...\n",
       "                                ...                        \n",
       "370348     English: This modern hardware store is locate...\n",
       "370356    Central icon of Varahi Chaurasi temple English...\n",
       "370357    The Kerr engine at the Anson Engine Museum The...\n",
       "370358    Drawing of a 16th-century turtle ship 16th cen...\n",
       "370368    S. quiescens forms mycorrhizal associations wi...\n",
       "Name: caption, Length: 54071, dtype: object"
      ]
     },
     "execution_count": 38,
     "metadata": {},
     "output_type": "execute_result"
    }
   ],
   "source": [
    "df['caption'].progress_apply(add_test, b=l1)"
   ]
  },
  {
   "cell_type": "code",
   "execution_count": 107,
   "id": "broken-coupon",
   "metadata": {
    "scrolled": true
   },
   "outputs": [],
   "source": [
    "for top in ped_topics:\n",
    "    l1 = ' '.join(ped_topics[top])\n",
    "    print(top, l1)"
   ]
  },
  {
   "cell_type": "code",
   "execution_count": 39,
   "id": "adolescent-centre",
   "metadata": {},
   "outputs": [
    {
     "name": "stdout",
     "output_type": "stream",
     "text": [
      "Fri Apr 15 14:19:52 CDT 2022\r\n"
     ]
    }
   ],
   "source": [
    "! date"
   ]
  },
  {
   "cell_type": "code",
   "execution_count": 40,
   "id": "round-height",
   "metadata": {
    "scrolled": true
   },
   "outputs": [
    {
     "name": "stderr",
     "output_type": "stream",
     "text": [
      "ERROR:root:Internal Python error in the inspect module.\n",
      "Below is the traceback from this internal error.\n",
      "\n",
      "\n",
      "KeyboardInterrupt\n",
      "\n"
     ]
    }
   ],
   "source": [
    "%%timeit\n",
    "def extend_df(topic):\n",
    "    l1 = ' '.join(ped_topics[topic])\n",
    "#      return topic, df['caption'].progress_apply(add_test, b=l1)\n",
    "    return topic, df['caption'].apply(run_sim, v=l1)\n",
    "\n",
    "with concurrent.futures.ThreadPoolExecutor(max_workers = 32) as executor:\n",
    "    future_to_url = {executor.submit(extend_df, topic): topic for topic in ped_topics}\n",
    "    for future in concurrent.futures.as_completed(future_to_url):\n",
    "        url = future_to_url[future]\n",
    "        try:\n",
    "            data = future.result()\n",
    "        except Exception as exc:\n",
    "            print('%r generated an exception: %s' % (url, exc))\n",
    "        else:\n",
    "#             print(f'data is: {data}')\n",
    "            df[f'csim_{data[0]}'] = data[1]"
   ]
  },
  {
   "cell_type": "code",
   "execution_count": 41,
   "id": "matched-blood",
   "metadata": {},
   "outputs": [
    {
     "name": "stdout",
     "output_type": "stream",
     "text": [
      "Fri Apr 15 17:59:51 CDT 2022\r\n"
     ]
    }
   ],
   "source": [
    "! date"
   ]
  },
  {
   "cell_type": "code",
   "execution_count": 42,
   "id": "ruled-conflict",
   "metadata": {},
   "outputs": [
    {
     "data": {
      "text/html": [
       "<div>\n",
       "<style scoped>\n",
       "    .dataframe tbody tr th:only-of-type {\n",
       "        vertical-align: middle;\n",
       "    }\n",
       "\n",
       "    .dataframe tbody tr th {\n",
       "        vertical-align: top;\n",
       "    }\n",
       "\n",
       "    .dataframe thead th {\n",
       "        text-align: right;\n",
       "    }\n",
       "</style>\n",
       "<table border=\"1\" class=\"dataframe\">\n",
       "  <thead>\n",
       "    <tr style=\"text-align: right;\">\n",
       "      <th></th>\n",
       "      <th>language</th>\n",
       "      <th>page_url</th>\n",
       "      <th>image_url</th>\n",
       "      <th>page_title</th>\n",
       "      <th>section_title</th>\n",
       "      <th>hierarchical_section_title</th>\n",
       "      <th>caption_reference_description</th>\n",
       "      <th>caption_attribution_description</th>\n",
       "      <th>caption_alt_text_description</th>\n",
       "      <th>mime_type</th>\n",
       "      <th>...</th>\n",
       "      <th>csim_112</th>\n",
       "      <th>csim_441</th>\n",
       "      <th>csim_296</th>\n",
       "      <th>csim_137</th>\n",
       "      <th>csim_192</th>\n",
       "      <th>csim_144</th>\n",
       "      <th>csim_12</th>\n",
       "      <th>csim_224</th>\n",
       "      <th>csim_376</th>\n",
       "      <th>csim_250</th>\n",
       "    </tr>\n",
       "  </thead>\n",
       "  <tbody>\n",
       "    <tr>\n",
       "      <th>5</th>\n",
       "      <td>en</td>\n",
       "      <td>https://en.wikipedia.org/wiki/Chinatown,_Sydney</td>\n",
       "      <td>http://upload.wikimedia.org/wikipedia/commons/...</td>\n",
       "      <td>Chinatown, Sydney</td>\n",
       "      <td>Bilingual street signs</td>\n",
       "      <td>Chinatown, Sydney / Bilingual street signs</td>\n",
       "      <td>NaN</td>\n",
       "      <td>English: Hay Street 中文（繁體）‎: 禧街</td>\n",
       "      <td>NaN</td>\n",
       "      <td>image/jpeg</td>\n",
       "      <td>...</td>\n",
       "      <td>0.161371</td>\n",
       "      <td>0.195378</td>\n",
       "      <td>0.026163</td>\n",
       "      <td>0.242804</td>\n",
       "      <td>0.100138</td>\n",
       "      <td>0.159939</td>\n",
       "      <td>0.114825</td>\n",
       "      <td>0.092189</td>\n",
       "      <td>0.049152</td>\n",
       "      <td>0.000707</td>\n",
       "    </tr>\n",
       "    <tr>\n",
       "      <th>6</th>\n",
       "      <td>en</td>\n",
       "      <td>https://en.wikipedia.org/wiki/Jayson_Musson</td>\n",
       "      <td>https://upload.wikimedia.org/wikipedia/commons...</td>\n",
       "      <td>Jayson Musson</td>\n",
       "      <td>NaN</td>\n",
       "      <td>Jayson Musson</td>\n",
       "      <td>Jayson Musson on October 29, 2007</td>\n",
       "      <td>English: Jayson Scott Musson on October 29, 2007</td>\n",
       "      <td>NaN</td>\n",
       "      <td>image/jpeg</td>\n",
       "      <td>...</td>\n",
       "      <td>0.039502</td>\n",
       "      <td>0.099427</td>\n",
       "      <td>0.014676</td>\n",
       "      <td>0.029506</td>\n",
       "      <td>0.070422</td>\n",
       "      <td>0.005971</td>\n",
       "      <td>0.074741</td>\n",
       "      <td>-0.048804</td>\n",
       "      <td>0.080995</td>\n",
       "      <td>0.058849</td>\n",
       "    </tr>\n",
       "    <tr>\n",
       "      <th>8</th>\n",
       "      <td>en</td>\n",
       "      <td>https://en.wikipedia.org/wiki/Euodynerus_megaera</td>\n",
       "      <td>https://upload.wikimedia.org/wikipedia/commons...</td>\n",
       "      <td>Euodynerus megaera</td>\n",
       "      <td>NaN</td>\n",
       "      <td>Euodynerus megaera</td>\n",
       "      <td>NaN</td>\n",
       "      <td>English: Euodynerus megaera</td>\n",
       "      <td>NaN</td>\n",
       "      <td>image/jpeg</td>\n",
       "      <td>...</td>\n",
       "      <td>-0.001021</td>\n",
       "      <td>0.228361</td>\n",
       "      <td>0.048696</td>\n",
       "      <td>0.085315</td>\n",
       "      <td>0.011682</td>\n",
       "      <td>0.014514</td>\n",
       "      <td>0.017038</td>\n",
       "      <td>0.056326</td>\n",
       "      <td>0.072097</td>\n",
       "      <td>-0.074919</td>\n",
       "    </tr>\n",
       "    <tr>\n",
       "      <th>9</th>\n",
       "      <td>en</td>\n",
       "      <td>https://en.wikipedia.org/wiki/Simon_W._Rosendale</td>\n",
       "      <td>https://upload.wikimedia.org/wikipedia/commons...</td>\n",
       "      <td>Simon W. Rosendale</td>\n",
       "      <td>NaN</td>\n",
       "      <td>Simon W. Rosendale</td>\n",
       "      <td>NaN</td>\n",
       "      <td>English: Simon Wolfe Rosendale (June 23, 1842 ...</td>\n",
       "      <td>NaN</td>\n",
       "      <td>image/jpeg</td>\n",
       "      <td>...</td>\n",
       "      <td>-0.090047</td>\n",
       "      <td>0.187481</td>\n",
       "      <td>0.014972</td>\n",
       "      <td>0.072903</td>\n",
       "      <td>0.095909</td>\n",
       "      <td>-0.034294</td>\n",
       "      <td>-0.033107</td>\n",
       "      <td>0.002574</td>\n",
       "      <td>0.047617</td>\n",
       "      <td>-0.055188</td>\n",
       "    </tr>\n",
       "    <tr>\n",
       "      <th>11</th>\n",
       "      <td>en</td>\n",
       "      <td>https://en.wikipedia.org/wiki/List_of_National...</td>\n",
       "      <td>https://upload.wikimedia.org/wikipedia/commons...</td>\n",
       "      <td>List of National Natural Landmarks in Florida</td>\n",
       "      <td>National Natural Landmarks</td>\n",
       "      <td>List of National Natural Landmarks in Florida ...</td>\n",
       "      <td>NaN</td>\n",
       "      <td>English: Photograph of Rainbow Springs in Mari...</td>\n",
       "      <td>NaN</td>\n",
       "      <td>image/jpeg</td>\n",
       "      <td>...</td>\n",
       "      <td>-0.003004</td>\n",
       "      <td>0.081639</td>\n",
       "      <td>0.025220</td>\n",
       "      <td>0.023916</td>\n",
       "      <td>0.054032</td>\n",
       "      <td>-0.045488</td>\n",
       "      <td>0.069793</td>\n",
       "      <td>0.064158</td>\n",
       "      <td>0.137453</td>\n",
       "      <td>0.027588</td>\n",
       "    </tr>\n",
       "    <tr>\n",
       "      <th>...</th>\n",
       "      <td>...</td>\n",
       "      <td>...</td>\n",
       "      <td>...</td>\n",
       "      <td>...</td>\n",
       "      <td>...</td>\n",
       "      <td>...</td>\n",
       "      <td>...</td>\n",
       "      <td>...</td>\n",
       "      <td>...</td>\n",
       "      <td>...</td>\n",
       "      <td>...</td>\n",
       "      <td>...</td>\n",
       "      <td>...</td>\n",
       "      <td>...</td>\n",
       "      <td>...</td>\n",
       "      <td>...</td>\n",
       "      <td>...</td>\n",
       "      <td>...</td>\n",
       "      <td>...</td>\n",
       "      <td>...</td>\n",
       "      <td>...</td>\n",
       "    </tr>\n",
       "    <tr>\n",
       "      <th>370348</th>\n",
       "      <td>en</td>\n",
       "      <td>https://en.wikipedia.org/wiki/National_Registe...</td>\n",
       "      <td>https://upload.wikimedia.org/wikipedia/commons...</td>\n",
       "      <td>National Register of Historic Places listings ...</td>\n",
       "      <td>NaN</td>\n",
       "      <td>National Register of Historic Places listings ...</td>\n",
       "      <td>NaN</td>\n",
       "      <td>English: This modern hardware store is located...</td>\n",
       "      <td>Patterson Brothers Commercial Building and House</td>\n",
       "      <td>image/jpeg</td>\n",
       "      <td>...</td>\n",
       "      <td>-0.017841</td>\n",
       "      <td>0.072777</td>\n",
       "      <td>0.070543</td>\n",
       "      <td>0.056938</td>\n",
       "      <td>0.045343</td>\n",
       "      <td>0.139604</td>\n",
       "      <td>0.047107</td>\n",
       "      <td>-0.021570</td>\n",
       "      <td>0.023648</td>\n",
       "      <td>-0.121596</td>\n",
       "    </tr>\n",
       "    <tr>\n",
       "      <th>370356</th>\n",
       "      <td>en</td>\n",
       "      <td>https://en.wikipedia.org/wiki/Varahi</td>\n",
       "      <td>http://upload.wikimedia.org/wikipedia/commons/...</td>\n",
       "      <td>Varahi</td>\n",
       "      <td>Temples</td>\n",
       "      <td>Varahi / Worship / Temples</td>\n",
       "      <td>Central icon of Varahi Chaurasi temple</td>\n",
       "      <td>English: ~ VARAHI above her Buffalo Vahana ~ c...</td>\n",
       "      <td>NaN</td>\n",
       "      <td>image/jpeg</td>\n",
       "      <td>...</td>\n",
       "      <td>-0.071147</td>\n",
       "      <td>-0.002449</td>\n",
       "      <td>0.106837</td>\n",
       "      <td>0.117681</td>\n",
       "      <td>0.105361</td>\n",
       "      <td>0.133187</td>\n",
       "      <td>0.159936</td>\n",
       "      <td>0.055258</td>\n",
       "      <td>-0.032383</td>\n",
       "      <td>0.083995</td>\n",
       "    </tr>\n",
       "    <tr>\n",
       "      <th>370357</th>\n",
       "      <td>en</td>\n",
       "      <td>https://en.wikipedia.org/wiki/Six-stroke_engine</td>\n",
       "      <td>http://upload.wikimedia.org/wikipedia/commons/...</td>\n",
       "      <td>Six-stroke engine</td>\n",
       "      <td>Griffin six-stroke engine</td>\n",
       "      <td>Six-stroke engine / Engine types / Single-pist...</td>\n",
       "      <td>The Kerr engine at the Anson Engine Museum</td>\n",
       "      <td>The Anson Engine Museum in Poynton, Cheshire c...</td>\n",
       "      <td>NaN</td>\n",
       "      <td>image/jpeg</td>\n",
       "      <td>...</td>\n",
       "      <td>0.008821</td>\n",
       "      <td>0.057514</td>\n",
       "      <td>0.027042</td>\n",
       "      <td>0.029014</td>\n",
       "      <td>0.227183</td>\n",
       "      <td>-0.073469</td>\n",
       "      <td>-0.033895</td>\n",
       "      <td>0.110050</td>\n",
       "      <td>0.051882</td>\n",
       "      <td>-0.016992</td>\n",
       "    </tr>\n",
       "    <tr>\n",
       "      <th>370358</th>\n",
       "      <td>en</td>\n",
       "      <td>https://en.wikipedia.org/wiki/Yi_Sun-sin</td>\n",
       "      <td>https://upload.wikimedia.org/wikipedia/commons...</td>\n",
       "      <td>Yi Sun-sin</td>\n",
       "      <td>Turtle Ships</td>\n",
       "      <td>Yi Sun-sin / Military career / Japanese invasi...</td>\n",
       "      <td>Drawing of a 16th-century turtle ship</td>\n",
       "      <td>16th century Korean turtle ship in a depiction...</td>\n",
       "      <td>NaN</td>\n",
       "      <td>image/jpeg</td>\n",
       "      <td>...</td>\n",
       "      <td>-0.061475</td>\n",
       "      <td>0.140242</td>\n",
       "      <td>-0.113468</td>\n",
       "      <td>-0.018239</td>\n",
       "      <td>0.068309</td>\n",
       "      <td>-0.109836</td>\n",
       "      <td>-0.111219</td>\n",
       "      <td>0.035423</td>\n",
       "      <td>0.065333</td>\n",
       "      <td>-0.001464</td>\n",
       "    </tr>\n",
       "    <tr>\n",
       "      <th>370368</th>\n",
       "      <td>en</td>\n",
       "      <td>https://en.wikipedia.org/wiki/Suillus_quiescens</td>\n",
       "      <td>https://upload.wikimedia.org/wikipedia/commons...</td>\n",
       "      <td>Suillus quiescens</td>\n",
       "      <td>Habitat and distribution</td>\n",
       "      <td>Suillus quiescens / Habitat and distribution</td>\n",
       "      <td>S. quiescens forms mycorrhizal associations wi...</td>\n",
       "      <td>English: Pinus muricata at the Dundee Botanic ...</td>\n",
       "      <td>NaN</td>\n",
       "      <td>image/jpeg</td>\n",
       "      <td>...</td>\n",
       "      <td>-0.015569</td>\n",
       "      <td>-0.012267</td>\n",
       "      <td>0.166583</td>\n",
       "      <td>0.095825</td>\n",
       "      <td>0.112611</td>\n",
       "      <td>-0.053186</td>\n",
       "      <td>0.081005</td>\n",
       "      <td>0.087032</td>\n",
       "      <td>0.073869</td>\n",
       "      <td>-0.087031</td>\n",
       "    </tr>\n",
       "  </tbody>\n",
       "</table>\n",
       "<p>54071 rows × 69 columns</p>\n",
       "</div>"
      ],
      "text/plain": [
       "       language                                           page_url  \\\n",
       "5            en    https://en.wikipedia.org/wiki/Chinatown,_Sydney   \n",
       "6            en        https://en.wikipedia.org/wiki/Jayson_Musson   \n",
       "8            en   https://en.wikipedia.org/wiki/Euodynerus_megaera   \n",
       "9            en   https://en.wikipedia.org/wiki/Simon_W._Rosendale   \n",
       "11           en  https://en.wikipedia.org/wiki/List_of_National...   \n",
       "...         ...                                                ...   \n",
       "370348       en  https://en.wikipedia.org/wiki/National_Registe...   \n",
       "370356       en               https://en.wikipedia.org/wiki/Varahi   \n",
       "370357       en    https://en.wikipedia.org/wiki/Six-stroke_engine   \n",
       "370358       en           https://en.wikipedia.org/wiki/Yi_Sun-sin   \n",
       "370368       en    https://en.wikipedia.org/wiki/Suillus_quiescens   \n",
       "\n",
       "                                                image_url  \\\n",
       "5       http://upload.wikimedia.org/wikipedia/commons/...   \n",
       "6       https://upload.wikimedia.org/wikipedia/commons...   \n",
       "8       https://upload.wikimedia.org/wikipedia/commons...   \n",
       "9       https://upload.wikimedia.org/wikipedia/commons...   \n",
       "11      https://upload.wikimedia.org/wikipedia/commons...   \n",
       "...                                                   ...   \n",
       "370348  https://upload.wikimedia.org/wikipedia/commons...   \n",
       "370356  http://upload.wikimedia.org/wikipedia/commons/...   \n",
       "370357  http://upload.wikimedia.org/wikipedia/commons/...   \n",
       "370358  https://upload.wikimedia.org/wikipedia/commons...   \n",
       "370368  https://upload.wikimedia.org/wikipedia/commons...   \n",
       "\n",
       "                                               page_title  \\\n",
       "5                                       Chinatown, Sydney   \n",
       "6                                           Jayson Musson   \n",
       "8                                      Euodynerus megaera   \n",
       "9                                      Simon W. Rosendale   \n",
       "11          List of National Natural Landmarks in Florida   \n",
       "...                                                   ...   \n",
       "370348  National Register of Historic Places listings ...   \n",
       "370356                                             Varahi   \n",
       "370357                                  Six-stroke engine   \n",
       "370358                                         Yi Sun-sin   \n",
       "370368                                  Suillus quiescens   \n",
       "\n",
       "                     section_title  \\\n",
       "5           Bilingual street signs   \n",
       "6                              NaN   \n",
       "8                              NaN   \n",
       "9                              NaN   \n",
       "11      National Natural Landmarks   \n",
       "...                            ...   \n",
       "370348                         NaN   \n",
       "370356                     Temples   \n",
       "370357   Griffin six-stroke engine   \n",
       "370358                Turtle Ships   \n",
       "370368    Habitat and distribution   \n",
       "\n",
       "                               hierarchical_section_title  \\\n",
       "5              Chinatown, Sydney / Bilingual street signs   \n",
       "6                                           Jayson Musson   \n",
       "8                                      Euodynerus megaera   \n",
       "9                                      Simon W. Rosendale   \n",
       "11      List of National Natural Landmarks in Florida ...   \n",
       "...                                                   ...   \n",
       "370348  National Register of Historic Places listings ...   \n",
       "370356                         Varahi / Worship / Temples   \n",
       "370357  Six-stroke engine / Engine types / Single-pist...   \n",
       "370358  Yi Sun-sin / Military career / Japanese invasi...   \n",
       "370368       Suillus quiescens / Habitat and distribution   \n",
       "\n",
       "                            caption_reference_description  \\\n",
       "5                                                     NaN   \n",
       "6                       Jayson Musson on October 29, 2007   \n",
       "8                                                     NaN   \n",
       "9                                                     NaN   \n",
       "11                                                    NaN   \n",
       "...                                                   ...   \n",
       "370348                                                NaN   \n",
       "370356             Central icon of Varahi Chaurasi temple   \n",
       "370357         The Kerr engine at the Anson Engine Museum   \n",
       "370358              Drawing of a 16th-century turtle ship   \n",
       "370368  S. quiescens forms mycorrhizal associations wi...   \n",
       "\n",
       "                          caption_attribution_description  \\\n",
       "5                         English: Hay Street 中文（繁體）‎: 禧街   \n",
       "6        English: Jayson Scott Musson on October 29, 2007   \n",
       "8                             English: Euodynerus megaera   \n",
       "9       English: Simon Wolfe Rosendale (June 23, 1842 ...   \n",
       "11      English: Photograph of Rainbow Springs in Mari...   \n",
       "...                                                   ...   \n",
       "370348  English: This modern hardware store is located...   \n",
       "370356  English: ~ VARAHI above her Buffalo Vahana ~ c...   \n",
       "370357  The Anson Engine Museum in Poynton, Cheshire c...   \n",
       "370358  16th century Korean turtle ship in a depiction...   \n",
       "370368  English: Pinus muricata at the Dundee Botanic ...   \n",
       "\n",
       "                            caption_alt_text_description   mime_type  ...  \\\n",
       "5                                                    NaN  image/jpeg  ...   \n",
       "6                                                    NaN  image/jpeg  ...   \n",
       "8                                                    NaN  image/jpeg  ...   \n",
       "9                                                    NaN  image/jpeg  ...   \n",
       "11                                                   NaN  image/jpeg  ...   \n",
       "...                                                  ...         ...  ...   \n",
       "370348  Patterson Brothers Commercial Building and House  image/jpeg  ...   \n",
       "370356                                               NaN  image/jpeg  ...   \n",
       "370357                                               NaN  image/jpeg  ...   \n",
       "370358                                               NaN  image/jpeg  ...   \n",
       "370368                                               NaN  image/jpeg  ...   \n",
       "\n",
       "        csim_112  csim_441  csim_296  csim_137  csim_192  csim_144   csim_12  \\\n",
       "5       0.161371  0.195378  0.026163  0.242804  0.100138  0.159939  0.114825   \n",
       "6       0.039502  0.099427  0.014676  0.029506  0.070422  0.005971  0.074741   \n",
       "8      -0.001021  0.228361  0.048696  0.085315  0.011682  0.014514  0.017038   \n",
       "9      -0.090047  0.187481  0.014972  0.072903  0.095909 -0.034294 -0.033107   \n",
       "11     -0.003004  0.081639  0.025220  0.023916  0.054032 -0.045488  0.069793   \n",
       "...          ...       ...       ...       ...       ...       ...       ...   \n",
       "370348 -0.017841  0.072777  0.070543  0.056938  0.045343  0.139604  0.047107   \n",
       "370356 -0.071147 -0.002449  0.106837  0.117681  0.105361  0.133187  0.159936   \n",
       "370357  0.008821  0.057514  0.027042  0.029014  0.227183 -0.073469 -0.033895   \n",
       "370358 -0.061475  0.140242 -0.113468 -0.018239  0.068309 -0.109836 -0.111219   \n",
       "370368 -0.015569 -0.012267  0.166583  0.095825  0.112611 -0.053186  0.081005   \n",
       "\n",
       "        csim_224  csim_376  csim_250  \n",
       "5       0.092189  0.049152  0.000707  \n",
       "6      -0.048804  0.080995  0.058849  \n",
       "8       0.056326  0.072097 -0.074919  \n",
       "9       0.002574  0.047617 -0.055188  \n",
       "11      0.064158  0.137453  0.027588  \n",
       "...          ...       ...       ...  \n",
       "370348 -0.021570  0.023648 -0.121596  \n",
       "370356  0.055258 -0.032383  0.083995  \n",
       "370357  0.110050  0.051882 -0.016992  \n",
       "370358  0.035423  0.065333 -0.001464  \n",
       "370368  0.087032  0.073869 -0.087031  \n",
       "\n",
       "[54071 rows x 69 columns]"
      ]
     },
     "execution_count": 42,
     "metadata": {},
     "output_type": "execute_result"
    }
   ],
   "source": [
    "df"
   ]
  },
  {
   "cell_type": "markdown",
   "id": "residential-provincial",
   "metadata": {},
   "source": [
    "### Parallelize"
   ]
  },
  {
   "cell_type": "code",
   "execution_count": 70,
   "id": "prerequisite-syria",
   "metadata": {},
   "outputs": [],
   "source": [
    "import dask.dataframe as dd\n",
    "import multiprocessing"
   ]
  },
  {
   "cell_type": "code",
   "execution_count": 73,
   "id": "packed-water",
   "metadata": {},
   "outputs": [
    {
     "data": {
      "text/plain": [
       "'crosswalk traffic signal crossing pedestrian stripe cross'"
      ]
     },
     "execution_count": 73,
     "metadata": {},
     "output_type": "execute_result"
    }
   ],
   "source": [
    "l1"
   ]
  },
  {
   "cell_type": "code",
   "execution_count": 76,
   "id": "divine-planner",
   "metadata": {},
   "outputs": [
    {
     "data": {
      "application/vnd.jupyter.widget-view+json": {
       "model_id": "2f18d682b3444b33a7e82460bb159eba",
       "version_major": 2,
       "version_minor": 0
      },
      "text/plain": [
       "  0%|          | 0/54071 [00:00<?, ?it/s]"
      ]
     },
     "metadata": {},
     "output_type": "display_data"
    },
    {
     "name": "stdout",
     "output_type": "stream",
     "text": [
      "CPU times: user 8min 48s, sys: 1min 12s, total: 10min 1s\n",
      "Wall time: 4min 8s\n"
     ]
    },
    {
     "data": {
      "text/plain": [
       "5         0.092002\n",
       "6        -0.008897\n",
       "8         0.032084\n",
       "9        -0.042296\n",
       "11        0.068807\n",
       "            ...   \n",
       "370348    0.017291\n",
       "370356    0.117951\n",
       "370357   -0.038741\n",
       "370358   -0.039372\n",
       "370368    0.054498\n",
       "Name: caption, Length: 54071, dtype: float32"
      ]
     },
     "execution_count": 76,
     "metadata": {},
     "output_type": "execute_result"
    }
   ],
   "source": [
    "%%time\n",
    "df['caption'].progress_apply(run_sim, v=l1)"
   ]
  },
  {
   "cell_type": "code",
   "execution_count": 83,
   "id": "ethical-kennedy",
   "metadata": {},
   "outputs": [],
   "source": [
    "# ddf = dd.from_pandas(df, npartitions=4 * multiprocessing.cpu_count())\n",
    "ddf = dd.from_pandas(df, npartitions=4 * multiprocessing.cpu_count())"
   ]
  },
  {
   "cell_type": "code",
   "execution_count": 89,
   "id": "distinct-freight",
   "metadata": {},
   "outputs": [
    {
     "name": "stdout",
     "output_type": "stream",
     "text": [
      "Fri Apr 15 19:18:54 CDT 2022\r\n"
     ]
    }
   ],
   "source": [
    "! date"
   ]
  },
  {
   "cell_type": "code",
   "execution_count": 90,
   "id": "spanish-newspaper",
   "metadata": {
    "scrolled": true
   },
   "outputs": [
    {
     "ename": "KeyboardInterrupt",
     "evalue": "",
     "output_type": "error",
     "traceback": [
      "\u001b[0;31m---------------------------------------------------------------------------\u001b[0m",
      "\u001b[0;31mKeyboardInterrupt\u001b[0m                         Traceback (most recent call last)",
      "\u001b[0;32m<ipython-input-90-73268f184b00>\u001b[0m in \u001b[0;36m<module>\u001b[0;34m\u001b[0m\n\u001b[0;32m----> 1\u001b[0;31m \u001b[0mget_ipython\u001b[0m\u001b[0;34m(\u001b[0m\u001b[0;34m)\u001b[0m\u001b[0;34m.\u001b[0m\u001b[0mrun_cell_magic\u001b[0m\u001b[0;34m(\u001b[0m\u001b[0;34m'timeit'\u001b[0m\u001b[0;34m,\u001b[0m \u001b[0;34m''\u001b[0m\u001b[0;34m,\u001b[0m \u001b[0;34m\"ddf ['z'] = ddf.map_partitions(lambda df1: df1.apply((lambda row:get_similarity1(row.caption, l1)), axis=1)).compute()\\n\"\u001b[0m\u001b[0;34m)\u001b[0m\u001b[0;34m\u001b[0m\u001b[0;34m\u001b[0m\u001b[0m\n\u001b[0m",
      "\u001b[0;32m~/.pyenv/versions/3.7.6/lib/python3.7/site-packages/IPython/core/interactiveshell.py\u001b[0m in \u001b[0;36mrun_cell_magic\u001b[0;34m(self, magic_name, line, cell)\u001b[0m\n\u001b[1;32m   2380\u001b[0m             \u001b[0;32mwith\u001b[0m \u001b[0mself\u001b[0m\u001b[0;34m.\u001b[0m\u001b[0mbuiltin_trap\u001b[0m\u001b[0;34m:\u001b[0m\u001b[0;34m\u001b[0m\u001b[0;34m\u001b[0m\u001b[0m\n\u001b[1;32m   2381\u001b[0m                 \u001b[0margs\u001b[0m \u001b[0;34m=\u001b[0m \u001b[0;34m(\u001b[0m\u001b[0mmagic_arg_s\u001b[0m\u001b[0;34m,\u001b[0m \u001b[0mcell\u001b[0m\u001b[0;34m)\u001b[0m\u001b[0;34m\u001b[0m\u001b[0;34m\u001b[0m\u001b[0m\n\u001b[0;32m-> 2382\u001b[0;31m                 \u001b[0mresult\u001b[0m \u001b[0;34m=\u001b[0m \u001b[0mfn\u001b[0m\u001b[0;34m(\u001b[0m\u001b[0;34m*\u001b[0m\u001b[0margs\u001b[0m\u001b[0;34m,\u001b[0m \u001b[0;34m**\u001b[0m\u001b[0mkwargs\u001b[0m\u001b[0;34m)\u001b[0m\u001b[0;34m\u001b[0m\u001b[0;34m\u001b[0m\u001b[0m\n\u001b[0m\u001b[1;32m   2383\u001b[0m             \u001b[0;32mreturn\u001b[0m \u001b[0mresult\u001b[0m\u001b[0;34m\u001b[0m\u001b[0;34m\u001b[0m\u001b[0m\n\u001b[1;32m   2384\u001b[0m \u001b[0;34m\u001b[0m\u001b[0m\n",
      "\u001b[0;32m<decorator-gen-53>\u001b[0m in \u001b[0;36mtimeit\u001b[0;34m(self, line, cell, local_ns)\u001b[0m\n",
      "\u001b[0;32m~/.pyenv/versions/3.7.6/lib/python3.7/site-packages/IPython/core/magic.py\u001b[0m in \u001b[0;36m<lambda>\u001b[0;34m(f, *a, **k)\u001b[0m\n\u001b[1;32m    185\u001b[0m     \u001b[0;31m# but it's overkill for just that one bit of state.\u001b[0m\u001b[0;34m\u001b[0m\u001b[0;34m\u001b[0m\u001b[0;34m\u001b[0m\u001b[0m\n\u001b[1;32m    186\u001b[0m     \u001b[0;32mdef\u001b[0m \u001b[0mmagic_deco\u001b[0m\u001b[0;34m(\u001b[0m\u001b[0marg\u001b[0m\u001b[0;34m)\u001b[0m\u001b[0;34m:\u001b[0m\u001b[0;34m\u001b[0m\u001b[0;34m\u001b[0m\u001b[0m\n\u001b[0;32m--> 187\u001b[0;31m         \u001b[0mcall\u001b[0m \u001b[0;34m=\u001b[0m \u001b[0;32mlambda\u001b[0m \u001b[0mf\u001b[0m\u001b[0;34m,\u001b[0m \u001b[0;34m*\u001b[0m\u001b[0ma\u001b[0m\u001b[0;34m,\u001b[0m \u001b[0;34m**\u001b[0m\u001b[0mk\u001b[0m\u001b[0;34m:\u001b[0m \u001b[0mf\u001b[0m\u001b[0;34m(\u001b[0m\u001b[0;34m*\u001b[0m\u001b[0ma\u001b[0m\u001b[0;34m,\u001b[0m \u001b[0;34m**\u001b[0m\u001b[0mk\u001b[0m\u001b[0;34m)\u001b[0m\u001b[0;34m\u001b[0m\u001b[0;34m\u001b[0m\u001b[0m\n\u001b[0m\u001b[1;32m    188\u001b[0m \u001b[0;34m\u001b[0m\u001b[0m\n\u001b[1;32m    189\u001b[0m         \u001b[0;32mif\u001b[0m \u001b[0mcallable\u001b[0m\u001b[0;34m(\u001b[0m\u001b[0marg\u001b[0m\u001b[0;34m)\u001b[0m\u001b[0;34m:\u001b[0m\u001b[0;34m\u001b[0m\u001b[0;34m\u001b[0m\u001b[0m\n",
      "\u001b[0;32m~/.pyenv/versions/3.7.6/lib/python3.7/site-packages/IPython/core/magics/execution.py\u001b[0m in \u001b[0;36mtimeit\u001b[0;34m(self, line, cell, local_ns)\u001b[0m\n\u001b[1;32m   1171\u001b[0m                     \u001b[0;32mbreak\u001b[0m\u001b[0;34m\u001b[0m\u001b[0;34m\u001b[0m\u001b[0m\n\u001b[1;32m   1172\u001b[0m \u001b[0;34m\u001b[0m\u001b[0m\n\u001b[0;32m-> 1173\u001b[0;31m         \u001b[0mall_runs\u001b[0m \u001b[0;34m=\u001b[0m \u001b[0mtimer\u001b[0m\u001b[0;34m.\u001b[0m\u001b[0mrepeat\u001b[0m\u001b[0;34m(\u001b[0m\u001b[0mrepeat\u001b[0m\u001b[0;34m,\u001b[0m \u001b[0mnumber\u001b[0m\u001b[0;34m)\u001b[0m\u001b[0;34m\u001b[0m\u001b[0;34m\u001b[0m\u001b[0m\n\u001b[0m\u001b[1;32m   1174\u001b[0m         \u001b[0mbest\u001b[0m \u001b[0;34m=\u001b[0m \u001b[0mmin\u001b[0m\u001b[0;34m(\u001b[0m\u001b[0mall_runs\u001b[0m\u001b[0;34m)\u001b[0m \u001b[0;34m/\u001b[0m \u001b[0mnumber\u001b[0m\u001b[0;34m\u001b[0m\u001b[0;34m\u001b[0m\u001b[0m\n\u001b[1;32m   1175\u001b[0m         \u001b[0mworst\u001b[0m \u001b[0;34m=\u001b[0m \u001b[0mmax\u001b[0m\u001b[0;34m(\u001b[0m\u001b[0mall_runs\u001b[0m\u001b[0;34m)\u001b[0m \u001b[0;34m/\u001b[0m \u001b[0mnumber\u001b[0m\u001b[0;34m\u001b[0m\u001b[0;34m\u001b[0m\u001b[0m\n",
      "\u001b[0;32m~/.pyenv/versions/3.7.6/lib/python3.7/timeit.py\u001b[0m in \u001b[0;36mrepeat\u001b[0;34m(self, repeat, number)\u001b[0m\n\u001b[1;32m    202\u001b[0m         \u001b[0mr\u001b[0m \u001b[0;34m=\u001b[0m \u001b[0;34m[\u001b[0m\u001b[0;34m]\u001b[0m\u001b[0;34m\u001b[0m\u001b[0;34m\u001b[0m\u001b[0m\n\u001b[1;32m    203\u001b[0m         \u001b[0;32mfor\u001b[0m \u001b[0mi\u001b[0m \u001b[0;32min\u001b[0m \u001b[0mrange\u001b[0m\u001b[0;34m(\u001b[0m\u001b[0mrepeat\u001b[0m\u001b[0;34m)\u001b[0m\u001b[0;34m:\u001b[0m\u001b[0;34m\u001b[0m\u001b[0;34m\u001b[0m\u001b[0m\n\u001b[0;32m--> 204\u001b[0;31m             \u001b[0mt\u001b[0m \u001b[0;34m=\u001b[0m \u001b[0mself\u001b[0m\u001b[0;34m.\u001b[0m\u001b[0mtimeit\u001b[0m\u001b[0;34m(\u001b[0m\u001b[0mnumber\u001b[0m\u001b[0;34m)\u001b[0m\u001b[0;34m\u001b[0m\u001b[0;34m\u001b[0m\u001b[0m\n\u001b[0m\u001b[1;32m    205\u001b[0m             \u001b[0mr\u001b[0m\u001b[0;34m.\u001b[0m\u001b[0mappend\u001b[0m\u001b[0;34m(\u001b[0m\u001b[0mt\u001b[0m\u001b[0;34m)\u001b[0m\u001b[0;34m\u001b[0m\u001b[0;34m\u001b[0m\u001b[0m\n\u001b[1;32m    206\u001b[0m         \u001b[0;32mreturn\u001b[0m \u001b[0mr\u001b[0m\u001b[0;34m\u001b[0m\u001b[0;34m\u001b[0m\u001b[0m\n",
      "\u001b[0;32m~/.pyenv/versions/3.7.6/lib/python3.7/site-packages/IPython/core/magics/execution.py\u001b[0m in \u001b[0;36mtimeit\u001b[0;34m(self, number)\u001b[0m\n\u001b[1;32m    167\u001b[0m         \u001b[0mgc\u001b[0m\u001b[0;34m.\u001b[0m\u001b[0mdisable\u001b[0m\u001b[0;34m(\u001b[0m\u001b[0;34m)\u001b[0m\u001b[0;34m\u001b[0m\u001b[0;34m\u001b[0m\u001b[0m\n\u001b[1;32m    168\u001b[0m         \u001b[0;32mtry\u001b[0m\u001b[0;34m:\u001b[0m\u001b[0;34m\u001b[0m\u001b[0;34m\u001b[0m\u001b[0m\n\u001b[0;32m--> 169\u001b[0;31m             \u001b[0mtiming\u001b[0m \u001b[0;34m=\u001b[0m \u001b[0mself\u001b[0m\u001b[0;34m.\u001b[0m\u001b[0minner\u001b[0m\u001b[0;34m(\u001b[0m\u001b[0mit\u001b[0m\u001b[0;34m,\u001b[0m \u001b[0mself\u001b[0m\u001b[0;34m.\u001b[0m\u001b[0mtimer\u001b[0m\u001b[0;34m)\u001b[0m\u001b[0;34m\u001b[0m\u001b[0;34m\u001b[0m\u001b[0m\n\u001b[0m\u001b[1;32m    170\u001b[0m         \u001b[0;32mfinally\u001b[0m\u001b[0;34m:\u001b[0m\u001b[0;34m\u001b[0m\u001b[0;34m\u001b[0m\u001b[0m\n\u001b[1;32m    171\u001b[0m             \u001b[0;32mif\u001b[0m \u001b[0mgcold\u001b[0m\u001b[0;34m:\u001b[0m\u001b[0;34m\u001b[0m\u001b[0;34m\u001b[0m\u001b[0m\n",
      "\u001b[0;32m<magic-timeit>\u001b[0m in \u001b[0;36minner\u001b[0;34m(_it, _timer)\u001b[0m\n",
      "\u001b[0;32m~/.pyenv/versions/3.7.6/lib/python3.7/site-packages/dask/base.py\u001b[0m in \u001b[0;36mcompute\u001b[0;34m(self, **kwargs)\u001b[0m\n\u001b[1;32m    288\u001b[0m         \u001b[0mdask\u001b[0m\u001b[0;34m.\u001b[0m\u001b[0mbase\u001b[0m\u001b[0;34m.\u001b[0m\u001b[0mcompute\u001b[0m\u001b[0;34m\u001b[0m\u001b[0;34m\u001b[0m\u001b[0m\n\u001b[1;32m    289\u001b[0m         \"\"\"\n\u001b[0;32m--> 290\u001b[0;31m         \u001b[0;34m(\u001b[0m\u001b[0mresult\u001b[0m\u001b[0;34m,\u001b[0m\u001b[0;34m)\u001b[0m \u001b[0;34m=\u001b[0m \u001b[0mcompute\u001b[0m\u001b[0;34m(\u001b[0m\u001b[0mself\u001b[0m\u001b[0;34m,\u001b[0m \u001b[0mtraverse\u001b[0m\u001b[0;34m=\u001b[0m\u001b[0;32mFalse\u001b[0m\u001b[0;34m,\u001b[0m \u001b[0;34m**\u001b[0m\u001b[0mkwargs\u001b[0m\u001b[0;34m)\u001b[0m\u001b[0;34m\u001b[0m\u001b[0;34m\u001b[0m\u001b[0m\n\u001b[0m\u001b[1;32m    291\u001b[0m         \u001b[0;32mreturn\u001b[0m \u001b[0mresult\u001b[0m\u001b[0;34m\u001b[0m\u001b[0;34m\u001b[0m\u001b[0m\n\u001b[1;32m    292\u001b[0m \u001b[0;34m\u001b[0m\u001b[0m\n",
      "\u001b[0;32m~/.pyenv/versions/3.7.6/lib/python3.7/site-packages/dask/base.py\u001b[0m in \u001b[0;36mcompute\u001b[0;34m(traverse, optimize_graph, scheduler, get, *args, **kwargs)\u001b[0m\n\u001b[1;32m    571\u001b[0m         \u001b[0mpostcomputes\u001b[0m\u001b[0;34m.\u001b[0m\u001b[0mappend\u001b[0m\u001b[0;34m(\u001b[0m\u001b[0mx\u001b[0m\u001b[0;34m.\u001b[0m\u001b[0m__dask_postcompute__\u001b[0m\u001b[0;34m(\u001b[0m\u001b[0;34m)\u001b[0m\u001b[0;34m)\u001b[0m\u001b[0;34m\u001b[0m\u001b[0;34m\u001b[0m\u001b[0m\n\u001b[1;32m    572\u001b[0m \u001b[0;34m\u001b[0m\u001b[0m\n\u001b[0;32m--> 573\u001b[0;31m     \u001b[0mresults\u001b[0m \u001b[0;34m=\u001b[0m \u001b[0mschedule\u001b[0m\u001b[0;34m(\u001b[0m\u001b[0mdsk\u001b[0m\u001b[0;34m,\u001b[0m \u001b[0mkeys\u001b[0m\u001b[0;34m,\u001b[0m \u001b[0;34m**\u001b[0m\u001b[0mkwargs\u001b[0m\u001b[0;34m)\u001b[0m\u001b[0;34m\u001b[0m\u001b[0;34m\u001b[0m\u001b[0m\n\u001b[0m\u001b[1;32m    574\u001b[0m     \u001b[0;32mreturn\u001b[0m \u001b[0mrepack\u001b[0m\u001b[0;34m(\u001b[0m\u001b[0;34m[\u001b[0m\u001b[0mf\u001b[0m\u001b[0;34m(\u001b[0m\u001b[0mr\u001b[0m\u001b[0;34m,\u001b[0m \u001b[0;34m*\u001b[0m\u001b[0ma\u001b[0m\u001b[0;34m)\u001b[0m \u001b[0;32mfor\u001b[0m \u001b[0mr\u001b[0m\u001b[0;34m,\u001b[0m \u001b[0;34m(\u001b[0m\u001b[0mf\u001b[0m\u001b[0;34m,\u001b[0m \u001b[0ma\u001b[0m\u001b[0;34m)\u001b[0m \u001b[0;32min\u001b[0m \u001b[0mzip\u001b[0m\u001b[0;34m(\u001b[0m\u001b[0mresults\u001b[0m\u001b[0;34m,\u001b[0m \u001b[0mpostcomputes\u001b[0m\u001b[0;34m)\u001b[0m\u001b[0;34m]\u001b[0m\u001b[0;34m)\u001b[0m\u001b[0;34m\u001b[0m\u001b[0;34m\u001b[0m\u001b[0m\n\u001b[1;32m    575\u001b[0m \u001b[0;34m\u001b[0m\u001b[0m\n",
      "\u001b[0;32m~/.pyenv/versions/3.7.6/lib/python3.7/site-packages/dask/threaded.py\u001b[0m in \u001b[0;36mget\u001b[0;34m(dsk, result, cache, num_workers, pool, **kwargs)\u001b[0m\n\u001b[1;32m     87\u001b[0m         \u001b[0mget_id\u001b[0m\u001b[0;34m=\u001b[0m\u001b[0m_thread_get_id\u001b[0m\u001b[0;34m,\u001b[0m\u001b[0;34m\u001b[0m\u001b[0;34m\u001b[0m\u001b[0m\n\u001b[1;32m     88\u001b[0m         \u001b[0mpack_exception\u001b[0m\u001b[0;34m=\u001b[0m\u001b[0mpack_exception\u001b[0m\u001b[0;34m,\u001b[0m\u001b[0;34m\u001b[0m\u001b[0;34m\u001b[0m\u001b[0m\n\u001b[0;32m---> 89\u001b[0;31m         \u001b[0;34m**\u001b[0m\u001b[0mkwargs\u001b[0m\u001b[0;34m,\u001b[0m\u001b[0;34m\u001b[0m\u001b[0;34m\u001b[0m\u001b[0m\n\u001b[0m\u001b[1;32m     90\u001b[0m     )\n\u001b[1;32m     91\u001b[0m \u001b[0;34m\u001b[0m\u001b[0m\n",
      "\u001b[0;32m~/.pyenv/versions/3.7.6/lib/python3.7/site-packages/dask/local.py\u001b[0m in \u001b[0;36mget_async\u001b[0;34m(submit, num_workers, dsk, result, cache, get_id, rerun_exceptions_locally, pack_exception, raise_exception, callbacks, dumps, loads, chunksize, **kwargs)\u001b[0m\n\u001b[1;32m    493\u001b[0m             \u001b[0;32mwhile\u001b[0m \u001b[0mstate\u001b[0m\u001b[0;34m[\u001b[0m\u001b[0;34m\"waiting\"\u001b[0m\u001b[0;34m]\u001b[0m \u001b[0;32mor\u001b[0m \u001b[0mstate\u001b[0m\u001b[0;34m[\u001b[0m\u001b[0;34m\"ready\"\u001b[0m\u001b[0;34m]\u001b[0m \u001b[0;32mor\u001b[0m \u001b[0mstate\u001b[0m\u001b[0;34m[\u001b[0m\u001b[0;34m\"running\"\u001b[0m\u001b[0;34m]\u001b[0m\u001b[0;34m:\u001b[0m\u001b[0;34m\u001b[0m\u001b[0;34m\u001b[0m\u001b[0m\n\u001b[1;32m    494\u001b[0m                 \u001b[0mfire_tasks\u001b[0m\u001b[0;34m(\u001b[0m\u001b[0mchunksize\u001b[0m\u001b[0;34m)\u001b[0m\u001b[0;34m\u001b[0m\u001b[0;34m\u001b[0m\u001b[0m\n\u001b[0;32m--> 495\u001b[0;31m                 \u001b[0;32mfor\u001b[0m \u001b[0mkey\u001b[0m\u001b[0;34m,\u001b[0m \u001b[0mres_info\u001b[0m\u001b[0;34m,\u001b[0m \u001b[0mfailed\u001b[0m \u001b[0;32min\u001b[0m \u001b[0mqueue_get\u001b[0m\u001b[0;34m(\u001b[0m\u001b[0mqueue\u001b[0m\u001b[0;34m)\u001b[0m\u001b[0;34m.\u001b[0m\u001b[0mresult\u001b[0m\u001b[0;34m(\u001b[0m\u001b[0;34m)\u001b[0m\u001b[0;34m:\u001b[0m\u001b[0;34m\u001b[0m\u001b[0;34m\u001b[0m\u001b[0m\n\u001b[0m\u001b[1;32m    496\u001b[0m                     \u001b[0;32mif\u001b[0m \u001b[0mfailed\u001b[0m\u001b[0;34m:\u001b[0m\u001b[0;34m\u001b[0m\u001b[0;34m\u001b[0m\u001b[0m\n\u001b[1;32m    497\u001b[0m                         \u001b[0mexc\u001b[0m\u001b[0;34m,\u001b[0m \u001b[0mtb\u001b[0m \u001b[0;34m=\u001b[0m \u001b[0mloads\u001b[0m\u001b[0;34m(\u001b[0m\u001b[0mres_info\u001b[0m\u001b[0;34m)\u001b[0m\u001b[0;34m\u001b[0m\u001b[0;34m\u001b[0m\u001b[0m\n",
      "\u001b[0;32m~/.pyenv/versions/3.7.6/lib/python3.7/site-packages/dask/local.py\u001b[0m in \u001b[0;36mqueue_get\u001b[0;34m(q)\u001b[0m\n\u001b[1;32m    131\u001b[0m \u001b[0;34m\u001b[0m\u001b[0m\n\u001b[1;32m    132\u001b[0m     \u001b[0;32mdef\u001b[0m \u001b[0mqueue_get\u001b[0m\u001b[0;34m(\u001b[0m\u001b[0mq\u001b[0m\u001b[0;34m)\u001b[0m\u001b[0;34m:\u001b[0m\u001b[0;34m\u001b[0m\u001b[0;34m\u001b[0m\u001b[0m\n\u001b[0;32m--> 133\u001b[0;31m         \u001b[0;32mreturn\u001b[0m \u001b[0mq\u001b[0m\u001b[0;34m.\u001b[0m\u001b[0mget\u001b[0m\u001b[0;34m(\u001b[0m\u001b[0;34m)\u001b[0m\u001b[0;34m\u001b[0m\u001b[0;34m\u001b[0m\u001b[0m\n\u001b[0m\u001b[1;32m    134\u001b[0m \u001b[0;34m\u001b[0m\u001b[0m\n\u001b[1;32m    135\u001b[0m \u001b[0;34m\u001b[0m\u001b[0m\n",
      "\u001b[0;32m~/.pyenv/versions/3.7.6/lib/python3.7/queue.py\u001b[0m in \u001b[0;36mget\u001b[0;34m(self, block, timeout)\u001b[0m\n\u001b[1;32m    168\u001b[0m             \u001b[0;32melif\u001b[0m \u001b[0mtimeout\u001b[0m \u001b[0;32mis\u001b[0m \u001b[0;32mNone\u001b[0m\u001b[0;34m:\u001b[0m\u001b[0;34m\u001b[0m\u001b[0;34m\u001b[0m\u001b[0m\n\u001b[1;32m    169\u001b[0m                 \u001b[0;32mwhile\u001b[0m \u001b[0;32mnot\u001b[0m \u001b[0mself\u001b[0m\u001b[0;34m.\u001b[0m\u001b[0m_qsize\u001b[0m\u001b[0;34m(\u001b[0m\u001b[0;34m)\u001b[0m\u001b[0;34m:\u001b[0m\u001b[0;34m\u001b[0m\u001b[0;34m\u001b[0m\u001b[0m\n\u001b[0;32m--> 170\u001b[0;31m                     \u001b[0mself\u001b[0m\u001b[0;34m.\u001b[0m\u001b[0mnot_empty\u001b[0m\u001b[0;34m.\u001b[0m\u001b[0mwait\u001b[0m\u001b[0;34m(\u001b[0m\u001b[0;34m)\u001b[0m\u001b[0;34m\u001b[0m\u001b[0;34m\u001b[0m\u001b[0m\n\u001b[0m\u001b[1;32m    171\u001b[0m             \u001b[0;32melif\u001b[0m \u001b[0mtimeout\u001b[0m \u001b[0;34m<\u001b[0m \u001b[0;36m0\u001b[0m\u001b[0;34m:\u001b[0m\u001b[0;34m\u001b[0m\u001b[0;34m\u001b[0m\u001b[0m\n\u001b[1;32m    172\u001b[0m                 \u001b[0;32mraise\u001b[0m \u001b[0mValueError\u001b[0m\u001b[0;34m(\u001b[0m\u001b[0;34m\"'timeout' must be a non-negative number\"\u001b[0m\u001b[0;34m)\u001b[0m\u001b[0;34m\u001b[0m\u001b[0;34m\u001b[0m\u001b[0m\n",
      "\u001b[0;32m~/.pyenv/versions/3.7.6/lib/python3.7/threading.py\u001b[0m in \u001b[0;36mwait\u001b[0;34m(self, timeout)\u001b[0m\n\u001b[1;32m    294\u001b[0m         \u001b[0;32mtry\u001b[0m\u001b[0;34m:\u001b[0m    \u001b[0;31m# restore state no matter what (e.g., KeyboardInterrupt)\u001b[0m\u001b[0;34m\u001b[0m\u001b[0;34m\u001b[0m\u001b[0m\n\u001b[1;32m    295\u001b[0m             \u001b[0;32mif\u001b[0m \u001b[0mtimeout\u001b[0m \u001b[0;32mis\u001b[0m \u001b[0;32mNone\u001b[0m\u001b[0;34m:\u001b[0m\u001b[0;34m\u001b[0m\u001b[0;34m\u001b[0m\u001b[0m\n\u001b[0;32m--> 296\u001b[0;31m                 \u001b[0mwaiter\u001b[0m\u001b[0;34m.\u001b[0m\u001b[0macquire\u001b[0m\u001b[0;34m(\u001b[0m\u001b[0;34m)\u001b[0m\u001b[0;34m\u001b[0m\u001b[0;34m\u001b[0m\u001b[0m\n\u001b[0m\u001b[1;32m    297\u001b[0m                 \u001b[0mgotit\u001b[0m \u001b[0;34m=\u001b[0m \u001b[0;32mTrue\u001b[0m\u001b[0;34m\u001b[0m\u001b[0;34m\u001b[0m\u001b[0m\n\u001b[1;32m    298\u001b[0m             \u001b[0;32melse\u001b[0m\u001b[0;34m:\u001b[0m\u001b[0;34m\u001b[0m\u001b[0;34m\u001b[0m\u001b[0m\n",
      "\u001b[0;31mKeyboardInterrupt\u001b[0m: "
     ]
    }
   ],
   "source": [
    "%%timeit\n",
    "ddf ['z'] = ddf.map_partitions(lambda df1: df1.apply((lambda row:get_similarity1(row.caption, l1)), axis=1)).compute()"
   ]
  },
  {
   "cell_type": "code",
   "execution_count": 91,
   "id": "perceived-definition",
   "metadata": {},
   "outputs": [
    {
     "name": "stdout",
     "output_type": "stream",
     "text": [
      "Fri Apr 15 19:28:44 CDT 2022\r\n"
     ]
    }
   ],
   "source": [
    "! date"
   ]
  },
  {
   "cell_type": "code",
   "execution_count": 87,
   "id": "medical-correspondence",
   "metadata": {},
   "outputs": [
    {
     "data": {
      "application/vnd.jupyter.widget-view+json": {
       "model_id": "2c5209365f794e9dad131db14287f19a",
       "version_major": 2,
       "version_minor": 0
      },
      "text/plain": [
       "Pandas Apply:   0%|          | 0/54071 [00:00<?, ?it/s]"
      ]
     },
     "metadata": {},
     "output_type": "display_data"
    },
    {
     "name": "stdout",
     "output_type": "stream",
     "text": [
      "CPU times: user 9min 23s, sys: 1min 17s, total: 10min 41s\n",
      "Wall time: 4min 22s\n"
     ]
    },
    {
     "data": {
      "text/plain": [
       "5         0.092002\n",
       "6        -0.008897\n",
       "8         0.032084\n",
       "9        -0.042296\n",
       "11        0.068807\n",
       "            ...   \n",
       "370348    0.017291\n",
       "370356    0.117951\n",
       "370357   -0.038741\n",
       "370358   -0.039372\n",
       "370368    0.054498\n",
       "Name: caption, Length: 54071, dtype: float32"
      ]
     },
     "execution_count": 87,
     "metadata": {},
     "output_type": "execute_result"
    }
   ],
   "source": [
    "%%time\n",
    "df['caption'].swifter.apply(run_sim, v=l1)"
   ]
  },
  {
   "cell_type": "code",
   "execution_count": 88,
   "id": "tested-situation",
   "metadata": {},
   "outputs": [
    {
     "name": "stdout",
     "output_type": "stream",
     "text": [
      "Fri Apr 15 19:17:03 CDT 2022\r\n"
     ]
    }
   ],
   "source": [
    "! date"
   ]
  },
  {
   "cell_type": "markdown",
   "id": "false-basics",
   "metadata": {},
   "source": [
    "### Parallelize Pandas map()"
   ]
  },
  {
   "cell_type": "code",
   "execution_count": 94,
   "id": "hindu-explorer",
   "metadata": {},
   "outputs": [],
   "source": [
    "from multiprocessing import cpu_count, Pool\n",
    "from functools import partial\n",
    "partitions = cpu_count() #Define as many partitions as you want"
   ]
  },
  {
   "cell_type": "code",
   "execution_count": 95,
   "id": "north-transaction",
   "metadata": {},
   "outputs": [],
   "source": [
    "def add_features(daf, i_tuple):\n",
    "    topic = i_tuple[0]\n",
    "    l1 = i_tuple[1]\n",
    "    daf[f'csim_{top}'] = daf['caption'].apply(run_sim, v=l1)\n",
    "    return daf"
   ]
  },
  {
   "cell_type": "code",
   "execution_count": 96,
   "id": "connected-parker",
   "metadata": {},
   "outputs": [],
   "source": [
    "def parallelize_dataframe(df, func, topic_s=\"test\", topic_n=0, n_cores=4):\n",
    "    df_split = np.array_split(df, n_cores)\n",
    "    pool = Pool(n_cores)\n",
    "    df = pd.concat(pool.map(partial(func, (topic_n, topic_s)), df_split))\n",
    "    pool.close()\n",
    "    pool.join()\n",
    "    return df"
   ]
  },
  {
   "cell_type": "code",
   "execution_count": 102,
   "id": "human-lucas",
   "metadata": {},
   "outputs": [],
   "source": [
    "def parallelize_dataframe(df, func, n_cores=4):\n",
    "    df_split = np.array_split(df, n_cores)\n",
    "    pool = Pool(n_cores)\n",
    "    df = pd.concat(pool.map(func, df_split))\n",
    "    pool.close()\n",
    "    pool.join()\n",
    "    return df"
   ]
  },
  {
   "cell_type": "code",
   "execution_count": 103,
   "id": "square-motel",
   "metadata": {},
   "outputs": [],
   "source": [
    "def add_features(daf):\n",
    "    l1 = 'crosswalk traffic signal crossing pedestrian stripe cross'\n",
    "    daf[f'196'] = daf['caption'].apply(run_sim, v=l1)\n",
    "    return daf"
   ]
  },
  {
   "cell_type": "code",
   "execution_count": 97,
   "id": "bronze-midnight",
   "metadata": {},
   "outputs": [
    {
     "data": {
      "text/plain": [
       "'crosswalk traffic signal crossing pedestrian stripe cross'"
      ]
     },
     "execution_count": 97,
     "metadata": {},
     "output_type": "execute_result"
    }
   ],
   "source": [
    "l1"
   ]
  },
  {
   "cell_type": "code",
   "execution_count": 104,
   "id": "retained-major",
   "metadata": {},
   "outputs": [
    {
     "name": "stdout",
     "output_type": "stream",
     "text": [
      "Fri Apr 15 19:51:48 CDT 2022\r\n"
     ]
    }
   ],
   "source": [
    "! date"
   ]
  },
  {
   "cell_type": "code",
   "execution_count": 105,
   "id": "talented-study",
   "metadata": {},
   "outputs": [],
   "source": [
    "%%time\n",
    "train = parallelize_dataframe(df, add_features, n_cores=32)"
   ]
  },
  {
   "cell_type": "code",
   "execution_count": 111,
   "id": "catholic-botswana",
   "metadata": {},
   "outputs": [],
   "source": [
    "! date"
   ]
  },
  {
   "cell_type": "code",
   "execution_count": 110,
   "id": "alternative-driving",
   "metadata": {},
   "outputs": [],
   "source": [
    "train"
   ]
  }
 ],
 "metadata": {
  "kernelspec": {
   "display_name": "Python 3",
   "language": "python",
   "name": "python3"
  },
  "language_info": {
   "codemirror_mode": {
    "name": "ipython",
    "version": 3
   },
   "file_extension": ".py",
   "mimetype": "text/x-python",
   "name": "python",
   "nbconvert_exporter": "python",
   "pygments_lexer": "ipython3",
   "version": "3.7.6"
  }
 },
 "nbformat": 4,
 "nbformat_minor": 5
}
